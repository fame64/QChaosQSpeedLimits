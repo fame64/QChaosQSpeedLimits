{
 "cells": [
  {
   "cell_type": "code",
   "execution_count": 26,
   "metadata": {},
   "outputs": [],
   "source": [
    "import numpy as np\n",
    "import numba\n",
    "from numba.types import *\n",
    "from numba import prange\n",
    "import matplotlib.pyplot as plt\n",
    "from numpy.linalg import eig, multi_dot, inv, matrix_power, eigh\n",
    "from scipy.optimize import curve_fit\n",
    "from matplotlib import rcParams\n",
    "rcParams['mathtext.fontset'] = 'stix'\n",
    "rcParams['font.family'] = 'STIXGeneral'\n",
    "rcParams['font.size']=20\n",
    "from scipy.linalg import expm, sqrtm\n",
    "from scipy.stats import linregress\n",
    "from math import acos, factorial\n",
    "from scipy.special import eval_genlaguerre, gamma, hyp1f1"
   ]
  },
  {
   "cell_type": "code",
   "execution_count": 27,
   "metadata": {},
   "outputs": [],
   "source": [
    "dim=30\n",
    "A=1 #Probability distribution will be P~exp(-A x^2)\n",
    "sigma=np.sqrt(A/2)\n",
    "basis = np.identity(dim)\n",
    "i=complex(0,1)\n",
    "β=1\n",
    "hbar=1\n",
    "tmax=0.1\n",
    "n_points_t=100\n",
    "xlogscale=True\n",
    "if xlogscale:\n",
    "    auxtmin=-1.5\n",
    "    auxtmax=np.log10(tmax)\n",
    "    auxt=np.linspace(auxtmin, auxtmax, n_points_t)\n",
    "    t_arr=10**(auxt)\n",
    "else:\n",
    "    t_arr=np.linspace(0, tmax, n_points_t)\n",
    "Nav=100\n"
   ]
  },
  {
   "cell_type": "code",
   "execution_count": 28,
   "metadata": {},
   "outputs": [],
   "source": [
    "@numba.njit(float64(float64[:], float64[:]))\n",
    "def braket(bra, ket):\n",
    "    if np.all(bra== ket):\n",
    "        return 1\n",
    "    else:\n",
    "        return 0\n",
    "@numba.njit(complex128[:,:](complex128[:], complex128[:]))\n",
    "def ketbra(ket, bra):\n",
    "    dim=len(ket)\n",
    "    res=np.zeros((dim, dim), dtype=complex128)\n",
    "    for j in range(dim):\n",
    "        for k in range(dim):\n",
    "            res[j,k]=ket[j]*np.conjugate(bra[k])\n",
    "    return res\n",
    "#Definition of the ladder operators\n",
    "@numba.jit(numba.types.Tuple((float64, float64[:]))(float64[:], float64), nopython=True, fastmath=True, parallel=False)\n",
    "def S_p(ket, S):\n",
    "    site= np.argmax(ket)\n",
    "    m=site-S\n",
    "    ket_out=np.zeros(dim)\n",
    "    if site== 2*S:\n",
    "        coef=0\n",
    "        return (coef, ket_out)\n",
    "    else:\n",
    "        coef=np.sqrt(S*(S+1)-m*(m+1))\n",
    "        ket_out[site+1]= 1\n",
    "        return (coef, ket_out)\n",
    "@numba.jit(numba.types.Tuple((float64, float64[:]))(float64[:], float64), nopython=True, fastmath=True, parallel=False)\n",
    "def S_m(ket, S):\n",
    "    site= np.argmax(ket)\n",
    "    m=site-S\n",
    "    ket_out=np.zeros(dim)\n",
    "    if site== 0:\n",
    "        coef=0\n",
    "        return (coef, ket_out)\n",
    "    else:\n",
    "        coef= np.sqrt(S*(S+1)-m*(m-1))\n",
    "        ket_out[site-1]= 1\n",
    "        return (coef, ket_out)\n",
    "@numba.jit(float64[:,:](float64[:, :], float64), nopython=True, fastmath=True, parallel=False)\n",
    "def Compute_Sx(basis, S):\n",
    "    dim=int(2*S+1)\n",
    "    Sx=np.zeros((dim, dim))\n",
    "    for j in range(dim):\n",
    "        for k in range(dim):\n",
    "            ket=basis[j, :]\n",
    "            bra=basis[k, :]\n",
    "            coef_p, S_p_ket=S_p(ket, S)\n",
    "            coef_m, S_m_ket=S_m(ket, S)\n",
    "            result_p=braket(bra, S_p_ket)\n",
    "            result_m=braket(bra, S_m_ket)\n",
    "            Sx[j, k]=(coef_p*result_p+ coef_m*result_m)/2\n",
    "    return Sx\n",
    "@numba.jit(float64[:,:](int64, float64), nopython=True, parallel=False, fastmath=True)\n",
    "def RMT_GOE(N, sigma):\n",
    "    auxH = np.random.randn(N,N)\n",
    "    H=(auxH+auxH.T)\n",
    "    return H\n",
    "@numba.njit(complex128[:,:](int64, float64))\n",
    "def RMT_GUE(N, sigma):\n",
    "    H=np.zeros((N, N), dtype=complex128)\n",
    "    for j in range(N):\n",
    "        H[j,j]=np.random.normal(0,sigma)\n",
    "        for k in range(j+1, N):\n",
    "            a=np.random.normal(0,sigma)/np.sqrt(2)\n",
    "            b=np.random.normal(0,sigma)/np.sqrt(2)\n",
    "            H[j,k]=complex(a,b)\n",
    "            H[k,j]=complex(a,-b)\n",
    "    #auxH=np.random.randn(N, N)+i*np.random.randn(N, N)\n",
    "    #H=(auxH+auxH.conj().T)/2\n",
    "    return H"
   ]
  },
  {
   "cell_type": "code",
   "execution_count": 29,
   "metadata": {},
   "outputs": [],
   "source": [
    "#@numba.njit(complex128[:](int64,complex128[:,:], float64[:], complex128[:]))\n",
    "def RMT_Var_t(Nav, A, t, psi0):\n",
    "    nt=len(t)\n",
    "    #nt.astype('int64')\n",
    "    Aav=np.zeros((Nav, nt), dtype=\"complex128\")\n",
    "    A_=A\n",
    "    for j in range(Nav):\n",
    "        H=RMT_GUE(dim, 1/np.sqrt(2))\n",
    "        #E, _=eigh(H)\n",
    "        #rhoB=expm(-β*H/4)\n",
    "        #Z=np.sum(np.exp(-β*E))\n",
    "        #rhoB=rhoB/Z**0.25\n",
    "        #A_=inv(evec)@A@evec #A in hte basis of eigenvectors. Assuming that C=evec, A_=C^+ A C\n",
    "        for k in range(nt):\n",
    "            #evt=np.diag(np.exp(-i*E*t[k]))\n",
    "            evt=expm(-i*H*t[k]/hbar)\n",
    "            invevt=inv(evt)\n",
    "            #invevt=np.diag(np.exp(i*E*t[k]))\n",
    "            Aav[j,k]=np.conjugate(psi0)@invevt@A_@A_@evt@psi0-(np.conjugate(psi0)@invevt@A_@evt@psi0)**2\n",
    "            #Aav[j,k]=np.conjugate(psi0)@rhoB@invevt@A_@A_@evt@rhoB@psi0-(np.conjugate(psi0)@rhoB@invevt@A_@evt@rhoB@psi0)**2\n",
    "    VarAt=np.average(Aav, axis=0)\n",
    "    return VarAt\n",
    "            "
   ]
  },
  {
   "cell_type": "code",
   "execution_count": 30,
   "metadata": {},
   "outputs": [],
   "source": [
    "G1=np.zeros((dim, dim), dtype='complex128')\n",
    "G1[0,1]=1\n",
    "G1[1,0]=1\n",
    "#G1[2,1]=1\n",
    "#G1[1,2]=1\n",
    "#G2=np.eye(dim, k=1)+np.eye(dim, k=-1)\n",
    "G2=Compute_Sx(basis, (dim-1)/2)\n",
    "#G2.astype('complex128')\n",
    "#G2=np.random.randn(dim, dim)\n",
    "#G2=G2+G2.T\n",
    "#psi0=np.zeros(dim)\n",
    "#psi0[0]=1\n",
    "#psi0[0]=1/np.sqrt(2)\n",
    "#psi0[-1]=1/np.sqrt(2)\n",
    "#psi0=np.random.rand(dim)\n",
    "#psi0=np.random.rand(dim)+i*np.random.rand(dim)\n",
    "#psi0=psi0/np.sqrt(np.sum(np.abs(psi0)**2))"
   ]
  },
  {
   "cell_type": "code",
   "execution_count": 31,
   "metadata": {},
   "outputs": [],
   "source": [
    "Nav2=20\n",
    "G1t_=np.zeros((Nav2, n_points_t), dtype=complex)\n",
    "G2t_=np.zeros((Nav2, n_points_t), dtype=complex)\n",
    "for j in range(Nav2):\n",
    "    psi0=np.random.rand(dim)\n",
    "    psi0=psi0/np.sqrt(np.sum(np.abs(psi0)**2))\n",
    "    G1t_[j,:]=RMT_Var_t(Nav, G1, t_arr, psi0)\n",
    "    G2t_[j,:]=RMT_Var_t(Nav, G2, t_arr, psi0)"
   ]
  },
  {
   "cell_type": "code",
   "execution_count": 33,
   "metadata": {},
   "outputs": [
    {
     "data": {
      "image/png": "[encoded data removed]",
      "text/plain": [
       "<Figure size 432x288 with 1 Axes>"
      ]
     },
     "metadata": {
      "needs_background": "light"
     },
     "output_type": "display_data"
    }
   ],
   "source": [
    "G1t=np.abs(np.average(G1t_, axis=0))\n",
    "G2t=np.abs(np.average(G2t_, axis=0))\n",
    "plt.figure()\n",
    "plt.scatter(t_arr,G1t-G1t[0] , s=5, label=r\"$G=|1\\rangle \\langle 0|+|0\\rangle \\langle 1|$\")\n",
    "plt.scatter(t_arr, G2t-G2t[0], s=5, label=r\"$G=\\hat{S}_x$\")\n",
    "plt.yscale('log')\n",
    "#plt.xscale('log')\n",
    "plt.xlim(t_arr[0], t_arr[-1])\n",
    "#plt.plot(t_arr,1/dim**2*np.exp(dim*t_arr))\n",
    "plt.ylim(1e-6,100)\n",
    "plt.ylabel(r\"$\\langle \\langle Var (G(t))\\rangle \\rangle -\\langle \\langle Var (G(0))\\rangle \\rangle$\")\n",
    "plt.xlabel(\"$t$\")\n",
    "plt.legend(labelspacing=0, handletextpad=0)\n",
    "plt.show()"
   ]
  },
  {
   "cell_type": "code",
   "execution_count": null,
   "metadata": {},
   "outputs": [],
   "source": []
  },
  {
   "cell_type": "code",
   "execution_count": null,
   "metadata": {},
   "outputs": [],
   "source": []
  }
 ],
 "metadata": {
  "kernelspec": {
   "display_name": "Python 3",
   "language": "python",
   "name": "python3"
  },
  "language_info": {
   "codemirror_mode": {
    "name": "ipython",
    "version": 3
   },
   "file_extension": ".py",
   "mimetype": "text/x-python",
   "name": "python",
   "nbconvert_exporter": "python",
   "pygments_lexer": "ipython3",
   "version": "3.7.6"
  }
 },
 "nbformat": 4,
 "nbformat_minor": 4
}
