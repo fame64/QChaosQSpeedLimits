{
 "cells": [
  {
   "cell_type": "code",
   "execution_count": 19,
   "metadata": {},
   "outputs": [],
   "source": [
    "import numpy as np\n",
    "import numba\n",
    "from numba.types import *\n",
    "from numba import prange\n",
    "import matplotlib.pyplot as plt\n",
    "from numpy.linalg import eig, multi_dot, inv, matrix_power, eigh\n",
    "from scipy.optimize import curve_fit\n",
    "from matplotlib import rcParams\n",
    "rcParams['mathtext.fontset'] = 'stix'\n",
    "rcParams['font.family'] = 'STIXGeneral'\n",
    "rcParams['font.size']=20\n",
    "from scipy.linalg import expm, sqrtm\n",
    "from scipy.stats import linregress\n",
    "from math import acos, factorial\n",
    "from scipy.special import eval_genlaguerre, gamma, hyp1f1"
   ]
  },
  {
   "cell_type": "code",
   "execution_count": 2,
   "metadata": {},
   "outputs": [],
   "source": [
    "@numba.jit(complex128[:,:](int64, float64), nopython=True, parallel=False, fastmath=True)\n",
    "def RMT_GOE(N, sigma):\n",
    "    H=np.zeros((N, N), dtype=complex128)\n",
    "    for j in range(N):\n",
    "        for k in range(j, N):\n",
    "            a=np.random.normal(0,sigma)\n",
    "            H[j,k]=a\n",
    "            H[k,j]=a\n",
    "    return H\n",
    "@numba.njit(complex128[:,:](int64, float64))\n",
    "def RMT_GUE(N, sigma):\n",
    "    H=np.zeros((N, N), dtype=complex128)\n",
    "    for j in range(N):\n",
    "        H[j,j]=np.random.normal(0,sigma)\n",
    "        for k in range(j+1, N):\n",
    "            a=np.random.normal(0,sigma)/np.sqrt(2)\n",
    "            b=np.random.normal(0,sigma)/np.sqrt(2)\n",
    "            H[j,k]=complex(a,b)\n",
    "            H[k,j]=complex(a,-b)\n",
    "    #auxH=np.random.randn(N, N)+i*np.random.randn(N, N)\n",
    "    #H=(auxH+auxH.conj().T)/2\n",
    "    return H\n",
    "@numba.njit()\n",
    "def Averageaxis0(arr, d0, d1):\n",
    "    arrout=np.zeros(d1)\n",
    "    for k in range(d1):\n",
    "        arrout[k]=np.sum(arr[:,k])/d0\n",
    "    return arrout\n",
    "@numba.njit()\n",
    "def NumericsGUE(Nav, dim, b):\n",
    "    nbeta=len(b)\n",
    "    avE=np.zeros((Nav, nbeta))\n",
    "    stdE=np.zeros((Nav, nbeta))\n",
    "    minE=np.zeros((Nav, nbeta))\n",
    "    avZ=np.zeros((Nav, nbeta))\n",
    "    NA_stdE=np.zeros((Nav, nbeta))\n",
    "    NA_avE=np.zeros((Nav, nbeta))\n",
    "    avE_minE=np.zeros((Nav, nbeta))\n",
    "    for k in range(nbeta):\n",
    "        for j in range(Nav):\n",
    "            H=RMT_GUE(dim,1/np.sqrt(2))\n",
    "            E,_=eigh(H)\n",
    "            Z=np.sum(np.exp(-b[k]*E))\n",
    "            avZ[j,k]=Z\n",
    "            avE[j,k]=np.sum(E*np.exp(-b[k]*E))\n",
    "            stdE[j,k]=np.sum((E)**2*np.exp(-b[k]*E))\n",
    "            minE[j,k]=np.min(E)\n",
    "            NA_stdE[j,k]=stdE[j,k]/Z\n",
    "            NA_avE[j,k]=avE[j,k]/Z\n",
    "            avE_minE[j,k]=np.sum((E-minE[j,k])*np.exp(-b[k]*(E-minE[j,k])))\n",
    "    Z_a=Averageaxis0(avZ, Nav, nbeta)\n",
    "    Ebeta=Averageaxis0(avE, Nav, nbeta)/Z_a\n",
    "    std_beta=np.sqrt(Averageaxis0(stdE, Nav, nbeta)/Z_a-Ebeta**2)\n",
    "    avE0=Averageaxis0(minE, Nav, nbeta)\n",
    "    E_beta=Ebeta-avE0\n",
    "    NA_E=Averageaxis0(NA_avE, Nav, nbeta)\n",
    "    NA_dE=np.sqrt(Averageaxis0(NA_stdE, Nav, nbeta)-NA_E**2)\n",
    "    NA_E=NA_E-avE0\n",
    "    E_E0=Averageaxis0(avE_minE, Nav, nbeta)/Z_a\n",
    "    return (E_beta, E_E0, NA_E, std_beta, NA_dE)"
   ]
  },
  {
   "cell_type": "code",
   "execution_count": 3,
   "metadata": {},
   "outputs": [],
   "source": [
    "def DeltaEGUE(b, dim):\n",
    "    L1=eval_genlaguerre(dim-1, 1, -b**2/2)\n",
    "    L2=eval_genlaguerre(dim-2, 2, -b**2/2)\n",
    "    L3=eval_genlaguerre(dim-3, 3, -b**2/2)\n",
    "    return np.sqrt(0.5 + L2/L1+ b**2*L3/L1 - b**2*(L2/L1)**2)\n",
    "def avEGUE(b, dim):\n",
    "    L1=eval_genlaguerre(dim-1, 1, -b**2/2)\n",
    "    L2=eval_genlaguerre(dim-2, 2, -b**2/2)\n",
    "    Emin=-np.sqrt(2*dim)\n",
    "    #b_inf=1e3\n",
    "    avE=-b/2-b*L2/L1\n",
    "    #Emin=-b_inf/2-b_inf*L2/L1\n",
    "    return avE-Emin\n"
   ]
  },
  {
   "cell_type": "code",
   "execution_count": 4,
   "metadata": {},
   "outputs": [],
   "source": [
    "dim=100\n",
    "Nav=1000\n",
    "b_arr=np.linspace(0, 100, 1000)\n",
    "aux=np.linspace(-2, np.log10(b_arr[-1]), 100)\n",
    "b_arr_num=10**aux\n",
    "deltaE=DeltaEGUE(b_arr, dim)\n",
    "avE=avEGUE(b_arr, dim)\n",
    "avE_num, E_E0, NA_E, std_beta, NA_dE=NumericsGUE(Nav, dim, b_arr_num)\n",
    "unifiedAnalyt=np.zeros(len(b_arr))\n",
    "unifiedNum=np.zeros(len(b_arr_num))\n",
    "for j in range(len(b_arr)):\n",
    "    unifiedAnalyt[j]=np.max([1/deltaE[j], 1/avE[j]])\n",
    "for k in range(len(b_arr_num)):\n",
    "    unifiedNum[k]=np.max([1/std_beta[k], 1/NA_E[k]])"
   ]
  },
  {
   "cell_type": "code",
   "execution_count": 5,
   "metadata": {},
   "outputs": [],
   "source": [
    "#print(E_E0)"
   ]
  },
  {
   "cell_type": "code",
   "execution_count": 24,
   "metadata": {},
   "outputs": [
    {
     "data": {
      "text/plain": [
       "'plt.figure()\\nplt.plot(b_arr_num, 2*np.pi/b_arr_num, label=\"Maldacena\\'s bound\", color=\\'black\\')\\nplt.plot(b_arr, 2*deltaE/np.pi, label=\"MT Analytics GUE\")\\nplt.scatter(b_arr_num, 2*NA_dE/np.pi, label=\"Non-annealed MT\")\\n#plt.plot(b_arr, 2*avE/np.pi, label=\"ML Analytics GUE\")\\n#plt.scatter(b_arr_num, 2*avE_num/np.pi, label=\"ML Numerics GUE\")\\nplt.scatter(b_arr_num, 2*std_beta/np.pi, label=\"MT Numerics GUE\")\\n#plt.plot(b_arr, 2/np.pi/unifiedAnalyt, label=\\'Analytic QSL\\')\\n#plt.scatter(b_arr_num, 2/np.pi/unifiedNum, label=\\'Numeric QSL\\')\\nplt.xscale(\\'log\\')\\nplt.yscale(\\'log\\')\\nplt.ylim(1e-2, 100)\\nplt.legend(labelspacing=0)\\nplt.xlabel(r\"$\\x08eta$\")\\nplt.ylabel(r\"$1/\\tau_{QSL}$\")\\nplt.show()'"
      ]
     },
     "execution_count": 24,
     "metadata": {},
     "output_type": "execute_result"
    }
   ],
   "source": [
    "\"\"\"plt.figure()\n",
    "plt.plot(b_arr_num, 2*np.pi/b_arr_num, label=\"Maldacena's bound\", color='black')\n",
    "plt.plot(b_arr, 2*deltaE/np.pi, label=\"MT Analytics GUE\")\n",
    "plt.scatter(b_arr_num, 2*NA_dE/np.pi, label=\"Non-annealed MT\")\n",
    "#plt.plot(b_arr, 2*avE/np.pi, label=\"ML Analytics GUE\")\n",
    "#plt.scatter(b_arr_num, 2*avE_num/np.pi, label=\"ML Numerics GUE\")\n",
    "plt.scatter(b_arr_num, 2*std_beta/np.pi, label=\"MT Numerics GUE\")\n",
    "#plt.plot(b_arr, 2/np.pi/unifiedAnalyt, label='Analytic QSL')\n",
    "#plt.scatter(b_arr_num, 2/np.pi/unifiedNum, label='Numeric QSL')\n",
    "plt.xscale('log')\n",
    "plt.yscale('log')\n",
    "plt.ylim(1e-2, 100)\n",
    "plt.legend(labelspacing=0)\n",
    "plt.xlabel(r\"$\\beta$\")\n",
    "plt.ylabel(r\"$1/\\tau_{QSL}$\")\n",
    "plt.show()\"\"\""
   ]
  },
  {
   "cell_type": "code",
   "execution_count": 23,
   "metadata": {},
   "outputs": [
    {
     "data": {
      "text/plain": [
       "'plt.figure()\\nplt.plot(b_arr_num, 2*np.pi/b_arr_num, label=\"Maldacena\\'s bound\", color=\\'black\\')\\n#plt.plot(b_arr, 2*deltaE/np.pi, label=\"MT Analytics GUE\")\\nplt.plot(b_arr, 2*avE/np.pi, label=\"ML Analytics GUE\")\\nplt.scatter(b_arr_num, 2*avE_num/np.pi, label=\"ML Numerics GUE\")\\nplt.scatter(b_arr_num, 2*E_E0/np.pi, label=\"<E-E0>\")\\nplt.scatter(b_arr_num, 2*NA_E/np.pi, label=\"Non annealed ML\")\\n#plt.scatter(b_arr_num, 2*std_beta/np.pi, label=\"MT Numerics GUE\")\\n#plt.plot(b_arr, 2/np.pi/unifiedAnalyt, label=\\'Analytic QSL\\')\\n#plt.scatter(b_arr_num, 2/np.pi/unifiedNum, label=\\'Numeric QSL\\')\\nplt.xscale(\\'log\\')\\nplt.yscale(\\'log\\')\\nplt.xlabel(r\"$\\x08eta$\")\\nplt.ylabel(r\"$1/\\tau_{QSL}$\")\\nplt.ylim(1e-5, 1000)\\nplt.legend(labelspacing=0, loc=\"upper right\")\\nplt.show()'"
      ]
     },
     "execution_count": 23,
     "metadata": {},
     "output_type": "execute_result"
    }
   ],
   "source": [
    "\"\"\"plt.figure()\n",
    "plt.plot(b_arr_num, 2*np.pi/b_arr_num, label=\"Maldacena's bound\", color='black')\n",
    "#plt.plot(b_arr, 2*deltaE/np.pi, label=\"MT Analytics GUE\")\n",
    "plt.plot(b_arr, 2*avE/np.pi, label=\"ML Analytics GUE\")\n",
    "plt.scatter(b_arr_num, 2*avE_num/np.pi, label=\"ML Numerics GUE\")\n",
    "plt.scatter(b_arr_num, 2*E_E0/np.pi, label=\"<E-E0>\")\n",
    "plt.scatter(b_arr_num, 2*NA_E/np.pi, label=\"Non annealed ML\")\n",
    "#plt.scatter(b_arr_num, 2*std_beta/np.pi, label=\"MT Numerics GUE\")\n",
    "#plt.plot(b_arr, 2/np.pi/unifiedAnalyt, label='Analytic QSL')\n",
    "#plt.scatter(b_arr_num, 2/np.pi/unifiedNum, label='Numeric QSL')\n",
    "plt.xscale('log')\n",
    "plt.yscale('log')\n",
    "plt.xlabel(r\"$\\beta$\")\n",
    "plt.ylabel(r\"$1/\\tau_{QSL}$\")\n",
    "plt.ylim(1e-5, 1000)\n",
    "plt.legend(labelspacing=0, loc=\"upper right\")\n",
    "plt.show()\"\"\""
   ]
  },
  {
   "cell_type": "code",
   "execution_count": 22,
   "metadata": {},
   "outputs": [
    {
     "name": "stderr",
     "output_type": "stream",
     "text": [
      "/home/pablo/anaconda3/lib/python3.7/site-packages/ipykernel_launcher.py:8: RuntimeWarning: invalid value encountered in less\n",
      "  \n",
      "/home/pablo/anaconda3/lib/python3.7/site-packages/ipykernel_launcher.py:9: RuntimeWarning: invalid value encountered in greater\n",
      "  if __name__ == '__main__':\n"
     ]
    },
    {
     "data": {
      "image/png": "[encoded data removed]",
      "text/plain": [
       "<Figure size 432x288 with 1 Axes>"
      ]
     },
     "metadata": {
      "needs_background": "light"
     },
     "output_type": "display_data"
    }
   ],
   "source": [
    "plt.figure()\n",
    "plt.plot(b_arr_num, 2*np.pi/b_arr_num, label=\"Maldacena's bound\", color='black')\n",
    "#plt.plot(b_arr, 2*deltaE/np.pi, label=\"MT Analytics GUE\")\n",
    "#plt.plot(b_arr, 2*avE/np.pi, label=\"ML Analytics GUE\")\n",
    "#plt.scatter(b_arr_num, 2*avE_num/np.pi, label=\"ML Numerics GUE\")\n",
    "#plt.scatter(b_arr_num, 2*std_beta/np.pi, label=\"MT Numerics GUE\")\n",
    "#plt.plot(b_arr, 2/np.pi/unifiedAnalyt, label='Analytic QSL')\n",
    "plt.scatter(b_arr_num[std_beta<NA_E], 2/np.pi/unifiedNum[std_beta<NA_E], label='Mandelstam-Tamm', s=5)\n",
    "plt.scatter(b_arr_num[std_beta>NA_E], 2/np.pi/unifiedNum[std_beta>NA_E], label='Margolus-Levitin', s=5)\n",
    "#plt.scatter(b_arr_num, 2/np.pi/unifiedNum, label='Numeric QSL')\n",
    "plt.xscale('log')\n",
    "plt.yscale('log')\n",
    "plt.ylim(1e-2, 10)\n",
    "plt.xlim(1e-2, 10)\n",
    "plt.ylabel(r\"$1/\\tau_\\mathrm{QSL}$\")\n",
    "plt.xlabel(r\"$\\beta$\")\n",
    "plt.legend(labelspacing=0)\n",
    "plt.show()"
   ]
  },
  {
   "cell_type": "code",
   "execution_count": null,
   "metadata": {},
   "outputs": [],
   "source": []
  }
 ],
 "metadata": {
  "kernelspec": {
   "display_name": "Python 3",
   "language": "python",
   "name": "python3"
  },
  "language_info": {
   "codemirror_mode": {
    "name": "ipython",
    "version": 3
   },
   "file_extension": ".py",
   "mimetype": "text/x-python",
   "name": "python",
   "nbconvert_exporter": "python",
   "pygments_lexer": "ipython3",
   "version": "3.7.6"
  }
 },
 "nbformat": 4,
 "nbformat_minor": 4
}
