{
 "cells": [
  {
   "cell_type": "code",
   "execution_count": 33,
   "metadata": {},
   "outputs": [],
   "source": [
    "import numpy as np\n",
    "import numba\n",
    "from numba.types import *\n",
    "from numba import prange\n",
    "import matplotlib.pyplot as plt\n",
    "from numpy.linalg import eig, multi_dot, inv, matrix_power, eigh\n",
    "from scipy.optimize import curve_fit\n",
    "from matplotlib import rcParams, cm\n",
    "rcParams['mathtext.fontset'] = 'stix'\n",
    "rcParams['font.family'] = 'STIXGeneral'\n",
    "rcParams['font.size']=20\n",
    "from scipy.linalg import expm, sqrtm\n",
    "from scipy.stats import linregress\n",
    "from math import acos, factorial\n",
    "from scipy.special import eval_genlaguerre, gamma, hyp1f1"
   ]
  },
  {
   "cell_type": "code",
   "execution_count": 34,
   "metadata": {},
   "outputs": [],
   "source": [
    "#N=10 #Dimension of the Hilbert Space\n",
    "#S=5\n",
    "dim=20\n",
    "A=1 #Probability distribution will be P~exp(-A x^2)\n",
    "sigma=np.sqrt(A/2)\n",
    "#t_max=0.5\n",
    "#n_points_t=50\n",
    "#t_arr=np.linspace(0, t_max, n_points_t)\n",
    "basis = np.identity(dim)\n",
    "i=complex(0,1)\n",
    "beta_max=2\n",
    "beta_min=1e-3\n",
    "nbeta=40\n",
    "beta_Logscale=True\n",
    "if beta_Logscale:\n",
    "    aux_betamin=np.log10(beta_min)\n",
    "    aux_betamax=np.log10(beta_max)\n",
    "    auxbeta=np.linspace(aux_betamin, aux_betamax, nbeta)\n",
    "    beta_arr=10**auxbeta\n",
    "else:\n",
    "    beta_arr=np.linspace(beta_min, beta_max, nbeta)\n",
    "#beta_arr=np.asarray([0.1, 0.5, 1, 2])\n",
    "#nbeta=len(beta_arr)\n",
    "\n",
    "#tmax=np.log(dim)/(2*np.pi/β)*2\n",
    "#tmax=5*np.max(beta_arr)*np.log(dim)/(2*np.pi)\n",
    "tmax=1\n",
    "n_points_t=300\n",
    "xlogscale=False\n",
    "if xlogscale:\n",
    "    auxtmin=-1.5\n",
    "    auxtmax=np.log10(tmax)\n",
    "    auxt=np.linspace(auxtmin, auxtmax, n_points_t)\n",
    "    t_arr=10**(auxt)\n",
    "else:\n",
    "    t_arr=np.linspace(0, tmax, n_points_t)\n",
    "Nav=500\n",
    "hbar=1"
   ]
  },
  {
   "cell_type": "code",
   "execution_count": null,
   "metadata": {},
   "outputs": [],
   "source": []
  },
  {
   "cell_type": "code",
   "execution_count": null,
   "metadata": {},
   "outputs": [],
   "source": []
  },
  {
   "cell_type": "code",
   "execution_count": 35,
   "metadata": {},
   "outputs": [],
   "source": [
    "@numba.jit(float64(float64[:], float64[:]), nopython=True, fastmath=True, parallel=False)\n",
    "def braket(bra, ket):\n",
    "    if np.all(bra== ket):\n",
    "        return 1\n",
    "    else:\n",
    "        return 0\n",
    "@numba.jit(complex128[:,:](complex128[:], complex128[:]), nopython=True, fastmath=True, parallel=False)\n",
    "def ketbra(ket, bra):\n",
    "    dim=len(ket)\n",
    "    res=np.zeros((dim, dim), dtype=complex128)\n",
    "    for j in range(dim):\n",
    "        for k in range(dim):\n",
    "            res[j,k]=ket[j]*np.conjugate(bra[k])\n",
    "    return res"
   ]
  },
  {
   "cell_type": "code",
   "execution_count": 36,
   "metadata": {},
   "outputs": [],
   "source": [
    "@numba.jit(float64[:,:](int64, float64), nopython=True, parallel=False, fastmath=True)\n",
    "def RMT_GOE(N, sigma):\n",
    "    auxH = np.random.randn(N,N)\n",
    "    H=(auxH+auxH.T)\n",
    "    return H\n",
    "@numba.jit(complex128[:,:](int64, float64), nopython=True, parallel=False, fastmath=True)\n",
    "def RMT_GUE(N, sigma):\n",
    "    H=np.zeros((N, N), dtype=complex128)\n",
    "    for j in range(N):\n",
    "        H[j,j]=np.random.normal(0,sigma)\n",
    "        for k in range(j+1, N):\n",
    "            a=np.random.normal(0,sigma)/np.sqrt(2)\n",
    "            b=np.random.normal(0,sigma)/np.sqrt(2)\n",
    "            H[j,k]=complex(a,b)\n",
    "            H[k,j]=complex(a,-b)\n",
    "    #auxH=np.random.randn(N, N)+i*np.random.randn(N, N)\n",
    "    #H=(auxH+auxH.conj().T)/2\n",
    "    return H"
   ]
  },
  {
   "cell_type": "markdown",
   "metadata": {},
   "source": [
    "The regularized OTOC is defined for any two operators $V$, $W$ as\n",
    "$$F(t)=Z^{-1}(\\beta)\\mathrm{Tr}\\{e^{-\\beta H/4}Ve^{-\\beta H/4}W(t)e^{-\\beta H/4}V e^{-\\beta H/4}W(t)\\}$$\n",
    "We will consider the operators\n",
    "$$V=|m\\rangle \\langle n|, \\qquad W(t)=e^{i(E_n-E_m)t}|n\\rangle \\langle m|$$\n",
    "With this each regularized OTOC will be $F_{mn}(t)$ and the total OTOC\n",
    "$$F(t)=\\sum_{m,n}F_{mn}(t)$$"
   ]
  },
  {
   "cell_type": "code",
   "execution_count": 37,
   "metadata": {},
   "outputs": [
    {
     "name": "stderr",
     "output_type": "stream",
     "text": [
      "<ipython-input-37-cb440f1b9800>:12: NumbaPerformanceWarning: \u001b[1m\u001b[1m'@' is faster on contiguous arrays, called on (array(complex128, 2d, A), array(complex128, 2d, A))\u001b[0m\u001b[0m\n",
      "  F+=(np.trace(y@V@y@W_t@y@V@y@W_t))/Z\n",
      "<ipython-input-37-cb440f1b9800>:12: NumbaPerformanceWarning: \u001b[1m\u001b[1m'@' is faster on contiguous arrays, called on (array(complex128, 2d, C), array(complex128, 2d, A))\u001b[0m\u001b[0m\n",
      "  F+=(np.trace(y@V@y@W_t@y@V@y@W_t))/Z\n",
      "/home/pablo/anaconda3/lib/python3.7/site-packages/numba/typing/npydecl.py:958: NumbaPerformanceWarning: \u001b[1m'@' is faster on contiguous arrays, called on (array(complex128, 2d, A), array(complex128, 2d, A))\u001b[0m\n",
      "  warnings.warn(NumbaPerformanceWarning(msg))\n",
      "/home/pablo/anaconda3/lib/python3.7/site-packages/numba/typing/npydecl.py:958: NumbaPerformanceWarning: \u001b[1m'@' is faster on contiguous arrays, called on (array(complex128, 2d, C), array(complex128, 2d, A))\u001b[0m\n",
      "  warnings.warn(NumbaPerformanceWarning(msg))\n"
     ]
    },
    {
     "data": {
      "text/plain": [
       "'#Unregularized OTOC\\ndef unregF(V, W_t, β, E, ket_n):\\n    #Z=np.trace(expm(-β*H))\\n    Z=np.sum(np.exp(-β*E))\\n    y=np.zeros((dim, dim))\\n    for k in range(dim):\\n        aux=ketbra(ket_n[k], ket_n[k])\\n        y+=np.exp(-β*E[k])*aux\\n    #y=expm(-β*H/4)\\n    #W_t=expm(i*H*t)@W@expm(-i*H*t)\\n    F=(np.trace(y@V@W_t@V@W_t))/Z\\n    return F'"
      ]
     },
     "execution_count": 37,
     "metadata": {},
     "output_type": "execute_result"
    }
   ],
   "source": [
    "#Regularized OTOC\n",
    "@numba.jit(complex128(complex128[:,:], float64, float64[:], complex128[:,:], float64), nopython=True, parallel=False, fastmath=True)\n",
    "def F(y, Z, E, ket_n, t):\n",
    "    F=0\n",
    "    for n in range(dim):\n",
    "        for m in range(dim):\n",
    "            auxnm=ketbra(ket_n[:,n], ket_n[:,m])\n",
    "            V=ketbra(ket_n[:,m], ket_n[:,n])\n",
    "            W_t=np.exp(i*(E[n]-E[m])*t)*auxnm\n",
    "            #comm=V@W_t-W_t@V\n",
    "            #F+=(np.trace(y@y@np.conjugate(np.transpose(comm))@y@y@comm))\n",
    "            F+=(np.trace(y@V@y@W_t@y@V@y@W_t))/Z\n",
    "            #F+=(np.trace(y@np.conjugate(W_t.T)@y@np.conjugate(V.T)@y@V@y@W_t))/Z\n",
    "    \"\"\"V=np.zeros((dim, dim), dtype=complex128)\n",
    "    W_t=np.zeros((dim, dim), dtype=complex128)\n",
    "    for n in range(dim):\n",
    "        for m in range(dim):\n",
    "            auxnm=ketbra(ket_n[:,n], ket_n[:,m])\n",
    "            V+=ketbra(ket_n[:,m], ket_n[:,n])\n",
    "            W_t+=np.exp(i*(E[m]-E[n])*t/hbar)*auxnm\n",
    "    F=np.trace(y@V@y@W_t@y@V@y@W_t)/Z\"\"\"\n",
    "    return F\n",
    "@numba.jit(complex128(complex128, float64[:]))\n",
    "def Z_c(β, E):\n",
    "    Z=np.sum(np.exp(-β*E))\n",
    "    return Z\n",
    "\"\"\"#Unregularized OTOC\n",
    "def unregF(V, W_t, β, E, ket_n):\n",
    "    #Z=np.trace(expm(-β*H))\n",
    "    Z=np.sum(np.exp(-β*E))\n",
    "    y=np.zeros((dim, dim))\n",
    "    for k in range(dim):\n",
    "        aux=ketbra(ket_n[k], ket_n[k])\n",
    "        y+=np.exp(-β*E[k])*aux\n",
    "    #y=expm(-β*H/4)\n",
    "    #W_t=expm(i*H*t)@W@expm(-i*H*t)\n",
    "    F=(np.trace(y@V@W_t@V@W_t))/Z\n",
    "    return F\"\"\""
   ]
  },
  {
   "cell_type": "code",
   "execution_count": 38,
   "metadata": {},
   "outputs": [],
   "source": [
    "#F_t=np.zeros(n_points_t, dtype=complex)\n",
    "F_Z=np.zeros((n_points_t, nbeta), dtype=complex)\n",
    "F_arr=np.zeros((n_points_t, Nav, nbeta), dtype=complex)\n",
    "F_Z_arr=np.zeros((n_points_t, Nav, nbeta), dtype=complex)\n",
    "Z_arr=np.zeros((Nav, nbeta))\n",
    "lyap_beta=np.zeros(nbeta)\n",
    "std_lyap=np.zeros(nbeta)\n",
    "deltaE=np.zeros((nbeta, Nav))\n",
    "for l in range(nbeta):\n",
    "    for j in range(Nav):\n",
    "        H=RMT_GUE(dim, sigma)\n",
    "        E, ket_n=eigh(H)\n",
    "        if np.any(np.imag(E)>1e-8):\n",
    "            print(\"Problems\")\n",
    "            print(np.max(np.imag(E)))\n",
    "        #for k in range(dim):\n",
    "        #    print(np.sum(np.conjugate(ket_n[:,k])*ket_n[:,k]))\n",
    "        #ket_n=ket_n.astype(complex)\n",
    "        #Z=np.sum(np.exp(-β*E))\n",
    "        Z=np.real(Z_c(beta_arr[l], E))\n",
    "        deltaE[l, j]=np.sqrt(np.sum(E**2*np.exp(-beta_arr[l]*E))/Z-(np.sum(E*np.exp(-beta_arr[l]*E))/Z)**2)\n",
    "        Z_arr[j, l]=Z\n",
    "        \"\"\"y=np.zeros((dim, dim), dtype=complex)\n",
    "        for k in range(dim):\n",
    "            aux=ketbra(ket_n[:,k], ket_n[:,k])\n",
    "            y+=np.exp(-β*E[k]/4)*aux\"\"\"\n",
    "        #y=y/Z**0.25\n",
    "        #print(ket_n)\n",
    "        for k in range(n_points_t):\n",
    "            #F_arr[k,j]=F(y, Z, E, ket_n, t_arr[k])\n",
    "            Zaux1=Z_c(beta_arr[l]+i*t_arr[k], E)\n",
    "            Zaux2=Z_c(beta_arr[l]-i*t_arr[k], E)\n",
    "            F_Z_arr[k,j, l]=Zaux1*Zaux2\n",
    "avZ=np.sum(Z_arr, axis=0)/Nav\n",
    "dE=np.sum(deltaE, axis=1)/Nav\n",
    "#F_t=np.average(F_arr, axis=1)"
   ]
  },
  {
   "cell_type": "code",
   "execution_count": 39,
   "metadata": {},
   "outputs": [],
   "source": [
    "def LogMean(x, y):\n",
    "    return np.exp((np.log(x)+np.log(y))/2)\n",
    "def linFit(x, res):\n",
    "    return res.slope*x+res.intercept\n",
    "def evenlySpacedFPoints(Fmax, Fmin, npoints):\n",
    "    arrexp=np.linspace(0, np.log10(Fmax/Fmin), npoints)\n",
    "    arr=Fmin*10**arrexp\n",
    "    return arr"
   ]
  },
  {
   "cell_type": "code",
   "execution_count": 40,
   "metadata": {},
   "outputs": [
    {
     "name": "stderr",
     "output_type": "stream",
     "text": [
      "/home/pablo/anaconda3/lib/python3.7/site-packages/scipy/stats/_stats_mstats_common.py:130: RuntimeWarning: invalid value encountered in double_scalars\n",
      "  slope = r_num / ssxm\n",
      "/home/pablo/anaconda3/lib/python3.7/site-packages/scipy/stats/_stats_mstats_common.py:140: RuntimeWarning: invalid value encountered in sqrt\n",
      "  t = r * np.sqrt(df / ((1.0 - r + TINY)*(1.0 + r + TINY)))\n",
      "/home/pablo/anaconda3/lib/python3.7/site-packages/scipy/stats/_stats_mstats_common.py:142: RuntimeWarning: invalid value encountered in double_scalars\n",
      "  sterrest = np.sqrt((1 - r**2) * ssym / ssxm / df)\n"
     ]
    }
   ],
   "source": [
    "coef_range_fitted=0.5 #Less than one\n",
    "n_regions_fitted=50\n",
    "#cutoffRelVar=10\n",
    "arrayaux=np.zeros(n_regions_fitted) #Array with 1 if the fitted region fits better to a linear\n",
    "#and 0 if it better to a quadratic\n",
    "minlyap=np.zeros(nbeta)\n",
    "maxlyap=np.zeros(nbeta)\n",
    "cutoffVar=1e-3\n",
    "for l in range(nbeta):\n",
    "    auxlambda=[]\n",
    "    auxerr=[]\n",
    "    F_Z[:,l]=np.average(F_Z_arr[:,:,l], axis=1)/avZ[l]\n",
    "    fhat=np.real(F_Z[:,l]/F_Z[0,l])\n",
    "    arr_minima=np.r_[True, fhat[1:] < fhat[:-1]] & np.r_[fhat[:-1] < fhat[1:], True]\n",
    "    t_dip=np.min(t_arr[arr_minima])\n",
    "    fhat_aux=fhat[t_arr<t_dip]\n",
    "    t_arr_aux=t_arr[t_arr<t_dip]\n",
    "    pInflect=np.argmin(np.diff(fhat_aux))\n",
    "    FInflect=fhat[pInflect]\n",
    "    pInflectlog=np.argmin(np.diff(np.log(fhat_aux)))\n",
    "    FInflectLog=fhat[pInflectlog]\n",
    "    centerFitArr=evenlySpacedFPoints(FInflect, FInflectLog, n_regions_fitted)\n",
    "    #centralPoint=LogMean(FInflect, FInflectLog)\n",
    "    #centerFitArr=np.asarray([FInflect, LogMean(FInflect, centralPoint), centralPoint, LogMean(FInflectLog, centralPoint), FInflectLog])\n",
    "    #centerFitArr=np.asarray([centralPoint, LogMean(FInflectLog, centralPoint), FInflectLog])\n",
    "    for j in range(len(centerFitArr)):\n",
    "        minF_fit=centerFitArr[j]-coef_range_fitted*(centerFitArr[j]-fhat_aux[-1])\n",
    "        maxF_fit=centerFitArr[j]+coef_range_fitted*(centerFitArr[j]-fhat_aux[-1])\n",
    "        F_fit=fhat_aux[fhat_aux>minF_fit]\n",
    "        t_fit=t_arr_aux[fhat_aux>minF_fit]\n",
    "        t_fit=t_fit[F_fit<maxF_fit]\n",
    "        F_fit=F_fit[F_fit<maxF_fit]\n",
    "        logF=-np.log(F_fit)\n",
    "        res=linregress(t_fit, logF)\n",
    "        res2=linregress(t_fit**2, logF)\n",
    "        Var=np.sum((linFit(t_fit, res)-logF)**2)\n",
    "        Var2=np.sum((linFit(t_fit**2, res2)-logF)**2)\n",
    "        #relVar=np.sum((linFit(t_fit, res)-logF)**2)/np.sum((linFit(t_fit**2, res2)-logF)**2)\n",
    "        #auxlambda[j]=res.slope\n",
    "        #auxerr[j]=res.stderr\n",
    "        if Var<Var2 or Var<cutoffVar:\n",
    "            auxlambda.append(res.slope)\n",
    "            auxerr.append(res.stderr)\n",
    "    lyap_beta[l]=np.average(auxlambda)\n",
    "    auxerr=np.asarray(auxerr)\n",
    "    std_lyap[l]=np.sqrt((np.std(auxlambda))**2+np.sum(auxerr**2))\n",
    "    #std_lyap[l]=np.sqrt(np.sum(auxerr**2))\n",
    "    minlyap[l]=np.min(auxlambda)\n",
    "    maxlyap[l]=np.max(auxlambda)\n",
    "    #n_lyap=res.intercept\n",
    "#sigmaF_t=np.std(np.real(F_arr), axis=1)"
   ]
  },
  {
   "cell_type": "code",
   "execution_count": 41,
   "metadata": {},
   "outputs": [],
   "source": [
    "def GenLag(n, alpha, x):\n",
    "    L=0\n",
    "    for j in range(n+1):\n",
    "        L+=gamma(n+alpha+1)*(-x)**j/(gamma(n-j+1)*gamma(alpha+j+1)*factorial(j))\n",
    "    return L"
   ]
  },
  {
   "cell_type": "code",
   "execution_count": 42,
   "metadata": {},
   "outputs": [
    {
     "data": {
      "text/plain": [
       "'\\nt_fit=t_arr[fhat>np.exp(-1)]\\nF_fit=fhat[fhat>np.exp(-1)]\\npopt, pcov=curve_fit(expF, t_fit, F_fit, p0=[1, 2*np.pi/β])'"
      ]
     },
     "execution_count": 42,
     "metadata": {},
     "output_type": "execute_result"
    }
   ],
   "source": [
    "#Obtaining the Lyapunov from the data\n",
    "\"\"\"\n",
    "t_fit=t_arr[fhat>np.exp(-1)]\n",
    "F_fit=fhat[fhat>np.exp(-1)]\n",
    "popt, pcov=curve_fit(expF, t_fit, F_fit, p0=[1, 2*np.pi/β])\"\"\""
   ]
  },
  {
   "cell_type": "code",
   "execution_count": 43,
   "metadata": {},
   "outputs": [
    {
     "data": {
      "text/plain": [
       "'if xlogscale:\\n    t=np.linspace(10**auxtmin, tmax, 10000)\\nelse:\\n    t=np.linspace(0, tmax, 10000)\\n#analyticF=avgGUE(β/4, t, dim)*avgGUE(β/4, t, dim)/avZGUE(β, dim)\\nanalyticF=np.zeros((10000, nbeta))\\nfor k in range(nbeta):\\n    analyticF[:,k]=avgGUE(beta_arr[k]/2, 2*t, dim)/avZGUE(beta_arr[k], dim)'"
      ]
     },
     "execution_count": 43,
     "metadata": {},
     "output_type": "execute_result"
    }
   ],
   "source": [
    "def avZGUE(sigma, dim):\n",
    "    return np.exp(sigma**2/4)*eval_genlaguerre(dim-1, 1, -sigma**2/2)\n",
    "    #return np.exp(sigma**2/4)*GenLag(dim-1, 1, -sigma**2/2)\n",
    "def gcGUE(sigma0, dim):\n",
    "    gc=0\n",
    "    for n in range(dim):\n",
    "        for m in range(dim):\n",
    "            cmn=factorial(np.min([n,m]))/factorial(np.max([n, m]))\n",
    "            dnm=np.abs(n-m)\n",
    "            minnm=np.min([n,m])\n",
    "            poly=eval_genlaguerre(minnm, dnm, -sigma0**2/2)\n",
    "            #poly=GenLag(dim-1, 1, -sigma0**2/2)\n",
    "            gc+=cmn*(np.conjugate(sigma0)*sigma0/2)**dnm*np.conjugate(poly)*poly\n",
    "            #psimn=hyp1f1(-m, 1+m-n, -sigma**2/2)/gamma(1+m-n)\n",
    "            #gc+=(sigma/np.conjugate(sigma))**(m-n)*np.conjugate(psimn)*psimn\n",
    "    return -np.exp((sigma0**2+(np.conjugate(sigma0))**2)/4)*gc\n",
    "    #return np.exp((sigma0**2+(np.conjugate(sigma0))**2)/4)*gc\n",
    "def avgGUE(beta, t, dim):\n",
    "    term1=avZGUE(2*beta, dim)\n",
    "    term2=avZGUE(beta+i*t, dim)\n",
    "    #term2=(np.abs(term2))**2\n",
    "    term2=np.conjugate(term2)*term2\n",
    "    term3=gcGUE(beta+i*t, dim)\n",
    "    return term1+term2+term3\n",
    "\"\"\"if xlogscale:\n",
    "    t=np.linspace(10**auxtmin, tmax, 10000)\n",
    "else:\n",
    "    t=np.linspace(0, tmax, 10000)\n",
    "#analyticF=avgGUE(β/4, t, dim)*avgGUE(β/4, t, dim)/avZGUE(β, dim)\n",
    "analyticF=np.zeros((10000, nbeta))\n",
    "for k in range(nbeta):\n",
    "    analyticF[:,k]=avgGUE(beta_arr[k]/2, 2*t, dim)/avZGUE(beta_arr[k], dim)\"\"\""
   ]
  },
  {
   "cell_type": "code",
   "execution_count": 44,
   "metadata": {},
   "outputs": [],
   "source": [
    "#print(lyap_beta)\n",
    "#np.savetxt(\"eta_beta_\"+str(dim)+\".txt\", lyap_beta)"
   ]
  },
  {
   "cell_type": "code",
   "execution_count": 50,
   "metadata": {},
   "outputs": [
    {
     "data": {
      "image/png": "[encoded data removed]",
      "text/plain": [
       "<Figure size 504x360 with 1 Axes>"
      ]
     },
     "metadata": {
      "needs_background": "light"
     },
     "output_type": "display_data"
    }
   ],
   "source": [
    "#T_arr=np.linspace(1/beta_arr[-1], 1/beta_arr[0], 100)\n",
    "heff=2/(dim-1)\n",
    "x=np.linspace(beta_arr[0], beta_arr[-1], 1000)\n",
    "plt.figure(figsize=[7,5])\n",
    "plt.fill_between(beta_arr, minlyap, maxlyap, color='pink', alpha=0.6, label=r\"$\\min(\\eta_{fit})<\\eta<\\max(\\eta_{fit})$\")\n",
    "#plt.scatter(beta_arr, maxlyap, color='r', label='Numerics GUE')\n",
    "plt.scatter(beta_arr, lyap_beta, color='r', label='Numerics GUE', s=5)\n",
    "plt.errorbar(beta_arr, lyap_beta, yerr=std_lyap, color='r', capsize=2, ls='None')\n",
    "plt.plot(beta_arr, 2*dE/heff, color=\"green\", label=\"Bhattacharyya's bound\")\n",
    "plt.plot(x, np.pi/(2*x), color='black', label=r\"Bound $\\eta \\leq \\pi T/2$\")\n",
    "#plt.plot(x, 2*np.pi/(x), color='black', label=r\"Bound $\\eta \\leq 2 \\pi T$\")\n",
    "plt.legend(labelspacing=0)\n",
    "plt.yscale('log')\n",
    "plt.xscale('log')\n",
    "plt.ylim(1e-2, )\n",
    "#plt.xlim(1e-2, 2)\n",
    "plt.xlim(beta_arr[0]*0.95,beta_arr[-1]*1.05)\n",
    "plt.xlabel(r\"$\\beta$\")\n",
    "plt.ylabel(r\"$\\eta(\\beta)$\")\n",
    "plt.show()"
   ]
  },
  {
   "cell_type": "code",
   "execution_count": 46,
   "metadata": {},
   "outputs": [
    {
     "data": {
      "text/plain": [
       "'dim_arr=[50, 20, 10, 5, 2]\\nplt.figure()\\nfor j in dim_arr:\\n    aux=np.loadtxt(\"eta_beta_\"+str(j)+\".txt\")\\n    plt.scatter(beta_arr, aux, label=\"$N=$\"+str(j), s=15)\\nplt.yscale(\\'log\\')\\nplt.xscale(\\'log\\')\\nplt.legend(labelspacing=0, loc=[0.66, 0.5], handletextpad=0)\\nplt.plot(x, np.pi/(2*x), color=\\'black\\')\\nplt.xlabel(r\"$\\x08eta$\")\\nplt.ylabel(r\"$\\\\eta(\\x08eta)$\")\\nplt.xlim(0.01, 1)\\nplt.ylim(0.3,)\\nplt.show()'"
      ]
     },
     "execution_count": 46,
     "metadata": {},
     "output_type": "execute_result"
    }
   ],
   "source": [
    "\"\"\"dim_arr=[50, 20, 10, 5, 2]\n",
    "plt.figure()\n",
    "for j in dim_arr:\n",
    "    aux=np.loadtxt(\"eta_beta_\"+str(j)+\".txt\")\n",
    "    plt.scatter(beta_arr, aux, label=\"$N=$\"+str(j), s=15)\n",
    "plt.yscale('log')\n",
    "plt.xscale('log')\n",
    "plt.legend(labelspacing=0, loc=[0.66, 0.5], handletextpad=0)\n",
    "plt.plot(x, np.pi/(2*x), color='black')\n",
    "plt.xlabel(r\"$\\beta$\")\n",
    "plt.ylabel(r\"$\\eta(\\beta)$\")\n",
    "plt.xlim(0.01, 1)\n",
    "plt.ylim(0.3,)\n",
    "plt.show()\"\"\""
   ]
  },
  {
   "cell_type": "code",
   "execution_count": 47,
   "metadata": {},
   "outputs": [
    {
     "data": {
      "text/plain": [
       "'plt.figure()\\nplt.plot(t, total, label=\\'Total\\', color=\\'black\\')\\nplt.plot(t, term1, label=\\'Term 1\\', color=\\'orange\\')\\nplt.plot(t, term2, label=\\'Term 2\\', ls=\\'-.\\', color=\\'red\\')\\nplt.plot(t, term3, label=\\'Term 3\\', color=\\'blue\\')\\nplt.xscale(\\'log\\')\\nplt.grid()\\nplt.xlim(t[0], t[-1])\\n#plt.yscale(\\'log\\')\\n#plt.ylim(1e-1, 1e3)\\nplt.xlabel(\"$t$\")\\nplt.ylabel(\"$g(t)$\")\\nplt.legend()\\nplt.show()'"
      ]
     },
     "execution_count": 47,
     "metadata": {},
     "output_type": "execute_result"
    }
   ],
   "source": [
    "\"\"\"plt.figure()\n",
    "plt.plot(t, total, label='Total', color='black')\n",
    "plt.plot(t, term1, label='Term 1', color='orange')\n",
    "plt.plot(t, term2, label='Term 2', ls='-.', color='red')\n",
    "plt.plot(t, term3, label='Term 3', color='blue')\n",
    "plt.xscale('log')\n",
    "plt.grid()\n",
    "plt.xlim(t[0], t[-1])\n",
    "#plt.yscale('log')\n",
    "#plt.ylim(1e-1, 1e3)\n",
    "plt.xlabel(\"$t$\")\n",
    "plt.ylabel(\"$g(t)$\")\n",
    "plt.legend()\n",
    "plt.show()\"\"\""
   ]
  },
  {
   "cell_type": "code",
   "execution_count": 48,
   "metadata": {},
   "outputs": [
    {
     "data": {
      "text/plain": [
       "'#print(avZ, avZGUE(β, dim))\\naux1=np.ones(n_points_t)\\nplt.figure(figsize=[8, 6])\\n#cmap1=cm.get_cmap(\\'viridis\\')\\nc_arr=[\\'blue\\', \\'green\\', \\'orange\\', \\'red\\']\\nfor l in range(nbeta):\\n    l=nbeta-1-l\\n    fhat=np.real(F_Z[:,l]/F_Z[0, l])\\n    plt.scatter(t_arr, fhat,color=c_arr[l], label=r\\'$\\x08eta=$\\'+str(beta_arr[l]))\\n    #plt.clim(np.log10(beta_arr[0]), np.log10(beta_arr[-1]))\\n    plt.plot(t, np.real(analyticF[:,l]/analyticF[0,l]), color=c_arr[l])\\n    #plt.axvspan(beta_arr[l]/(2*np.pi), beta_arr[l]/(2*np.pi)*np.log(dim), alpha=0.3, color=c_arr[l])\\n#plt.vlines(np.log(dim)/(2*np.pi/β), fhat[-1], 1, label=\\'Minimum Ehrenfest Time\\', ls=\\'-.\\')\\n#plt.vlines(1/(2*np.pi/β), fhat[-1], 1, label=\\'Minimum Dissipation Time\\', ls=\\'--\\')\\nplt.xlabel(\"t\")\\nplt.ylabel(\"$F(t)/F(0)$\")\\nplt.xscale(\\'log\\')\\nplt.yscale(\\'log\\')\\nplt.xlim(t_arr[1],)\\n#plt.ylim(np.min(fhat), 1)\\nplt.legend(labelspacing=0)\\nplt.show()'"
      ]
     },
     "execution_count": 48,
     "metadata": {},
     "output_type": "execute_result"
    }
   ],
   "source": [
    "\"\"\"#print(avZ, avZGUE(β, dim))\n",
    "aux1=np.ones(n_points_t)\n",
    "plt.figure(figsize=[8, 6])\n",
    "#cmap1=cm.get_cmap('viridis')\n",
    "c_arr=['blue', 'green', 'orange', 'red']\n",
    "for l in range(nbeta):\n",
    "    l=nbeta-1-l\n",
    "    fhat=np.real(F_Z[:,l]/F_Z[0, l])\n",
    "    plt.scatter(t_arr, fhat,color=c_arr[l], label=r'$\\beta=$'+str(beta_arr[l]))\n",
    "    #plt.clim(np.log10(beta_arr[0]), np.log10(beta_arr[-1]))\n",
    "    plt.plot(t, np.real(analyticF[:,l]/analyticF[0,l]), color=c_arr[l])\n",
    "    #plt.axvspan(beta_arr[l]/(2*np.pi), beta_arr[l]/(2*np.pi)*np.log(dim), alpha=0.3, color=c_arr[l])\n",
    "#plt.vlines(np.log(dim)/(2*np.pi/β), fhat[-1], 1, label='Minimum Ehrenfest Time', ls='-.')\n",
    "#plt.vlines(1/(2*np.pi/β), fhat[-1], 1, label='Minimum Dissipation Time', ls='--')\n",
    "plt.xlabel(\"t\")\n",
    "plt.ylabel(\"$F(t)/F(0)$\")\n",
    "plt.xscale('log')\n",
    "plt.yscale('log')\n",
    "plt.xlim(t_arr[1],)\n",
    "#plt.ylim(np.min(fhat), 1)\n",
    "plt.legend(labelspacing=0)\n",
    "plt.show()\"\"\""
   ]
  },
  {
   "cell_type": "code",
   "execution_count": null,
   "metadata": {},
   "outputs": [],
   "source": []
  }
 ],
 "metadata": {
  "kernelspec": {
   "display_name": "Python 3",
   "language": "python",
   "name": "python3"
  },
  "language_info": {
   "codemirror_mode": {
    "name": "ipython",
    "version": 3
   },
   "file_extension": ".py",
   "mimetype": "text/x-python",
   "name": "python",
   "nbconvert_exporter": "python",
   "pygments_lexer": "ipython3",
   "version": "3.7.6"
  }
 },
 "nbformat": 4,
 "nbformat_minor": 4
}
