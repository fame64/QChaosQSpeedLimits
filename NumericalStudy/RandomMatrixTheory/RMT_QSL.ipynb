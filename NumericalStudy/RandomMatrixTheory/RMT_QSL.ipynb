{
 "cells": [
  {
   "cell_type": "code",
   "execution_count": 12,
   "metadata": {},
   "outputs": [],
   "source": [
    "import numpy as np\n",
    "import numba\n",
    "from numba.types import *\n",
    "from numba import prange\n",
    "import matplotlib.pyplot as plt\n",
    "from numpy.linalg import eig, multi_dot, inv\n",
    "from numpy import sin\n",
    "from numpy import pi\n",
    "from scipy.optimize import curve_fit\n",
    "from scipy.linalg import eigvals\n",
    "import matplotlib\n",
    "matplotlib.rcParams['mathtext.fontset'] = 'stix'\n",
    "matplotlib.rcParams['font.family'] = 'STIXGeneral'\n",
    "matplotlib.rcParams['font.size']=20\n",
    "from scipy.linalg import expm, sqrtm\n",
    "from numpy.linalg import matrix_power\n",
    "from scipy.stats import linregress\n",
    "from math import acos"
   ]
  },
  {
   "cell_type": "code",
   "execution_count": 13,
   "metadata": {},
   "outputs": [],
   "source": [
    "#N=10 #Dimension of the Hilbert Space\n",
    "#S=5\n",
    "dim=10\n",
    "N=dim\n",
    "N_av=100 #Number of times to average\n",
    "A=1 #Probability distribution will be P~exp(-A x^2)\n",
    "sigma=np.sqrt(A/2)\n",
    "t_max=1\n",
    "n_points_t=50\n",
    "t_arr=np.linspace(0, t_max, n_points_t)\n",
    "\n",
    "basis = np.identity(dim)\n",
    "i=complex(0,1)\n",
    "β=5"
   ]
  },
  {
   "cell_type": "code",
   "execution_count": 14,
   "metadata": {},
   "outputs": [
    {
     "data": {
      "text/plain": [
       "\"Sx=np.zeros((dim, dim))\\nSy=np.zeros((dim, dim), dtype=complex)\\nSx=Compute_Sx(basis, S)\\nSy=Compute_Sy(basis, S) #I've checked that for S=1/2, 1, 3/2 the results are the expected ones\\nSz=Compute_Sz(S)\""
      ]
     },
     "execution_count": 14,
     "metadata": {},
     "output_type": "execute_result"
    }
   ],
   "source": [
    "@numba.jit(float64(float64[:], float64[:]), nopython=True, fastmath=True, parallel=False)\n",
    "def braket(bra, ket):\n",
    "    if np.all(bra== ket):\n",
    "        return 1\n",
    "    else:\n",
    "        return 0\n",
    "#@numba.jit(complex128[:,:](complex128[:], complex128[:]), nopython=True, fastmath=True, parallel=False)\n",
    "def ketbra(ket, bra):\n",
    "    dim=len(ket)\n",
    "    res=np.zeros((dim, dim), dtype=complex)\n",
    "    for j in range(dim):\n",
    "        for k in range(dim):\n",
    "            res[j,k]=ket[j]*np.conjugate(bra[k])\n",
    "    return res\n",
    "#Definition of the ladder operators\n",
    "@numba.jit(numba.types.Tuple((float64, float64[:]))(float64[:], float64), nopython=True, fastmath=True, parallel=False)\n",
    "def S_p(ket, S):\n",
    "    site= np.argmax(ket)\n",
    "    m=site-S\n",
    "    ket_out=np.zeros(dim)\n",
    "    if site== 2*S:\n",
    "        coef=0\n",
    "        return (coef, ket_out)\n",
    "    else:\n",
    "        coef=np.sqrt(S*(S+1)-m*(m+1))\n",
    "        ket_out[site+1]= 1\n",
    "        return (coef, ket_out)\n",
    "@numba.jit(numba.types.Tuple((float64, float64[:]))(float64[:], float64), nopython=True, fastmath=True, parallel=False)\n",
    "def S_m(ket, S):\n",
    "    site= np.argmax(ket)\n",
    "    m=site-S\n",
    "    ket_out=np.zeros(dim)\n",
    "    if site== 0:\n",
    "        coef=0\n",
    "        return (coef, ket_out)\n",
    "    else:\n",
    "        coef= np.sqrt(S*(S+1)-m*(m-1))\n",
    "        ket_out[site-1]= 1\n",
    "        return (coef, ket_out)\n",
    "@numba.jit(float64[:,:](float64[:, :], float64), nopython=True, fastmath=True, parallel=False)\n",
    "def Compute_Sx(basis, S):\n",
    "    dim=int(2*S+1)\n",
    "    Sx=np.zeros((dim, dim))\n",
    "    for j in range(dim):\n",
    "        for k in range(dim):\n",
    "            ket=basis[j, :]\n",
    "            bra=basis[k, :]\n",
    "            coef_p, S_p_ket=S_p(ket, S)\n",
    "            coef_m, S_m_ket=S_m(ket, S)\n",
    "            result_p=braket(bra, S_p_ket)\n",
    "            result_m=braket(bra, S_m_ket)\n",
    "            Sx[j, k]=(coef_p*result_p+ coef_m*result_m)/2\n",
    "    return Sx\n",
    "\n",
    "@numba.jit(complex128[:,:](float64[:, :], float64), nopython=True, fastmath=True, parallel=False)\n",
    "def Compute_Sy(basis, S):\n",
    "    dim=int(2*S+1)\n",
    "    Sy=np.zeros((dim, dim), dtype=complex128)\n",
    "    i=complex(0,1)\n",
    "    for j in range(dim):\n",
    "        for k in range(dim):\n",
    "            ket=basis[j, :]\n",
    "            bra=basis[k, :]\n",
    "            coef_p, S_p_ket=S_p(ket, S)\n",
    "            coef_m, S_m_ket=S_m(ket, S)\n",
    "            result_p=braket(bra, S_p_ket)\n",
    "            result_m=braket(bra, S_m_ket)\n",
    "            Sy[j, k]=-i*(coef_p*result_p- coef_m*result_m)/2\n",
    "    return Sy\n",
    "\n",
    "@numba.jit(float64[:,:](float64), nopython=True, fastmath=True, parallel=False)\n",
    "def Compute_Sz(S):\n",
    "    dim=int(2*S+1)\n",
    "    Sz=np.zeros((dim, dim))\n",
    "    for j in range(dim):\n",
    "        m=j-S\n",
    "        Sz[dim-1-j, dim-1-j]=m\n",
    "    return Sz\n",
    "\"\"\"Sx=np.zeros((dim, dim))\n",
    "Sy=np.zeros((dim, dim), dtype=complex)\n",
    "Sx=Compute_Sx(basis, S)\n",
    "Sy=Compute_Sy(basis, S) #I've checked that for S=1/2, 1, 3/2 the results are the expected ones\n",
    "Sz=Compute_Sz(S)\"\"\""
   ]
  },
  {
   "cell_type": "code",
   "execution_count": 15,
   "metadata": {},
   "outputs": [],
   "source": [
    "@numba.jit(float64[:,:](int64, float64), nopython=True, parallel=False, fastmath=True)\n",
    "def RMT_GOE(N, sigma):\n",
    "    auxH = np.random.randn(N,N)\n",
    "    H=(auxH+auxH.T)\n",
    "    return H\n",
    "@numba.jit(complex128[:,:](int64, float64), nopython=True, parallel=False, fastmath=True)\n",
    "def RMT_GUE(N, sigma):\n",
    "    H=np.zeros((N, N), dtype=complex128)\n",
    "    for j in range(N):\n",
    "        H[j,j]=np.random.normal(0,sigma)\n",
    "        for k in range(j+1, N):\n",
    "            a=np.random.normal(0,sigma)/np.sqrt(2)\n",
    "            b=np.random.normal(0,sigma)/np.sqrt(2)\n",
    "            H[j,k]=complex(a,b)\n",
    "            H[k,j]=complex(a,-b)\n",
    "    return H"
   ]
  },
  {
   "cell_type": "code",
   "execution_count": 16,
   "metadata": {},
   "outputs": [],
   "source": [
    "def fid(r, r_t):\n",
    "    return (np.abs(np.trace(sqrtm(sqrtm(r)@r_t@sqrtm(r)))))**2"
   ]
  },
  {
   "cell_type": "code",
   "execution_count": 17,
   "metadata": {},
   "outputs": [],
   "source": [
    "def RMTQuench(t, dim, N_av, β, Nt):\n",
    "    dt=t[1]-t[0]\n",
    "    H0_arr=np.zeros((dim, dim, N_av), dtype=complex)\n",
    "    Ht_arr=np.zeros((dim, dim, N_av), dtype=complex)\n",
    "    rho0_arr=np.zeros((dim, dim, N_av, Nt), dtype=complex)\n",
    "    rhot_arr=np.zeros((dim, dim, N_av, N_av, Nt), dtype=complex)\n",
    "    U_arr=np.zeros((dim, dim, N_av), dtype=complex)\n",
    "    invU_arr=np.zeros((dim, dim, N_av), dtype=complex)\n",
    "    fidt_arr=np.zeros((N_av, N_av, Nt))\n",
    "    avE=np.zeros((N_av, N_av))\n",
    "    avE2=np.zeros((N_av, N_av))\n",
    "    E0_arr=np.zeros(N_av)\n",
    "    Z_arr=np.zeros(N_av)\n",
    "    for k in range(N_av):\n",
    "        H0=RMT_GUE(dim, sigma)\n",
    "        H0_arr[:,:,k]=H0\n",
    "        eigval, evec=eig(H0)\n",
    "        Z=np.sum(np.exp(-β*eigval))\n",
    "        Z_arr[k]=Z\n",
    "        #E0_aux[k]=np.min(eigval)\n",
    "        for j in range(dim):\n",
    "            for l in range(Nt):\n",
    "                rho0_arr[:,:, k, l]+=np.exp(-(β+i*t[l])*eigval[j])*ketbra(evec[j], evec[j])/Z\n",
    "    for j in range(N_av):\n",
    "        Ht=RMT_GUE(dim, sigma)\n",
    "        Ht_arr[:,:,j]=Ht\n",
    "        auxE=np.linalg.eigvals(Ht)\n",
    "        E0_arr[j]=np.min(auxE)\n",
    "        U_arr[:,:,j]=expm(i*Ht*dt)\n",
    "        invU_arr[:,:,j]=expm(-i*Ht*dt)\n",
    "        #Uaux=expm(-i*Ht*t[-1])\n",
    "        #invUaux=expm(i*Ht*t[-1])\n",
    "        #Ht_arr[:,:,j]=invU_arr[:,:,j]@Ht@U_arr[:,:,j]\n",
    "    for j in range(N_av):\n",
    "        for k in range(N_av):\n",
    "            rhot_arr[:,:,k,j,0]=rho0_arr[:,:,k, 0]\n",
    "            fidt_arr[k,j,0]=1\n",
    "            for l in range(1,Nt):\n",
    "                rhot_arr[:,:,k, j, l]=invU_arr[:,:,j]@rhot_arr[:,:,k,j, l-1]@U_arr[:,:,j]\n",
    "                fidt_arr[k,j,l]=fid(rho0_arr[:,:,k, 0], rhot_arr[:,:,k, j, l])\n",
    "            avE[j,k]=Z_arr[k]*np.trace((Ht_arr[:,:,j]+H0_arr[:,:,k])@rho0_arr[:,:,k, 0])\n",
    "            avE2[j,k]=Z_arr[k]*np.trace((Ht_arr[:,:,j]+H0_arr[:,:,k])@(Ht_arr[:,:,j]+H0_arr[:,:,k])@rho0_arr[:,:,k, 0])\n",
    "            #avE2[j,k]=np.trace((Ht_arr[:,:,j]@Ht_arr[:,:,j]+H0_arr[:,:,k]@H0_arr[:,:,k])@rho0_arr[:,:,k, 0])\n",
    "    avZ=np.average(Z_arr)\n",
    "    E=np.average(avE)/avZ\n",
    "    E2=np.average(avE2)/avZ\n",
    "    E0=np.average(E0_arr)\n",
    "    E_E0=E-E0\n",
    "    deltaE=np.sqrt(E2-E**2)\n",
    "    fidt=np.zeros(Nt)\n",
    "    for l in range(Nt):\n",
    "        fidt[l]=np.average(fidt_arr[:,:,l])\n",
    "    return fidt, E_E0, deltaE"
   ]
  },
  {
   "cell_type": "code",
   "execution_count": 18,
   "metadata": {},
   "outputs": [
    {
     "name": "stderr",
     "output_type": "stream",
     "text": [
      "/home/pablo/anaconda3/lib/python3.7/site-packages/ipykernel_launcher.py:19: ComplexWarning: Casting complex values to real discards the imaginary part\n",
      "/home/pablo/anaconda3/lib/python3.7/site-packages/ipykernel_launcher.py:28: ComplexWarning: Casting complex values to real discards the imaginary part\n",
      "/home/pablo/anaconda3/lib/python3.7/site-packages/ipykernel_launcher.py:41: ComplexWarning: Casting complex values to real discards the imaginary part\n",
      "/home/pablo/anaconda3/lib/python3.7/site-packages/ipykernel_launcher.py:42: ComplexWarning: Casting complex values to real discards the imaginary part\n"
     ]
    }
   ],
   "source": [
    "fidt, E_E0, deltaE=RMTQuench(t_arr, dim, N_av, β, len(t_arr))"
   ]
  },
  {
   "cell_type": "code",
   "execution_count": null,
   "metadata": {},
   "outputs": [],
   "source": []
  },
  {
   "cell_type": "code",
   "execution_count": null,
   "metadata": {},
   "outputs": [],
   "source": []
  },
  {
   "cell_type": "code",
   "execution_count": null,
   "metadata": {},
   "outputs": [],
   "source": []
  },
  {
   "cell_type": "code",
   "execution_count": null,
   "metadata": {},
   "outputs": [],
   "source": []
  },
  {
   "cell_type": "code",
   "execution_count": 33,
   "metadata": {},
   "outputs": [
    {
     "name": "stderr",
     "output_type": "stream",
     "text": [
      "/home/pablo/anaconda3/lib/python3.7/site-packages/ipykernel_launcher.py:20: RuntimeWarning: invalid value encountered in true_divide\n",
      "/home/pablo/anaconda3/lib/python3.7/site-packages/ipykernel_launcher.py:28: RuntimeWarning: invalid value encountered in true_divide\n",
      "/home/pablo/anaconda3/lib/python3.7/site-packages/ipykernel_launcher.py:29: RuntimeWarning: invalid value encountered in true_divide\n"
     ]
    },
    {
     "data": {
      "image/png": "[encoded data removed]",
      "text/plain": [
       "<Figure size 720x288 with 2 Axes>"
      ]
     },
     "metadata": {
      "needs_background": "light"
     },
     "output_type": "display_data"
    }
   ],
   "source": [
    "#print(fid_t)\n",
    "#print(fid_t_aux)\n",
    "if np.any(np.max(np.imag(fidt))>1e-8):\n",
    "    print('Complex Warning')\n",
    "fid_t=np.real(fidt)\n",
    "if np.any(fid_t>1):\n",
    "    print(np.max(fid_t))\n",
    "    fid_t[np.argmax(fid_t)]=1\n",
    "dfid_dt=np.zeros(n_points_t)\n",
    "dt=t_arr[1]-t_arr[0]\n",
    "for k in range(1,n_points_t):\n",
    "    dfid_dt[k]=(fid_t[k]-fid_t[k-1])/dt\n",
    "\"\"\"t_plot=np.zeros(n_points_t-1)\n",
    "for k in range(n_points_t-1):\n",
    "    t_plot[k]=t_arr[k+1]\"\"\"\n",
    "BuresAng=np.arccos(np.sqrt(fid_t))\n",
    "#BuresAng=np.pi/2\n",
    "#print(BuresAng)\n",
    "t_QSL=BuresAng*np.max([1/deltaE, 1/E_E0])\n",
    "v_gamma=(1-fid_t)/t_QSL\n",
    "#v_gamma[0]=0\n",
    "#v_gamma2=(np.sin(BuresAng))**2/t_QSL\n",
    "fig, (ax1, ax2)= plt.subplots(1, 2, sharey=True, figsize=[10, 4])\n",
    "plt.subplots_adjust(wspace=0)\n",
    "ax1.plot(t_arr, ML_b1, color='blue', ls=\"-.\",label=\"ML QSL\")\n",
    "ax1.plot(t_arr, MT_b1, color='black', ls=\"--\",label=\"MT QSL\")\n",
    "ax1.scatter(t_arr, Fdot_b1, label=\"GUE\", color='red')\n",
    "ax2.plot(t_arr, (1-fid_t)/(BuresAng/E_E0), color='blue', ls=\"-.\",label=\"ML QSL\")\n",
    "ax2.plot(t_arr, (1-fid_t)/(BuresAng/deltaE), color='black', ls=\"--\",label=\"MT QSL\")\n",
    "ax2.scatter(t_arr, np.abs(dfid_dt), label=\"GUE\", color='red')\n",
    "#plt.plot(t_arr, fid_t)\n",
    "#plt.errorbar(t_arr, BuresAng, yerr=sigma_fid, color='red', linestyle='None', capsize=2)\n",
    "#plt.scatter(t_arr, np.real(trS))\n",
    "#plt.xlim(0, 0.5)\n",
    "ax1.set_ylim(0,3)\n",
    "ax1.set_ylabel(r\"$|\\dot{F}(t)|$\")\n",
    "ax1.set_xlabel(\"$t$\")\n",
    "ax1.set_xlim(0, 1)\n",
    "ax2.set_xlim(0,1)\n",
    "ax1.set_ylim(0, 2.8)\n",
    "ax1.legend(labelspacing=0)\n",
    "ax1.set_xticks([0,0.25, 0.5, 0.75])\n",
    "ax1.text(0.03, 2.5, \"(a)\")\n",
    "ax2.text(0.03, 2.5, \"(b)\")\n",
    "ax2.set_xlabel(\"$t$\")\n",
    "#plt.yscale('log')\n",
    "#plt.ylim(0, 0.6)\n",
    "plt.show()"
   ]
  },
  {
   "cell_type": "code",
   "execution_count": 20,
   "metadata": {},
   "outputs": [
    {
     "data": {
      "text/plain": [
       "\"plt.figure()\\nplt.plot(t_arr, fid_t)\\n#plt.yscale('log')\\n#plt.xscale('log')\\nplt.show()\""
      ]
     },
     "execution_count": 20,
     "metadata": {},
     "output_type": "execute_result"
    }
   ],
   "source": [
    "\"\"\"plt.figure()\n",
    "plt.plot(t_arr, fid_t)\n",
    "#plt.yscale('log')\n",
    "#plt.xscale('log')\n",
    "plt.show()\"\"\""
   ]
  },
  {
   "cell_type": "code",
   "execution_count": 21,
   "metadata": {},
   "outputs": [
    {
     "data": {
      "text/plain": [
       "'ML_b1=(1-fid_t)/(BuresAng/E_E0)\\nMT_b1=(1-fid_t)/(BuresAng/deltaE)\\nFdot_b1=np.abs(dfid_dt)'"
      ]
     },
     "execution_count": 21,
     "metadata": {},
     "output_type": "execute_result"
    }
   ],
   "source": [
    "\"\"\"ML_b1=(1-fid_t)/(BuresAng/E_E0)\n",
    "MT_b1=(1-fid_t)/(BuresAng/deltaE)\n",
    "Fdot_b1=np.abs(dfid_dt)\"\"\""
   ]
  },
  {
   "cell_type": "code",
   "execution_count": null,
   "metadata": {},
   "outputs": [],
   "source": []
  },
  {
   "cell_type": "code",
   "execution_count": null,
   "metadata": {},
   "outputs": [],
   "source": []
  },
  {
   "cell_type": "code",
   "execution_count": null,
   "metadata": {},
   "outputs": [],
   "source": []
  }
 ],
 "metadata": {
  "kernelspec": {
   "display_name": "Python 3",
   "language": "python",
   "name": "python3"
  },
  "language_info": {
   "codemirror_mode": {
    "name": "ipython",
    "version": 3
   },
   "file_extension": ".py",
   "mimetype": "text/x-python",
   "name": "python",
   "nbconvert_exporter": "python",
   "pygments_lexer": "ipython3",
   "version": "3.7.6"
  }
 },
 "nbformat": 4,
 "nbformat_minor": 4
}
