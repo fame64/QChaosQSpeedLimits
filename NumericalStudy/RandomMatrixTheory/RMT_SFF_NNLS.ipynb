{
 "cells": [
  {
   "cell_type": "code",
   "execution_count": 70,
   "metadata": {},
   "outputs": [],
   "source": [
    "import numpy as np\n",
    "import numba\n",
    "from numba.types import *\n",
    "from numba import prange\n",
    "import matplotlib.pyplot as plt\n",
    "from numpy.linalg import eig, multi_dot, inv, matrix_power, eigh\n",
    "from scipy.optimize import curve_fit\n",
    "from matplotlib import rcParams\n",
    "import matplotlib as mpl\n",
    "rcParams['mathtext.fontset'] = 'stix'\n",
    "rcParams['font.family'] = 'STIXGeneral'\n",
    "rcParams['font.size']=20\n",
    "from scipy.linalg import expm, sqrtm\n",
    "from scipy.stats import linregress\n",
    "from math import acos, factorial\n",
    "from scipy.special import eval_genlaguerre, gamma, hyp1f1"
   ]
  },
  {
   "cell_type": "code",
   "execution_count": 71,
   "metadata": {},
   "outputs": [],
   "source": [
    "#Definition of the Key Parameters\n",
    "dim=5 #Dimension  of the Hilbert a.k.a Random matrices of dimension dim x dim\n",
    "A=1 #Probability distribution to take the RMT elements will be P~exp(-A x^2)\n",
    "sigma=np.sqrt(A/2) #Standard deviation of the normal distribution\n",
    "basis = np.identity(dim)\n",
    "i=complex(0,1)\n",
    "β=2 #Inverse temperature\n",
    "tmax=100 #Maximum time we simulate. (Dimensionless) Typicaly the dip is found at t<=1\n",
    "n_points_t=300 #Number of points in the time array\n",
    "xlogscale=True #If True the time points will be uniformly distributed in logscale\n",
    "if xlogscale:\n",
    "    auxtmin=-2 #tmin=10**auxtmin\n",
    "    auxtmax=np.log10(tmax)\n",
    "    auxt=np.linspace(auxtmin, auxtmax, n_points_t)\n",
    "    t_arr=10**(auxt)\n",
    "else:\n",
    "    t_arr=np.linspace(0, tmax, n_points_t)\n",
    "Nav=300 #Number of random matrices to average over\n",
    "hbar=1 #We use hbar=1\n",
    "\n",
    "#Comment on dimensions of quantities: \n",
    "#Both the time and the inverse temperature are dimensionless. The underlying dimension of\n",
    "#energy is given by A which gives a dimension to the elements of the Random Matrix"
   ]
  },
  {
   "cell_type": "code",
   "execution_count": 72,
   "metadata": {},
   "outputs": [],
   "source": [
    "#Basic subroutines:\n",
    "#Compute the dot product between a bra and a ket. Returns a complex number\n",
    "@numba.jit(float64(float64[:], float64[:]), nopython=True, fastmath=True, parallel=False)\n",
    "def braket(bra, ket):\n",
    "    if np.all(bra== ket):\n",
    "        return 1\n",
    "    else:\n",
    "        return 0\n",
    "#Compute the product between a jet and a bra. Returns an operator over the Hilbert space\n",
    "@numba.jit(complex128[:,:](complex128[:], complex128[:]), nopython=True, fastmath=True, parallel=False)\n",
    "def ketbra(ket, bra):\n",
    "    dim=len(ket)\n",
    "    res=np.zeros((dim, dim), dtype=complex128)\n",
    "    for j in range(dim):\n",
    "        for k in range(dim):\n",
    "            res[j,k]=ket[j]*np.conjugate(bra[k])\n",
    "    return res"
   ]
  },
  {
   "cell_type": "code",
   "execution_count": 73,
   "metadata": {},
   "outputs": [],
   "source": [
    "#Construct a Random Gaussian Orthogonal Matrix GOE (Time Reversal Symmetry is present)\n",
    "@numba.jit(float64[:,:](int64, float64), nopython=True, parallel=False, fastmath=True)\n",
    "def RMT_GOE(N, sigma):\n",
    "    auxH = np.random.randn(N,N) #Creates a random array normally distributed. Assumes sigma=1\n",
    "    H=(auxH+auxH.T) #Summing any matrix and its transpose gives a symmetric matrix\n",
    "    return H\n",
    "#Construct a Random Gaussian Hermitian Matrix. GUE (No Time-Reversal Symmetry)\n",
    "@numba.jit(complex128[:,:](int64, float64), nopython=True, parallel=False, fastmath=True)\n",
    "def RMT_GUE(N, sigma):\n",
    "    H=np.zeros((N, N), dtype=complex128) #Define a N x N matrix\n",
    "    for j in range(N):\n",
    "        H[j,j]=np.random.normal(0,sigma) #The elements in the diagonal are real.\n",
    "        for k in range(j+1, N):\n",
    "            a=np.random.normal(0,sigma)/np.sqrt(2) #Elements out of diagonal\n",
    "            b=np.random.normal(0,sigma)/np.sqrt(2) #Take care with the sqrt(2) dividing\n",
    "            #With this sqrt(2) the average modulus of the random numbers is the same as in \n",
    "            #the diagonal\n",
    "            H[j,k]=complex(a,b)\n",
    "            H[k,j]=complex(a,-b)\n",
    "    return H\n",
    "def unfoldSpectrum(E, order, n_bins):\n",
    "    Emax=np.max(E)\n",
    "    Emin=np.min(E)\n",
    "    rhoE, bins=np.histogram(E, bins=np.linspace(Emin, Emax, n_bins+1), density='True')\n",
    "    bins=bins[:-1]\n",
    "    N_E=np.zeros(n_bins)\n",
    "    dummyE=0\n",
    "    dE=(bins[1]-bins[0])\n",
    "    for k in range(n_bins):\n",
    "        dummyE+=rhoE[k]*dE\n",
    "        N_E[k]=dummyE\n",
    "    fit=np.polyfit(bins, N_E, order)\n",
    "    polyn=np.poly1d(fit)\n",
    "    unf_E=dim*polyn(E)\n",
    "    rhoE_unf, bins=np.histogram(unf_E, bins=np.linspace(np.min(unf_E), np.max(unf_E), n_bins+1), density='True')\n",
    "    stdrho=np.std(rhoE_unf)\n",
    "    ndiscard=np.sum(rhoE_unf>1/dim+2*stdrho) # # bins with ρ(E)>1/N+2σ. # bins to discard\n",
    "    unf_E=unf_E[unf_E>bins[ndiscard]]\n",
    "    unf_E=unf_E[unf_E<bins[-1-ndiscard]]\n",
    "    return unf_E"
   ]
  },
  {
   "cell_type": "markdown",
   "metadata": {},
   "source": [
    "The regularized OTOC is defined for any two operators $V$, $W$ as\n",
    "$$F_\\beta(t):=Z^{-1}(\\beta)\\mathrm{Tr}\\{e^{-\\beta H/4}Ve^{-\\beta H/4}W(t)e^{-\\beta H/4}V e^{-\\beta H/4}W(t)\\}$$\n",
    "We will consider the operators\n",
    "$$V=|m\\rangle \\langle n|, \\qquad W(t)=e^{i(E_n-E_m)t}|n\\rangle \\langle m|$$\n",
    "With this each regularized OTOC will be $F_{mn}(t)$ and the total OTOC\n",
    "$$F(t)=\\sum_{m,n}F_{mn}(t)$$\n",
    "With this selection of $V, W(t)$ we can relate the OTOC with the Spectral Form Factor $g(\\beta, t)$:\n",
    "$$F_\\beta(t)= \\frac{g(\\beta/2, 2t)}{Z(\\beta)}=\\frac{Z(\\beta/2 + 2 i t) Z(\\beta/2 - 2 i t)}{Z(\\beta)}$$\n",
    "When taking the average over the GUE (or GOE) there are two versions of the quantities. Say a quantity is given $A(\\beta, t)/B(\\beta, t)$, then\n",
    "$$\\Big \\langle \\frac{A(\\beta, t)}{B(\\beta, t)} \\Big \\rangle \\approx \\frac{\\langle A(\\beta, t) \\rangle }{\\langle B(\\beta, t) \\rangle }$$\n",
    "Typically the one we will be able to compare with analytics is the second one, also known as \"annealed\" version."
   ]
  },
  {
   "cell_type": "code",
   "execution_count": 74,
   "metadata": {},
   "outputs": [],
   "source": [
    "#Compute the analytically continued partition function given the spectrum E of the system\n",
    "#The β parameter may be complex valued.\n",
    "@numba.jit(complex128(complex128, float64[:]))\n",
    "def Z_c(β, E):\n",
    "    Z=np.sum(np.exp(-β*E))\n",
    "    return Z"
   ]
  },
  {
   "cell_type": "code",
   "execution_count": 75,
   "metadata": {},
   "outputs": [],
   "source": [
    "#The commented lines of code compute the non-annealed version of F(β, t) using the \n",
    "#full definition. This is a very slow procedure, for this reason we usually compute \n",
    "#the annealed version directly from the product Z(β/2 + 2 i t)Z(β/2 - 2 i t) where Z is \n",
    "#computed numerically from the energies\n",
    "F_2_arr=np.zeros((n_points_t, Nav), dtype=complex)\n",
    "#F_arr=np.zeros((n_points_t, Nav), dtype=complex)\n",
    "F_Z_arr=np.zeros((n_points_t, Nav), dtype=complex)\n",
    "F_k_arr=np.zeros((n_points_t, Nav, dim), dtype=complex)\n",
    "Z_arr=np.zeros(Nav)\n",
    "for j in range(Nav):\n",
    "    H=RMT_GUE(dim, sigma) #Create random Matrix from GUE\n",
    "    E, ket_n=eigh(H) #Diagonalize it\n",
    "    if np.any(np.imag(E)>1e-8): \n",
    "        print(\"Problems\") #Ensures that we have real eigenvalues\n",
    "        print(np.max(np.imag(E)))\n",
    "    #uE=unfoldSpectrum(E, 15, 60)\n",
    "    Z=np.real(Z_c(β, E)) #Computes the partition function at temperature β\n",
    "    Z_arr[j]=Z #Stores the partition function in an array to average it\n",
    "    #auxF1=0\n",
    "    #for n in range(dim):\n",
    "    #auxF1=np.exp(-β*(E[0]+E[1]))\n",
    "    F_k_arr[:,j,0]=Z_c(2*β, E)/Z**2*np.ones(n_points_t)\n",
    "    for k in range(1, dim):\n",
    "        s=[]\n",
    "        auxfk=0\n",
    "        for m in range(dim-k):\n",
    "            s.append(E[m+k]-E[m])\n",
    "        #s=np.append(s, 0)\n",
    "        for n in range(len(s)):\n",
    "            #auxfk+=np.exp(i*t_arr*s[n])*np.exp(-β*(2*E[n]+s[n]))+np.exp(-i*t_arr*s[n])*np.exp(-β*(2*E[n]+s[n]))\n",
    "            auxfk+=2*np.cos(t_arr*s[n])*np.exp(-β*(2*E[n]+s[n]))\n",
    "        F_k_arr[:,j, k]=auxfk/Z**2\n",
    "    #F_2_arr[:,j]=(Z_c(2*β, E) + auxF2)/Z**2\n",
    "    #F_2_arr[:,j]=(Z_c(2*β, E) + 2*np.cos(s*t_arr))/Z**2\n",
    "    #Computes the exp(-β H/4) factor needed for the OTOC\n",
    "    for k in range(n_points_t):\n",
    "        #F_arr[k,j]=F(y, Z, E, ket_n, t_arr[k])\n",
    "        Zaux1=Z_c(β+i*t_arr[k], E) #Computes the analytically continued partition function\n",
    "        Zaux2=Z_c(β-i*t_arr[k], E)\n",
    "        F_Z_arr[k,j]=Zaux1*Zaux2/Z**2\n",
    "avZ=np.average(Z_arr) #Average Partition function\n",
    "#F_t=np.average(F_arr, axis=1)\n",
    "F_Z=np.average(F_Z_arr, axis=1) \n",
    "#F_2=np.average(F_2_arr, axis=1)\n",
    "F_k=np.average(np.real(F_k_arr), axis=1)\n",
    "#sigmaF_t=np.std(np.real(F_arr), axis=1) #Standard deviation of F"
   ]
  },
  {
   "cell_type": "code",
   "execution_count": 76,
   "metadata": {},
   "outputs": [],
   "source": [
    "#Subroutine to compute the Generalized Laguerre Polynomials (does the same as eval_genlaguerre)\n",
    "def GenLag(n, alpha, x):\n",
    "    L=0\n",
    "    for j in range(n+1):\n",
    "        L+=gamma(n+alpha+1)*(-x)**j/(gamma(n-j+1)*gamma(alpha+j+1)*factorial(j))\n",
    "    return L"
   ]
  },
  {
   "cell_type": "markdown",
   "metadata": {},
   "source": [
    "Analytical solution for SFF and partition function of the GUE:\n",
    "$$\\langle Z(\\sigma) \\rangle_{GUE}= e^{\\sigma^2/4} L^1_{N-1}\\left( -\\frac{\\sigma^2}{2}\\right)$$\n",
    "where $\\sigma=\\beta + i t$ and $L^\\alpha_n(x)$ is the generalized Laguerre Polynomial, defined as\n",
    "$$L^\\alpha_n(x) = \\sum_{j=0}^n \\left(\\begin{array}{c}n + \\alpha \\\\ n - j\\end{array}\\right) \\frac{(-x)^j}{j!}$$\n",
    "With this the SFF can be written as three terms\n",
    "$$g(\\beta, t) = \\langle Z(2 \\beta) \\rangle + |\\langle Z(\\beta + i t) \\rangle |^2 + g_c(\\beta, t)$$\n",
    "where $g_c(\\beta, t)$ is the connected part of the SFF\n",
    "$$g_c(\\beta, t) = - e^{(\\sigma^2 + {\\sigma^*}^2)/4}\\sum_{m,n}^{N-1} c_{mn} \\left( \\frac{|\\sigma|^2}{2} \\right)^{|n-m|} |L^{|n-m|}_{min(n,m)}(-\\sigma^2/2)|^2$$\n",
    "where $c_{mn}=min(n,m)!/max(n,m)!$."
   ]
  },
  {
   "cell_type": "code",
   "execution_count": 77,
   "metadata": {},
   "outputs": [],
   "source": [
    "#Compute the averaged (analytically continued) Partition Function for the GUE.\n",
    "def avZGUE(sigma, dim):\n",
    "    return np.exp(sigma**2/4)*eval_genlaguerre(dim-1, 1, -sigma**2/2)\n",
    "    #return np.exp(sigma**2/4)*GenLag(dim-1, 1, -sigma**2/2)\n",
    "#Compute the connected part of the SFF averaged for the GUE\n",
    "def gcGUE(sigma0, dim):\n",
    "    gc=0\n",
    "    for n in range(dim):\n",
    "        for m in range(dim):\n",
    "            cmn=factorial(np.min([n,m]))/factorial(np.max([n, m]))\n",
    "            dnm=np.abs(n-m)\n",
    "            minnm=np.min([n,m])\n",
    "            poly=eval_genlaguerre(minnm, dnm, -sigma0**2/2)\n",
    "            gc+=cmn*(np.conjugate(sigma0)*sigma0/2)**dnm*np.conjugate(poly)*poly\n",
    "    return -np.exp((sigma0**2+(np.conjugate(sigma0))**2)/4)*gc\n",
    "#COmpute the total SFF averaged over the GUE\n",
    "def avgGUE(beta, t, dim):\n",
    "    term1=avZGUE(2*beta, dim)\n",
    "    term2=avZGUE(beta+i*t, dim)\n",
    "    #term2=(np.abs(term2))**2\n",
    "    term2=np.conjugate(term2)*term2\n",
    "    term3=gcGUE(beta+i*t, dim)\n",
    "    return term1+term2+term3\n",
    "if xlogscale:\n",
    "    t=np.linspace(10**auxtmin, tmax, 10000)\n",
    "else:\n",
    "    t=np.linspace(0, tmax, 10000)\n",
    "#analyticF=avgGUE(β, t, dim)/avZGUE(β, dim)"
   ]
  },
  {
   "cell_type": "code",
   "execution_count": 78,
   "metadata": {},
   "outputs": [
    {
     "name": "stdout",
     "output_type": "stream",
     "text": [
      "0.0\n"
     ]
    }
   ],
   "source": [
    "print(np.max(np.abs(np.imag(F_k))))"
   ]
  },
  {
   "cell_type": "code",
   "execution_count": 88,
   "metadata": {},
   "outputs": [
    {
     "data": {
      "image/png": "[encoded data removed]",
      "text/plain": [
       "<Figure size 720x288 with 2 Axes>"
      ]
     },
     "metadata": {
      "needs_background": "light"
     },
     "output_type": "display_data"
    }
   ],
   "source": [
    "#fhat=np.real(F_Z/F_Z[0]) #Define Fhat=F(t)/F(0)ç\n",
    "acumF_k=np.sum(F_k, axis=1)\n",
    "fhat=np.real(F_Z)\n",
    "fig, (ax1, ax2)=plt.subplots(1, 2, sharey=True, figsize=[10, 4])\n",
    "minf=np.min(fhat)\n",
    "ax1.scatter(t_arr, fhat_b0, color='red', s=10)\n",
    "ax1.plot(t_arr, acumF_k_b0, lw=2, color='black')\n",
    "ax2.scatter(t_arr, fhat, color='red', s=10)\n",
    "ax2.plot(t_arr, acumF_k, lw=2, color='black', label=r\"$\\sum_k F^{(k)}(t)$\")\n",
    "cm = plt.get_cmap('plasma')\n",
    "#ax.set_color_cycle([cm(1.*k/dim) for i in range(dim)])\n",
    "lines = ax1.plot(t_arr, F_k_b0[:,0], label=r\"$Z(2 \\beta)$\", ls='--')\n",
    "lines[0].set_color(cm(0/dim))\n",
    "lines = ax2.plot(t_arr, F_k[:,0], label=r\"$Z(2 \\beta)$\", ls='--')\n",
    "lines[0].set_color(cm(0/dim))\n",
    "for k in range(1,dim):\n",
    "    lines = ax1.plot(t_arr, F_k_b0[:,k], label=\"k=\"+str(k))\n",
    "    lines[0].set_color(cm(k/dim))\n",
    "    lines = ax2.plot(t_arr, F_k[:,k], label=\"k=\"+str(k))\n",
    "    lines[0].set_color(cm(k/dim))\n",
    "#plt.scatter(t_arr, np.real(F_t/F_t[0]), label='Numerics GUE <./.>')\n",
    "#cb=fig.colorbar(lines, ax=ax)\n",
    "#cb.set_label(\"k\")\n",
    "plt.subplots_adjust(wspace=0)\n",
    "ax1.set_xlabel(\"$t$\")\n",
    "ax1.set_ylabel(\"$F^{(k)}(t)$\")\n",
    "ax1.set_xscale('log')\n",
    "ax2.set_xscale('log')\n",
    "ax2.set_xlim(t_arr[1],t_arr[-1])\n",
    "ax2.set_xlabel(\"$t$\")\n",
    "#plt.yscale('log')\n",
    "ax1.set_xlim(t_arr[1],t_arr[-1])\n",
    "#plt.ylim(np.min(fhat), 1)\n",
    "ax1.legend(labelspacing=0)\n",
    "ax1.text(1.3e-2,0.85, \"(a)\")\n",
    "ax2.text(1.3e-2,0.85, \"(b)\")\n",
    "plt.show()"
   ]
  },
  {
   "cell_type": "code",
   "execution_count": 80,
   "metadata": {},
   "outputs": [
    {
     "data": {
      "text/plain": [
       "'fhat_b0=fhat\\nacumF_k_b0=acumF_k\\nF_k_b0=F_k'"
      ]
     },
     "execution_count": 80,
     "metadata": {},
     "output_type": "execute_result"
    }
   ],
   "source": [
    "\"\"\"fhat_b0=fhat\n",
    "acumF_k_b0=acumF_k\n",
    "F_k_b0=F_k\"\"\""
   ]
  },
  {
   "cell_type": "code",
   "execution_count": null,
   "metadata": {},
   "outputs": [],
   "source": []
  },
  {
   "cell_type": "code",
   "execution_count": null,
   "metadata": {},
   "outputs": [],
   "source": []
  },
  {
   "cell_type": "code",
   "execution_count": null,
   "metadata": {},
   "outputs": [],
   "source": []
  },
  {
   "cell_type": "code",
   "execution_count": null,
   "metadata": {},
   "outputs": [],
   "source": []
  }
 ],
 "metadata": {
  "kernelspec": {
   "display_name": "Python 3",
   "language": "python",
   "name": "python3"
  },
  "language_info": {
   "codemirror_mode": {
    "name": "ipython",
    "version": 3
   },
   "file_extension": ".py",
   "mimetype": "text/x-python",
   "name": "python",
   "nbconvert_exporter": "python",
   "pygments_lexer": "ipython3",
   "version": "3.7.6"
  }
 },
 "nbformat": 4,
 "nbformat_minor": 4
}
