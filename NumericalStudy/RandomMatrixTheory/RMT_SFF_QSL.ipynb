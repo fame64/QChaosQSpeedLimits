{
 "cells": [
  {
   "cell_type": "code",
   "execution_count": 54,
   "metadata": {},
   "outputs": [],
   "source": [
    "import numpy as np\n",
    "import numba\n",
    "from numba.types import *\n",
    "from numba import prange\n",
    "import matplotlib.pyplot as plt\n",
    "from numpy.linalg import eig, multi_dot, inv, matrix_power, eigh\n",
    "from scipy.optimize import curve_fit\n",
    "from matplotlib import rcParams\n",
    "rcParams['mathtext.fontset'] = 'stix'\n",
    "rcParams['font.family'] = 'STIXGeneral'\n",
    "rcParams['font.size']=20\n",
    "from scipy.linalg import expm, sqrtm\n",
    "from scipy.stats import linregress\n",
    "from math import acos, factorial\n",
    "from scipy.special import eval_genlaguerre, gamma, hyp1f1"
   ]
  },
  {
   "cell_type": "code",
   "execution_count": 55,
   "metadata": {},
   "outputs": [],
   "source": [
    "#N=10 #Dimension of the Hilbert Space\n",
    "#S=5\n",
    "dim=20\n",
    "A=1 #Probability distribution will be P~exp(-A x^2)\n",
    "sigma=np.sqrt(A/2)\n",
    "#t_max=0.5\n",
    "#n_points_t=50\n",
    "#t_arr=np.linspace(0, t_max, n_points_t)\n",
    "basis = np.identity(dim)\n",
    "i=complex(0,1)\n",
    "β=0\n",
    "#tmax=np.log(dim)/(2*np.pi/β)*2\n",
    "tmax=100\n",
    "n_points_t=300\n",
    "xlogscale=True\n",
    "if xlogscale:\n",
    "    auxtmin=-2\n",
    "    auxtmax=np.log10(tmax)\n",
    "    auxt=np.linspace(auxtmin, auxtmax, n_points_t)\n",
    "    t_arr=10**(auxt)\n",
    "else:\n",
    "    t_arr=np.linspace(0, tmax, n_points_t)\n",
    "Nav=500\n",
    "hbar=1"
   ]
  },
  {
   "cell_type": "code",
   "execution_count": 56,
   "metadata": {},
   "outputs": [],
   "source": [
    "#Construct a Random Gaussian Orthogonal Matrix GOE (Time Reversal Symmetry is present)\n",
    "@numba.jit(float64[:,:](int64, float64), nopython=True, parallel=False, fastmath=True)\n",
    "def RMT_GOE(N, sigma):\n",
    "    auxH = np.random.randn(N,N) #Creates a random array normally distributed. Assumes sigma=1\n",
    "    H=(auxH+auxH.T) #Summing any matrix and its transpose gives a symmetric matrix\n",
    "    return H\n",
    "#Construct a Random Gaussian Hermitian Matrix. GUE (No Time-Reversal Symmetry)\n",
    "@numba.jit(complex128[:,:](int64, float64), nopython=True, parallel=False, fastmath=True)\n",
    "def RMT_GUE(N, sigma):\n",
    "    H=np.zeros((N, N), dtype=complex128) #Define a N x N matrix\n",
    "    for j in range(N):\n",
    "        H[j,j]=np.random.normal(0,sigma) #The elements in the diagonal are real.\n",
    "        for k in range(j+1, N):\n",
    "            a=np.random.normal(0,sigma)/np.sqrt(2) #Elements out of diagonal\n",
    "            b=np.random.normal(0,sigma)/np.sqrt(2) #Take care with the sqrt(2) dividing\n",
    "            #With this sqrt(2) the average modulus of the random numbers is the same as in \n",
    "            #the diagonal\n",
    "            H[j,k]=complex(a,b)\n",
    "            H[k,j]=complex(a,-b)\n",
    "    return H\n",
    "\n",
    "#Compute the analytically continued partition function given the spectrum E of the system\n",
    "#The β parameter may be complex valued.\n",
    "@numba.jit(complex128(complex128, float64[:]))\n",
    "def Z_c(β, E):\n",
    "    Z=np.sum(np.exp(-β*E))\n",
    "    return Z"
   ]
  },
  {
   "cell_type": "code",
   "execution_count": 57,
   "metadata": {},
   "outputs": [],
   "source": [
    "def avZGUE(sigma, dim):\n",
    "    return np.exp(sigma**2/4)*eval_genlaguerre(dim-1, 1, -sigma**2/2)\n",
    "    #return np.exp(sigma**2/4)*GenLag(dim-1, 1, -sigma**2/2)\n",
    "def gcGUE(sigma0, dim):\n",
    "    gc=0\n",
    "    for n in range(dim):\n",
    "        for m in range(dim):\n",
    "            cmn=factorial(np.min([n,m]))/factorial(np.max([n, m]))\n",
    "            dnm=np.abs(n-m)\n",
    "            minnm=np.min([n,m])\n",
    "            poly=eval_genlaguerre(minnm, dnm, -sigma0**2/2)\n",
    "            #poly=GenLag(dim-1, 1, -sigma0**2/2)\n",
    "            gc+=cmn*(np.conjugate(sigma0)*sigma0/2)**dnm*np.conjugate(poly)*poly\n",
    "            #psimn=hyp1f1(-m, 1+m-n, -sigma**2/2)/gamma(1+m-n)\n",
    "            #gc+=(sigma/np.conjugate(sigma))**(m-n)*np.conjugate(psimn)*psimn\n",
    "    return -np.exp((sigma0**2+(np.conjugate(sigma0))**2)/4)*gc\n",
    "    #return np.exp((sigma0**2+(np.conjugate(sigma0))**2)/4)*gc\n",
    "\n",
    "def avgGUE(beta, t, dim):\n",
    "    Z=avZGUE(beta, dim)\n",
    "    term1=avZGUE(2*beta, dim)\n",
    "    term2=avZGUE(beta+i*t, dim)\n",
    "    #term2=(np.abs(term2))**2\n",
    "    term2=np.conjugate(term2)*term2\n",
    "    term3=gcGUE(beta+i*t, dim)\n",
    "    return (term1+term2+term3)\n",
    "n_p_t=10000\n",
    "if xlogscale:\n",
    "    #t=np.linspace(10**auxtmin, tmax, 10000)\n",
    "    auxt=np.linspace(auxtmin, auxtmax, n_p_t)\n",
    "    t=10**auxt\n",
    "else:\n",
    "    t=np.linspace(0, tmax, n_p_t)"
   ]
  },
  {
   "cell_type": "code",
   "execution_count": 58,
   "metadata": {},
   "outputs": [
    {
     "name": "stdout",
     "output_type": "stream",
     "text": [
      "(400+0j) 400.0\n"
     ]
    }
   ],
   "source": [
    "total=avgGUE(β, t, dim)\n",
    "print(avgGUE(β, 0, dim), avZGUE(β, dim)**2)\n",
    "#total0=avgGUE(β, 0, dim)\n",
    "total0=(avZGUE(β, dim))**2\n",
    "total=total/total0\n",
    "term1=avZGUE(2*β, dim)*np.ones(n_p_t)/total0\n",
    "term2=avZGUE(β+i*t, dim)\n",
    "term2=np.conjugate(term2)*term2/total0\n",
    "term3=gcGUE(β+i*t, dim)/total0"
   ]
  },
  {
   "cell_type": "code",
   "execution_count": 59,
   "metadata": {},
   "outputs": [],
   "source": [
    "def dsigmagc(s, dim):\n",
    "    term2=0\n",
    "    term3=0\n",
    "    sc=np.conjugate(s)\n",
    "    gc=gcGUE(s, dim)\n",
    "    for n in range(dim):\n",
    "        for m in range(dim):\n",
    "            cmn=factorial(np.min([n,m]))/factorial(np.max([n, m]))\n",
    "            dnm=np.abs(n-m)\n",
    "            minnm=np.min([n,m])\n",
    "            poly1=eval_genlaguerre(minnm, dnm, -s**2/2)\n",
    "            #poly1c=np.conjugate(poly1)\n",
    "            poly1c=eval_genlaguerre(minnm, dnm, -sc**2/2)\n",
    "            if minnm==0:\n",
    "                poly2=0\n",
    "            else:\n",
    "                poly2=eval_genlaguerre(minnm-1, dnm+1, -s**2/2)\n",
    "            if dnm==0:\n",
    "                term2+=0\n",
    "            else:\n",
    "                term2+=cmn*dnm*(s*sc/2)**(dnm-1)*sc/2*poly1*poly1c\n",
    "            term3+=cmn*(s*sc/2)**dnm*poly2*poly1c*s\n",
    "    return (s/2*gc-np.exp((s**2+sc**2)/4)*(term2-term3))\n",
    "\n",
    "def dsigmacgc(s, dim):\n",
    "    term2=0\n",
    "    term3=0\n",
    "    sc=np.conjugate(s)\n",
    "    gc=gcGUE(s, dim)\n",
    "    for n in range(dim):\n",
    "        for m in range(dim):\n",
    "            cmn=factorial(np.min([n,m]))/factorial(np.max([n, m]))\n",
    "            dnm=np.abs(n-m)\n",
    "            minnm=np.min([n,m])\n",
    "            poly1=eval_genlaguerre(minnm, dnm, -s**2/2)\n",
    "            poly1c=eval_genlaguerre(minnm, dnm, -sc**2/2)\n",
    "            if minnm==0:\n",
    "                poly2c=0\n",
    "            else:\n",
    "                poly2c=eval_genlaguerre(minnm-1, dnm+1, -sc**2/2)\n",
    "            if dnm==0:\n",
    "                term2+=0\n",
    "            else:\n",
    "                #term2+=cmn*dnm*(s*sc/2)**(dnm-1)*sc/2*poly1*poly1c\n",
    "                term2+=cmn*dnm*(s*sc/2)**(dnm-1)*s/2*poly1*poly1c\n",
    "            term3+=cmn*(s*sc/2)**dnm*poly1*poly2c*sc\n",
    "    return (sc/2*gc-np.exp((s**2+sc**2)/4)*(term2-term3))"
   ]
  },
  {
   "cell_type": "code",
   "execution_count": 60,
   "metadata": {},
   "outputs": [],
   "source": [
    "def dtgc(b, t, dim):\n",
    "    term2=0\n",
    "    term3=0\n",
    "    term4=0\n",
    "    s=b+i*t\n",
    "    sc=b-i*t\n",
    "    gc=gcGUE(s, dim)\n",
    "    for n in range(dim):\n",
    "        for m in range(dim):\n",
    "            cmn=factorial(np.min([n,m]))/factorial(np.max([n, m]))\n",
    "            dnm=np.abs(n-m)\n",
    "            minnm=np.min([n,m])\n",
    "            poly1=eval_genlaguerre(minnm, dnm, -(b+i*t)**2/2)\n",
    "            poly1c=eval_genlaguerre(minnm, dnm, -(b-i*t)**2/2)\n",
    "            if minnm==0:\n",
    "                poly2c=0\n",
    "                poly2=0\n",
    "            else:\n",
    "                poly2c=eval_genlaguerre(minnm-1, dnm+1, -(b-i*t)**2/2)\n",
    "                poly2=eval_genlaguerre(minnm-1, dnm+1, -(b+i*t)**2/2)\n",
    "            term2+=cmn*dnm*((b**2+t**2)/2)**(dnm-1)*t*poly1*poly1c\n",
    "            term3+=cmn*((b**2 + t**2)/2)**dnm*poly2*poly1c*i*(b+i*t)\n",
    "            term4+=-cmn*((b**2 + t**2)/2)**dnm*poly1*poly2c*i*(b-i*t)\n",
    "    return (-t*gc+np.exp((b**2-t**2)/2)*(-term2 - term3 -term4))/(np.abs(avZGUE(b, dim)))**2"
   ]
  },
  {
   "cell_type": "code",
   "execution_count": 61,
   "metadata": {},
   "outputs": [],
   "source": [
    "def dZ2dt(β, t):\n",
    "    L1t=eval_genlaguerre(dim-1, 1,-(β+i*t)**2/2)\n",
    "    L2t=eval_genlaguerre(dim-2, 2,-(β+i*t)**2/2)\n",
    "    L1tc=eval_genlaguerre(dim-1, 1,-(β-i*t)**2/2)\n",
    "    L2tc=eval_genlaguerre(dim-2, 2,-(β-i*t)**2/2)\n",
    "    adFdt=np.exp(-t**2/2)*L1t*L1tc/L1**2*(-t+i*(β+i*t)*L2t/L1t-i*(β-i*t)*L2tc/L1tc)\n",
    "    return adFdt"
   ]
  },
  {
   "cell_type": "code",
   "execution_count": 62,
   "metadata": {},
   "outputs": [],
   "source": [
    "#F_arr=np.zeros((n_points_t, Nav), dtype=complex)\n",
    "F_Z_arr=np.zeros((n_points_t, Nav), dtype=complex)\n",
    "avE_arr=np.zeros(Nav)\n",
    "avE2_arr=np.zeros(Nav)\n",
    "E0_arr=np.zeros(Nav)\n",
    "Z_arr=np.zeros(Nav)\n",
    "for j in range(Nav):\n",
    "    H=RMT_GUE(dim, sigma) #Create random Matrix from GUE\n",
    "    E, ket_n=eigh(H) #Diagonalize it\n",
    "    if np.any(np.imag(E)>1e-8): \n",
    "        print(\"Problems\") #Ensures that we have real eigenvalues\n",
    "        print(np.max(np.imag(E)))\n",
    "    Z=np.real(Z_c(β, E)) #Computes the partition function at temperature β\n",
    "    Z_arr[j]=Z #Stores the partition function in an array to average it\n",
    "    avE_arr[j]=np.sum(np.exp(-β*E)*E)/Z\n",
    "    avE2_arr[j]=np.sum(np.exp(-β*E)*E**2)/Z\n",
    "    E0_arr[j]=np.min(E)\n",
    "    for k in range(n_points_t):\n",
    "        #F_arr[k,j]=F(y, Z, E, ket_n, t_arr[k])\n",
    "        Zaux1=Z_c(β+i*t_arr[k], E) #Computes the analytically continued partition function\n",
    "        Zaux2=Z_c(β-i*t_arr[k], E)\n",
    "        F_Z_arr[k,j]=Zaux1*Zaux2/Z**2\n",
    "avZ=np.average(Z_arr) #Average Partition function\n",
    "avE_num=np.average(avE_arr)\n",
    "avE2=np.average(avE2_arr)\n",
    "deltaE_num=np.sqrt(avE2-avE_num**2)\n",
    "E0_num=np.average(E0_arr)\n",
    "\n",
    "#F_t=np.average(F_arr, axis=1)\n",
    "F_Z=np.average(F_Z_arr, axis=1)#Annealed OTOC \n",
    "#sigmaF_t=np.std(np.real(F_arr), axis=1) #Standard deviation of F"
   ]
  },
  {
   "cell_type": "code",
   "execution_count": 63,
   "metadata": {},
   "outputs": [
    {
     "name": "stderr",
     "output_type": "stream",
     "text": [
      "/home/pablo/anaconda3/lib/python3.7/site-packages/numpy/core/_asarray.py:85: ComplexWarning: Casting complex values to real discards the imaginary part\n",
      "  return array(a, dtype, copy=False, order=order)\n",
      "/home/pablo/anaconda3/lib/python3.7/site-packages/numpy/core/_asarray.py:138: ComplexWarning: Casting complex values to real discards the imaginary part\n",
      "  return array(a, dtype, copy=False, order=order, subok=True)\n"
     ]
    },
    {
     "data": {
      "image/png": "[encoded data removed]",
      "text/plain": [
       "<Figure size 432x288 with 1 Axes>"
      ]
     },
     "metadata": {
      "needs_background": "light"
     },
     "output_type": "display_data"
    }
   ],
   "source": [
    "plt.figure()\n",
    "plt.plot(t, total, label='Total SFF', color='black', lw=3)\n",
    "plt.scatter(t_arr, F_Z)\n",
    "#plt.plot(t, term1, label='Term 1', color='orange', lw=2)\n",
    "#plt.plot(t, -term3, label='Term 2', ls='-.', color='red', lw=2)\n",
    "#plt.plot(t, (1 - dim*0.5*t**2+(t**2/2)**2*(5*dim**2-1)/12)*dim**2, label='$o(t^4)$ approx.', ls='--')\n",
    "#plt.plot(t, dim**2*(1 - ((dim-1)**2/4)*(t**2/2)**2 - (dim -1)*(t**2/2))*np.exp(-t**2/2))\n",
    "#plt.plot(t, np.exp(-dim*t**2/2)*dim**2, label=r\"$e^{- N t^2/2}$\", ls='--')\n",
    "#plt.plot(t, np.exp(-(dim+3)*(t-0.5)), label=r\"$e^{- N (t-t^*)}$\", ls=':', lw=3)\n",
    "#plt.plot(t, (dim**2 - 0.5*np.exp(dim*(t))))\n",
    "#plt.plot(t, aux)\n",
    "#plt.plot(t, aux2, ls='--')\n",
    "#plt.plot(t, term3, label='Term 3', color='blue', lw=2)\n",
    "plt.xscale('log')\n",
    "plt.grid()\n",
    "plt.xlim(t[0], t[-1])\n",
    "plt.yscale('log')\n",
    "#plt.ylim(1e-1, 2)\n",
    "plt.xlabel(\"$t$\")\n",
    "plt.ylabel(r\"$g(\\beta=0, t)$\")\n",
    "plt.legend(labelspacing=0)\n",
    "plt.show()"
   ]
  },
  {
   "cell_type": "code",
   "execution_count": 64,
   "metadata": {},
   "outputs": [
    {
     "name": "stderr",
     "output_type": "stream",
     "text": [
      "/home/pablo/anaconda3/lib/python3.7/site-packages/ipykernel_launcher.py:4: ComplexWarning: Casting complex values to real discards the imaginary part\n",
      "  after removing the cwd from sys.path.\n"
     ]
    }
   ],
   "source": [
    "F_t=F_Z\n",
    "dFdt=np.zeros(n_points_t)\n",
    "for k in range(1, n_points_t):\n",
    "    dFdt[k]=(F_t[k]-F_t[k-1])/(t_arr[k]-t_arr[k-1])\n",
    "E0=-np.sqrt(2*dim)\n",
    "L1=eval_genlaguerre(dim-1, 1,-β**2/2)\n",
    "L2=eval_genlaguerre(dim-2, 2,-β**2/2)\n",
    "L3=eval_genlaguerre(dim-3, 3,-β**2/2)\n",
    "avE=-(β/2+β*L2/L1)\n",
    "varE=0.5*(1)+L2/L1+β**2*L3/L1-β**2*(L2/L1)**2\n",
    "DeltaE=np.sqrt(varE)\n",
    "BuresAng=np.arccos(np.sqrt(F_t))\n",
    "#BuresAng=np.pi/2\n",
    "#print(BuresAng)\n",
    "#tQSL=BuresAng*np.max([1/DeltaE, 1/(avE-E0)])\n",
    "#tMT=BuresAng/DeltaE\n",
    "tMT=BuresAng/deltaE_num\n",
    "#tML=BuresAng/(avE-E0)\n",
    "tML=BuresAng/(avE_num-E0_num)\n",
    "tQSL=BuresAng*np.max([1/DeltaE, 1/(avE_num-E0_num)])"
   ]
  },
  {
   "cell_type": "code",
   "execution_count": 65,
   "metadata": {},
   "outputs": [
    {
     "name": "stdout",
     "output_type": "stream",
     "text": [
      "0.0\n"
     ]
    }
   ],
   "source": [
    "adFdt=dZ2dt(β, t)\n",
    "print(np.max(np.abs(np.imag(adFdt))))\n",
    "adFdt=np.real(adFdt)\n",
    "#dgcdt=i*(dsigmagc(β+i*t, dim)-dsigmacgc(β+i*t, dim))\n",
    "dgcdt=dtgc(β, t, dim)\n",
    "#dgcdt=dgcdt/(np.abs(avZGUE(β, dim)))**2"
   ]
  },
  {
   "cell_type": "code",
   "execution_count": 66,
   "metadata": {},
   "outputs": [
    {
     "name": "stdout",
     "output_type": "stream",
     "text": [
      "0.0\n"
     ]
    }
   ],
   "source": [
    "print(np.max(np.abs(np.imag(dgcdt))))"
   ]
  },
  {
   "cell_type": "code",
   "execution_count": 67,
   "metadata": {},
   "outputs": [
    {
     "name": "stderr",
     "output_type": "stream",
     "text": [
      "/home/pablo/anaconda3/lib/python3.7/site-packages/numpy/core/_asarray.py:85: ComplexWarning: Casting complex values to real discards the imaginary part\n",
      "  return array(a, dtype, copy=False, order=order)\n",
      "/home/pablo/anaconda3/lib/python3.7/site-packages/numpy/core/_asarray.py:85: ComplexWarning: Casting complex values to real discards the imaginary part\n",
      "  return array(a, dtype, copy=False, order=order)\n"
     ]
    },
    {
     "data": {
      "image/png": "[encoded data removed]",
      "text/plain": [
       "<Figure size 432x288 with 1 Axes>"
      ]
     },
     "metadata": {
      "needs_background": "light"
     },
     "output_type": "display_data"
    }
   ],
   "source": [
    "plt.figure()\n",
    "plt.scatter(t_arr, np.abs(dFdt), s=10, color='red', label=\"Num. \")\n",
    "plt.plot(t, np.abs(adFdt+dgcdt), color='black', lw=2, label=\"Analyt.\")\n",
    "#plt.plot(t, np.abs(adFdt), color='green', lw=3)\n",
    "plt.plot(t_arr, (1-F_t)/tMT, ls='--', color='black', label=\"MT QSL\")\n",
    "plt.plot(t_arr, (1-F_t)/tML, ls='-.', color='blue', label=\"ML QSL\")\n",
    "#plt.plot(t_arr, (1-F_t)/tQSL, ls=':', color='green', lw=5)\n",
    "plt.xscale('log')\n",
    "plt.yscale('log')\n",
    "plt.ylim(1e-4, 1e1 )\n",
    "plt.xlim(t[0], t[-1])\n",
    "plt.legend(labelspacing=0)\n",
    "plt.xlabel(\"$t$\")\n",
    "plt.ylabel(r\"$|\\dot{F}|$\")\n",
    "plt.show()"
   ]
  },
  {
   "cell_type": "code",
   "execution_count": null,
   "metadata": {},
   "outputs": [],
   "source": []
  },
  {
   "cell_type": "code",
   "execution_count": null,
   "metadata": {},
   "outputs": [],
   "source": []
  },
  {
   "cell_type": "code",
   "execution_count": null,
   "metadata": {},
   "outputs": [],
   "source": []
  }
 ],
 "metadata": {
  "kernelspec": {
   "display_name": "Python 3",
   "language": "python",
   "name": "python3"
  },
  "language_info": {
   "codemirror_mode": {
    "name": "ipython",
    "version": 3
   },
   "file_extension": ".py",
   "mimetype": "text/x-python",
   "name": "python",
   "nbconvert_exporter": "python",
   "pygments_lexer": "ipython3",
   "version": "3.7.6"
  }
 },
 "nbformat": 4,
 "nbformat_minor": 4
}
