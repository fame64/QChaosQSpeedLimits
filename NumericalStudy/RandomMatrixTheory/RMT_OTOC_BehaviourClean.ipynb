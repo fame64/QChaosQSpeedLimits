{
 "cells": [
  {
   "cell_type": "code",
   "execution_count": 104,
   "metadata": {},
   "outputs": [],
   "source": [
    "import numpy as np\n",
    "import numba\n",
    "from numba.types import *\n",
    "from numba import prange\n",
    "import matplotlib.pyplot as plt\n",
    "from numpy.linalg import eig, multi_dot, inv, matrix_power, eigh\n",
    "from scipy.optimize import curve_fit\n",
    "from matplotlib import rcParams\n",
    "rcParams['mathtext.fontset'] = 'stix'\n",
    "rcParams['font.family'] = 'STIXGeneral'\n",
    "rcParams['font.size']=20\n",
    "from scipy.linalg import expm, sqrtm\n",
    "from scipy.stats import linregress\n",
    "from math import acos, factorial\n",
    "from scipy.special import eval_genlaguerre, gamma, hyp1f1"
   ]
  },
  {
   "cell_type": "code",
   "execution_count": 105,
   "metadata": {},
   "outputs": [],
   "source": [
    "#Definition of the Key Parameters\n",
    "dim=10 #Dimension  of the Hilbert a.k.a Random matrices of dimension dim x dim\n",
    "A=1 #Probability distribution to take the RMT elements will be P~exp(-A x^2)\n",
    "sigma=np.sqrt(A/2) #Standard deviation of the normal distribution\n",
    "basis = np.identity(dim)\n",
    "i=complex(0,1)\n",
    "β=0.1 #Inverse temperature\n",
    "tmax=1 #Maximum time we simulate. (Dimensionless) Typicaly the dip is found at t<=1\n",
    "n_points_t=100 #Number of points in the time array\n",
    "xlogscale=False #If True the time points will be uniformly distributed in logscale\n",
    "if xlogscale:\n",
    "    auxtmin=-1.5 #tmin=10**auxtmin\n",
    "    auxtmax=np.log10(tmax)\n",
    "    auxt=np.linspace(auxtmin, auxtmax, n_points_t)\n",
    "    t_arr=10**(auxt)\n",
    "else:\n",
    "    t_arr=np.linspace(0, tmax, n_points_t)\n",
    "Nav=100 #Number of random matrices to average over\n",
    "hbar=1 #We use hbar=1\n",
    "\n",
    "#Comment on dimensions of quantities: \n",
    "#Both the time and the inverse temperature are dimensionless. The underlying dimension of\n",
    "#energy is given by A which gives a dimension to the elements of the Random Matrix"
   ]
  },
  {
   "cell_type": "code",
   "execution_count": 106,
   "metadata": {},
   "outputs": [],
   "source": [
    "#Basic subroutines:\n",
    "#Compute the dot product between a bra and a ket. Returns a complex number\n",
    "@numba.jit(float64(float64[:], float64[:]), nopython=True, fastmath=True, parallel=False)\n",
    "def braket(bra, ket):\n",
    "    if np.all(bra== ket):\n",
    "        return 1\n",
    "    else:\n",
    "        return 0\n",
    "#Compute the product between a jet and a bra. Returns an operator over the Hilbert space\n",
    "@numba.jit(complex128[:,:](complex128[:], complex128[:]), nopython=True, fastmath=True, parallel=False)\n",
    "def ketbra(ket, bra):\n",
    "    dim=len(ket)\n",
    "    res=np.zeros((dim, dim), dtype=complex128)\n",
    "    for j in range(dim):\n",
    "        for k in range(dim):\n",
    "            res[j,k]=ket[j]*np.conjugate(bra[k])\n",
    "    return res"
   ]
  },
  {
   "cell_type": "code",
   "execution_count": 107,
   "metadata": {},
   "outputs": [],
   "source": [
    "#Construct a Random Gaussian Orthogonal Matrix GOE (Time Reversal Symmetry is present)\n",
    "@numba.jit(float64[:,:](int64, float64), nopython=True, parallel=False, fastmath=True)\n",
    "def RMT_GOE(N, sigma):\n",
    "    auxH = np.random.randn(N,N) #Creates a random array normally distributed. Assumes sigma=1\n",
    "    H=(auxH+auxH.T) #Summing any matrix and its transpose gives a symmetric matrix\n",
    "    return H\n",
    "#Construct a Random Gaussian Hermitian Matrix. GUE (No Time-Reversal Symmetry)\n",
    "@numba.jit(complex128[:,:](int64, float64), nopython=True, parallel=False, fastmath=True)\n",
    "def RMT_GUE(N, sigma):\n",
    "    H=np.zeros((N, N), dtype=complex128) #Define a N x N matrix\n",
    "    for j in range(N):\n",
    "        H[j,j]=np.random.normal(0,sigma) #The elements in the diagonal are real.\n",
    "        for k in range(j+1, N):\n",
    "            a=np.random.normal(0,sigma)/np.sqrt(2) #Elements out of diagonal\n",
    "            b=np.random.normal(0,sigma)/np.sqrt(2) #Take care with the sqrt(2) dividing\n",
    "            #With this sqrt(2) the average modulus of the random numbers is the same as in \n",
    "            #the diagonal\n",
    "            H[j,k]=complex(a,b)\n",
    "            H[k,j]=complex(a,-b)\n",
    "    return H"
   ]
  },
  {
   "cell_type": "markdown",
   "metadata": {},
   "source": [
    "The regularized OTOC is defined for any two operators $V$, $W$ as\n",
    "$$F_\\beta(t):=Z^{-1}(\\beta)\\mathrm{Tr}\\{e^{-\\beta H/4}Ve^{-\\beta H/4}W(t)e^{-\\beta H/4}V e^{-\\beta H/4}W(t)\\}$$\n",
    "We will consider the operators\n",
    "$$V=|m\\rangle \\langle n|, \\qquad W(t)=e^{i(E_n-E_m)t}|n\\rangle \\langle m|$$\n",
    "With this each regularized OTOC will be $F_{mn}(t)$ and the total OTOC\n",
    "$$F(t)=\\sum_{m,n}F_{mn}(t)$$\n",
    "With this selection of $V, W(t)$ we can relate the OTOC with the Spectral Form Factor $g(\\beta, t)$:\n",
    "$$F_\\beta(t)= \\frac{g(\\beta/2, 2t)}{Z(\\beta)}=\\frac{Z(\\beta/2 + 2 i t) Z(\\beta/2 - 2 i t)}{Z(\\beta)}$$\n",
    "When taking the average over the GUE (or GOE) there are two versions of the quantities. Say a quantity is given $A(\\beta, t)/B(\\beta, t)$, then\n",
    "$$\\Big \\langle \\frac{A(\\beta, t)}{B(\\beta, t)} \\Big \\rangle \\approx \\frac{\\langle A(\\beta, t) \\rangle }{\\langle B(\\beta, t) \\rangle }$$\n",
    "Typically the one we will be able to compare with analytics is the second one, also known as \"annealed\" version."
   ]
  },
  {
   "cell_type": "code",
   "execution_count": 108,
   "metadata": {},
   "outputs": [
    {
     "name": "stderr",
     "output_type": "stream",
     "text": [
      "<ipython-input-108-dd888bd9f778>:10: NumbaPerformanceWarning: \u001b[1m\u001b[1m'@' is faster on contiguous arrays, called on (array(complex128, 2d, A), array(complex128, 2d, A))\u001b[0m\u001b[0m\n",
      "  F+=(np.trace(y@V@y@W_t@y@V@y@W_t))/Z\n",
      "<ipython-input-108-dd888bd9f778>:10: NumbaPerformanceWarning: \u001b[1m\u001b[1m'@' is faster on contiguous arrays, called on (array(complex128, 2d, C), array(complex128, 2d, A))\u001b[0m\u001b[0m\n",
      "  F+=(np.trace(y@V@y@W_t@y@V@y@W_t))/Z\n",
      "/home/pablo/anaconda3/lib/python3.7/site-packages/numba/typing/npydecl.py:958: NumbaPerformanceWarning: \u001b[1m'@' is faster on contiguous arrays, called on (array(complex128, 2d, A), array(complex128, 2d, A))\u001b[0m\n",
      "  warnings.warn(NumbaPerformanceWarning(msg))\n",
      "/home/pablo/anaconda3/lib/python3.7/site-packages/numba/typing/npydecl.py:958: NumbaPerformanceWarning: \u001b[1m'@' is faster on contiguous arrays, called on (array(complex128, 2d, C), array(complex128, 2d, A))\u001b[0m\n",
      "  warnings.warn(NumbaPerformanceWarning(msg))\n"
     ]
    }
   ],
   "source": [
    "#Regularized OTOC. This subroutine is very slow for that reason we typically don't use it.\n",
    "@numba.jit(complex128(complex128[:,:], float64, float64[:], complex128[:,:], float64), nopython=True, parallel=False, fastmath=True)\n",
    "def F(y, Z, E, ket_n, t):\n",
    "    F=0\n",
    "    for n in range(dim):\n",
    "        for m in range(dim):\n",
    "            auxnm=ketbra(ket_n[:,n], ket_n[:,m])\n",
    "            V=ketbra(ket_n[:,m], ket_n[:,n])\n",
    "            W_t=np.exp(i*(E[n]-E[m])*t)*auxnm\n",
    "            F+=(np.trace(y@V@y@W_t@y@V@y@W_t))/Z\n",
    "    return F\n",
    "#Compute the analytically continued partition function given the spectrum E of the system\n",
    "#The β parameter may be complex valued.\n",
    "@numba.jit(complex128(complex128, float64[:]))\n",
    "def Z_c(β, E):\n",
    "    Z=np.sum(np.exp(-β*E))\n",
    "    return Z"
   ]
  },
  {
   "cell_type": "code",
   "execution_count": 109,
   "metadata": {},
   "outputs": [],
   "source": [
    "#The commented lines of code compute the non-annealed version of F(β, t) using the \n",
    "#full definition. This is a very slow procedure, for this reason we usually compute \n",
    "#the annealed version directly from the product Z(β/2 + 2 i t)Z(β/2 - 2 i t) where Z is \n",
    "#computed numerically from the energies\n",
    "\n",
    "#F_arr=np.zeros((n_points_t, Nav), dtype=complex)\n",
    "F_Z_arr=np.zeros((n_points_t, Nav), dtype=complex)\n",
    "Z_arr=np.zeros(Nav)\n",
    "for j in range(Nav):\n",
    "    H=RMT_GUE(dim, sigma) #Create random Matrix from GUE\n",
    "    E, ket_n=eigh(H) #Diagonalize it\n",
    "    if np.any(np.imag(E)>1e-8): \n",
    "        print(\"Problems\") #Ensures that we have real eigenvalues\n",
    "        print(np.max(np.imag(E)))\n",
    "    Z=np.real(Z_c(β, E)) #Computes the partition function at temperature β\n",
    "    Z_arr[j]=Z #Stores the partition function in an array to average it\n",
    "    #Computes the exp(-β H/4) factor needed for the OTOC\n",
    "    \"\"\"y=np.zeros((dim, dim), dtype=complex)\n",
    "    for k in range(dim):\n",
    "        aux=ketbra(ket_n[:,k], ket_n[:,k])\n",
    "        y+=np.exp(-β*E[k]/4)*aux\"\"\"\n",
    "    for k in range(n_points_t):\n",
    "        #F_arr[k,j]=F(y, Z, E, ket_n, t_arr[k])\n",
    "        Zaux1=Z_c(β/2+2*i*t_arr[k], E) #Computes the analytically continued partition function\n",
    "        Zaux2=Z_c(β/2-2*i*t_arr[k], E)\n",
    "        F_Z_arr[k,j]=Zaux1*Zaux2\n",
    "avZ=np.average(Z_arr) #Average Partition function\n",
    "#F_t=np.average(F_arr, axis=1)\n",
    "F_Z=np.average(F_Z_arr, axis=1)/avZ #Annealed OTOC \n",
    "#sigmaF_t=np.std(np.real(F_arr), axis=1) #Standard deviation of F"
   ]
  },
  {
   "cell_type": "code",
   "execution_count": 110,
   "metadata": {},
   "outputs": [],
   "source": [
    "#Subroutine to compute the Generalized Laguerre Polynomials (does the same as eval_genlaguerre)\n",
    "def GenLag(n, alpha, x):\n",
    "    L=0\n",
    "    for j in range(n+1):\n",
    "        L+=gamma(n+alpha+1)*(-x)**j/(gamma(n-j+1)*gamma(alpha+j+1)*factorial(j))\n",
    "    return L"
   ]
  },
  {
   "cell_type": "markdown",
   "metadata": {},
   "source": [
    "Analytical solution for SFF and partition function of the GUE:\n",
    "$$\\langle Z(\\sigma) \\rangle_{GUE}= e^{\\sigma^2/4} L^1_{N-1}\\left( -\\frac{\\sigma^2}{2}\\right)$$\n",
    "where $\\sigma=\\beta + i t$ and $L^\\alpha_n(x)$ is the generalized Laguerre Polynomial, defined as\n",
    "$$L^\\alpha_n(x) = \\sum_{j=0}^n \\left(\\begin{array}{c}n + \\alpha \\\\ n - j\\end{array}\\right) \\frac{(-x)^j}{j!}$$\n",
    "With this the SFF can be written as three terms\n",
    "$$g(\\beta, t) = \\langle Z(2 \\beta) \\rangle + |\\langle Z(\\beta + i t) \\rangle |^2 + g_c(\\beta, t)$$\n",
    "where $g_c(\\beta, t)$ is the connected part of the SFF\n",
    "$$g_c(\\beta, t) = - e^{(\\sigma^2 + {\\sigma^*}^2)/4}\\sum_{m,n}^{N-1} c_{mn} \\left( \\frac{|\\sigma|^2}{2} \\right)^{|n-m|} |L^{|n-m|}_{min(n,m)}(-\\sigma^2/2)|^2$$\n",
    "where $c_{mn}=min(n,m)!/max(n,m)!$."
   ]
  },
  {
   "cell_type": "code",
   "execution_count": 111,
   "metadata": {},
   "outputs": [],
   "source": [
    "#Compute the averaged (analytically continued) Partition Function for the GUE.\n",
    "def avZGUE(sigma, dim):\n",
    "    return np.exp(sigma**2/4)*eval_genlaguerre(dim-1, 1, -sigma**2/2)\n",
    "    #return np.exp(sigma**2/4)*GenLag(dim-1, 1, -sigma**2/2)\n",
    "#Compute the connected part of the SFF averaged for the GUE\n",
    "def gcGUE(sigma0, dim):\n",
    "    gc=0\n",
    "    for n in range(dim):\n",
    "        for m in range(dim):\n",
    "            cmn=factorial(np.min([n,m]))/factorial(np.max([n, m]))\n",
    "            dnm=np.abs(n-m)\n",
    "            minnm=np.min([n,m])\n",
    "            poly=eval_genlaguerre(minnm, dnm, -sigma0**2/2)\n",
    "            gc+=cmn*(np.conjugate(sigma0)*sigma0/2)**dnm*np.conjugate(poly)*poly\n",
    "    return -np.exp((sigma0**2+(np.conjugate(sigma0))**2)/4)*gc\n",
    "#COmpute the total SFF averaged over the GUE\n",
    "def avgGUE(beta, t, dim):\n",
    "    term1=avZGUE(2*beta, dim)\n",
    "    term2=avZGUE(beta+i*t, dim)\n",
    "    #term2=(np.abs(term2))**2\n",
    "    term2=np.conjugate(term2)*term2\n",
    "    term3=gcGUE(beta+i*t, dim)\n",
    "    return term1+term2+term3\n",
    "if xlogscale:\n",
    "    t=np.linspace(10**auxtmin, tmax, 10000)\n",
    "else:\n",
    "    t=np.linspace(0, tmax, 10000)\n",
    "analyticF=avgGUE(β/2, 2*t, dim)/avZGUE(β, dim)"
   ]
  },
  {
   "cell_type": "code",
   "execution_count": 112,
   "metadata": {},
   "outputs": [],
   "source": [
    "#Analyze the contributions and approximations to the SFF\n",
    "plotSFF=False\n",
    "if plotSFF:\n",
    "    total=avgGUE(β, t, dim)\n",
    "    term1=avZGUE(2*β, dim)*np.ones(10000)\n",
    "    term2=avZGUE(β+i*t, dim)\n",
    "    term2=np.conjugate(term2)*term2\n",
    "    term3=gcGUE(β+i*t, dim)\n",
    "    aux=(np.abs(eval_genlaguerre(dim-1, 1, -(β+i*t)**2/2)))**2\n",
    "    #aux2=(np.abs(L12(-(β+i*t)**2/2)))**2\n",
    "    plt.figure()\n",
    "    plt.plot(t, total, label='Total SFF', color='black', lw=4)\n",
    "    #plt.plot(t, term1, label='Term 1', color='orange')\n",
    "    plt.plot(t, term2, label=r'$|\\langle Z(\\beta + i t) \\rangle |^2$', ls='-.', color='red')\n",
    "    plt.plot(t, (1 - dim*0.5*t**2+(t**2/2)**2*(5*dim**2-1)/12)*dim**2, label='$o(t^4)$ approx.', ls='--')\n",
    "    #plt.plot(t, dim**2*(1 - ((dim-1)**2/4)*(t**2/2)**2 - (dim -1)*(t**2/2))*np.exp(-t**2/2))\n",
    "    plt.plot(t, np.exp(-dim*t**2/2)*dim**2, label=r\"$e^{- N t^2/2}$\", ls='--')\n",
    "    #plt.plot(t, np.exp(-(dim+3)*(t-0.5)), label=r\"$e^{- N (t-t^*)}$\", ls=':', lw=3)\n",
    "    #plt.plot(t, (dim**2 - 0.5*np.exp(dim*(t))))\n",
    "    #plt.plot(t, term3, label='Term 3', color='blue')\n",
    "    #plt.xscale('log')\n",
    "    #plt.grid()\n",
    "    #plt.xlim(t[0], 1)\n",
    "    plt.yscale('log')\n",
    "    plt.ylim(1e-1, dim**2)\n",
    "    plt.xlabel(\"$t$\")\n",
    "    plt.ylabel(r\"$g(\\beta=0, t)$\")\n",
    "    plt.legend(labelspacing=0)\n",
    "    plt.show()"
   ]
  },
  {
   "cell_type": "code",
   "execution_count": 113,
   "metadata": {},
   "outputs": [
    {
     "data": {
      "image/png": "[encoded data removed]",
      "text/plain": [
       "<Figure size 576x432 with 1 Axes>"
      ]
     },
     "metadata": {
      "needs_background": "light"
     },
     "output_type": "display_data"
    }
   ],
   "source": [
    "fhat=np.real(F_Z/F_Z[0]) #Define Fhat=F(t)/F(0)\n",
    "plt.figure(figsize=[8, 6])\n",
    "minf=np.min(fhat)\n",
    "plt.scatter(t_arr, fhat, label='Numerics GUE <.>/<.>', color='red')\n",
    "plt.plot(t, np.real(analyticF/analyticF[0]), color='black', label='Analytics GUE')\n",
    "#plt.scatter(t_arr, np.real(F_t/F_t[0]), label='Numerics GUE <./.>')\n",
    "plt.xlabel(\"t\")\n",
    "plt.ylabel(\"$F(t)/F(0)$\")\n",
    "plt.xscale('log')\n",
    "plt.yscale('log')\n",
    "plt.xlim(t_arr[1],1)\n",
    "plt.ylim(np.min(fhat), 1)\n",
    "plt.legend(labelspacing=0)\n",
    "plt.show()"
   ]
  },
  {
   "cell_type": "code",
   "execution_count": 114,
   "metadata": {},
   "outputs": [],
   "source": [
    "def expF(t, a, b):\n",
    "    return a*np.exp(-b*t)\n",
    "def LogMean(x, y):\n",
    "    return np.exp((np.log(x)+np.log(y))/2)\n",
    "def linFit(x, res):\n",
    "    return res.slope*x+res.intercept\n",
    "def evenlySpacedFPoints(Fmax, Fmin, npoints):\n",
    "    arrexp=np.linspace(0, np.log10(Fmax/Fmin), npoints)\n",
    "    arr=Fmin*10**arrexp\n",
    "    return arr"
   ]
  },
  {
   "cell_type": "markdown",
   "metadata": {},
   "source": [
    "### Obtaining the Lyapunov exponent from the OTOC"
   ]
  },
  {
   "cell_type": "markdown",
   "metadata": {},
   "source": [
    "According to Maldacena $F(t)$ obeys the scaling for $t_d \\ll t \\ll t_E$\n",
    "$$F_0 - F(t) \\propto \\frac{e^{\\lambda t}}{N}$$\n",
    "where $\\lambda$ is the Lyapunov exponent and the timescales are determined by\n",
    "$$t_d\\sim\\frac{1}{\\lambda}, \\qquad t_E \\sim \\frac{\\log N}{\\lambda}$$\n",
    "Instead of choosing these timescales we will choose windows of F in which we fit our data to a function $a e^{-\\lambda t}$. Instead of fitting to a exponential we will take $-\\ln (\\tilde{F})$ and fit that to a linear function."
   ]
  },
  {
   "cell_type": "code",
   "execution_count": 115,
   "metadata": {},
   "outputs": [],
   "source": [
    "#Parameters of the fit\n",
    "coef_range_fitted=0.5 #Less than one. Gives the part of the range between the central point \n",
    "#of the fit and the minimum value of Fhat\n",
    "n_regions_fitted=10 #Number of regions in which we will fit"
   ]
  },
  {
   "cell_type": "code",
   "execution_count": 116,
   "metadata": {},
   "outputs": [],
   "source": [
    "#First we will find the first dip (need not be the deepest one) and take only those values\n",
    "\n",
    "#Gives the relative minima of fhat\n",
    "arr_minima=np.r_[True, fhat[1:] < fhat[:-1]] & np.r_[fhat[:-1] < fhat[1:], True]\n",
    "t_dip=np.min(t_arr[arr_minima]) #we take the smallest of those relative minima\n",
    "fhat_aux=fhat[t_arr<t_dip] #Take only the values of fhat before the dip\n",
    "t_arr_aux=t_arr[t_arr<t_dip]\n",
    "pInflect=np.argmin(np.diff(fhat_aux)) #gives the inflection point of fhat\n",
    "FInflect=fhat[pInflect]\n",
    "pInflectlog=np.argmin(np.diff(np.log(fhat_aux))) #gives the inflection point of log(fhat)\n",
    "FInflectLog=fhat[pInflectlog]\n",
    "#We will fit the Lyapunov in n_regions_fitted points between the FInflectLog and FInflect\n",
    "centerFitArr=evenlySpacedFPoints(FInflect, FInflectLog, n_regions_fitted)\n",
    "auxlambda=[]\n",
    "auxerr=[]\n",
    "auxn=[]\n",
    "#For every fitted point we compute the variance of the fit to a linear f(t)=a t + b (after \n",
    "#taking the log) and the variance of the fit to a quadratic function h(t)=a' t^2 + b. \n",
    "#We take the value of the Lyapunov (linear fit) if Var_linear<Var_quadratic or if\n",
    "#Var_linear<cutoffVar.\n",
    "cutoffVar=1e-3\n",
    "for j in range(len(centerFitArr)):\n",
    "    minF_fit=centerFitArr[j]-coef_range_fitted*(centerFitArr[j]-fhat_aux[-1])\n",
    "    maxF_fit=centerFitArr[j]+coef_range_fitted*(centerFitArr[j]-fhat_aux[-1])\n",
    "    F_fit=fhat_aux[fhat_aux>minF_fit]\n",
    "    t_fit=t_arr_aux[fhat_aux>minF_fit]\n",
    "    t_fit=t_fit[F_fit<maxF_fit]\n",
    "    F_fit=F_fit[F_fit<maxF_fit]\n",
    "    logF=-np.log(F_fit)\n",
    "    res=linregress(t_fit, logF)\n",
    "    res2=linregress(t_fit**2, logF)\n",
    "    Var=np.sum((linFit(t_fit, res)-logF)**2)\n",
    "    Var2=np.sum((linFit(t_fit**2, res2)-logF)**2)\n",
    "    if Var<Var2 or Var<cutoffVar:\n",
    "        auxlambda.append(res.slope)\n",
    "        auxerr.append(res.stderr)\n",
    "        auxn.append(res.intercept)\n",
    "lyap=np.average(auxlambda)\n",
    "linearcoef=np.average(auxn)\n",
    "auxerr=np.asarray(auxerr)\n",
    "std_lyap=np.sqrt((np.std(auxlambda))**2+np.sum(auxerr**2))"
   ]
  },
  {
   "cell_type": "code",
   "execution_count": 119,
   "metadata": {},
   "outputs": [
    {
     "name": "stdout",
     "output_type": "stream",
     "text": [
      "27.671664136275993\n"
     ]
    },
    {
     "data": {
      "image/png": "[encoded data removed]",
      "text/plain": [
       "<Figure size 576x432 with 1 Axes>"
      ]
     },
     "metadata": {
      "needs_background": "light"
     },
     "output_type": "display_data"
    }
   ],
   "source": [
    "print(np.exp(-linearcoef))\n",
    "plt.figure(figsize=[8, 6])\n",
    "plt.scatter(t_arr, fhat, label='Numerics GUE <.>/<.>', color='red')\n",
    "plt.plot(t, np.real(analyticF/analyticF[0]), color='black', label='Analytics GUE')\n",
    "plt.plot(t, np.exp(-(lyap*t+linearcoef)), color='blue', ls='-.', label=r'$e^{-\\lambda t}$')\n",
    "plt.hlines(FInflectLog,0, 2)\n",
    "plt.hlines(FInflect, 0, 2)\n",
    "plt.xlabel(\"$t$\")\n",
    "plt.ylabel(r\"$g(\\beta/2, 2t)/g(\\beta/2, 0)$\")\n",
    "#plt.xscale('log')\n",
    "plt.yscale('log')\n",
    "plt.xlim(t_arr[1], 1)\n",
    "plt.ylim(np.min(fhat), 1)\n",
    "plt.legend(labelspacing=0)\n",
    "plt.show()"
   ]
  },
  {
   "cell_type": "code",
   "execution_count": null,
   "metadata": {},
   "outputs": [],
   "source": []
  }
 ],
 "metadata": {
  "kernelspec": {
   "display_name": "Python 3",
   "language": "python",
   "name": "python3"
  },
  "language_info": {
   "codemirror_mode": {
    "name": "ipython",
    "version": 3
   },
   "file_extension": ".py",
   "mimetype": "text/x-python",
   "name": "python",
   "nbconvert_exporter": "python",
   "pygments_lexer": "ipython3",
   "version": "3.7.6"
  }
 },
 "nbformat": 4,
 "nbformat_minor": 4
}
