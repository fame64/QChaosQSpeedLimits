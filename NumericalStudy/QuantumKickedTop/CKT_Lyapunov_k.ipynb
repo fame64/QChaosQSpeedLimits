{
 "cells": [
  {
   "cell_type": "markdown",
   "metadata": {},
   "source": [
    "# Lyapunov exponent as a function of k"
   ]
  },
  {
   "cell_type": "markdown",
   "metadata": {},
   "source": [
    "We want to obtain a plot of the classical Lyapunov exponent as a function of $k$, the strength of the perturbation, for the Kicked top. "
   ]
  },
  {
   "cell_type": "code",
   "execution_count": 44,
   "metadata": {},
   "outputs": [],
   "source": [
    "import numpy as np\n",
    "import matplotlib.pyplot as plt\n",
    "from matplotlib import rcParams\n",
    "rcParams['mathtext.fontset'] = 'stix'\n",
    "rcParams['font.family'] = 'STIXGeneral'\n",
    "rcParams['font.size']=20\n",
    "from scipy.optimize import curve_fit"
   ]
  },
  {
   "cell_type": "code",
   "execution_count": 45,
   "metadata": {},
   "outputs": [],
   "source": [
    "p= np.pi/2\n",
    "#k_min=0\n",
    "#k_max=20\n",
    "n_k_points=50\n",
    "k_min=1\n",
    "k_max=300\n",
    "k_aux=np.linspace(np.log10(k_min), np.log10(k_max), n_k_points)\n",
    "k_array=10**k_aux\n",
    "#k=2 should be mostly regular, 2.5 mixed behaviour, 3 mostly chaotic, 6 fully chaotic\n",
    "N_points=500\n",
    "N_steps=100"
   ]
  },
  {
   "cell_type": "code",
   "execution_count": 46,
   "metadata": {},
   "outputs": [],
   "source": [
    "def linear(x, m,n):\n",
    "    return m*x+n\n",
    "def expon(x, m, a):\n",
    "    return a*np.exp(m*x)\n",
    "def F(X, Y, Z, p, k):\n",
    "    i=complex(0,1)\n",
    "    aux=(X*np.cos(p)+ Z*np.sin(p)+ i*Y)*np.exp(i*k*(Z*np.cos(p)-X*np.sin(p)))\n",
    "    X_=np.real(aux)\n",
    "    Y_=np.imag(aux)\n",
    "    Z_=-X*np.sin(p)+ Z*np.cos(p)\n",
    "    return (X_, Y_, Z_)\n",
    "def Generate_Close(epsilon):\n",
    "    a=np.random.rand(1)\n",
    "    b=np.random.rand(1)\n",
    "    c=np.random.rand(1)-0.5\n",
    "    d=np.random.rand(1)-0.5\n",
    "    ϕ=2*np.pi*a\n",
    "    θ=np.arccos(1-2*b)\n",
    "    X_=np.zeros(2)\n",
    "    Y_=np.zeros(2)\n",
    "    Z_=np.zeros(2)\n",
    "    X_[0]=np.sin(θ)*np.cos(ϕ)\n",
    "    Y_[0]=np.sin(θ)*np.sin(ϕ)\n",
    "    Z_[0]=np.cos(θ)   \n",
    "    X_[1]=np.sin(θ+epsilon*c)*np.cos(ϕ+epsilon*d)\n",
    "    Y_[1]=np.sin(θ+epsilon*c)*np.sin(ϕ+epsilon*d)\n",
    "    Z_[1]=np.cos(θ+epsilon*c) \n",
    "    return (X_, Y_, Z_)"
   ]
  },
  {
   "cell_type": "code",
   "execution_count": 47,
   "metadata": {},
   "outputs": [],
   "source": [
    "lyap_array=np.zeros(n_k_points)\n",
    "sigma_lyap=np.zeros(n_k_points)\n",
    "epsilon=1e-10\n",
    "t_array=np.arange(0, N_steps, 1 )\n",
    "d_array=np.zeros(len(t_array))\n",
    "aux_d=np.zeros((len(t_array), N_points))\n",
    "range1=np.argmin(np.abs(k_array-2.5))+1\n",
    "range2=np.argmin(np.abs(k_array-3.5))+1\n",
    "cutoff=1/np.exp(1) #Upper cutoff to which values we will fit\n",
    "sigma_cutoff=1e-12 #lower cutoff to the error, we won't use values with error smaller than\n",
    "#sigma_cutoff for some of the  parts of our computation, they can give a very small error \n",
    "#In the end, however, I don't know if we can do this or not\n",
    "for s_loop in range(range1):\n",
    "    #initial_points=np.zeros((N_points, 3))\n",
    "    for k_loop in range(N_points):\n",
    "        X, Y, Z=Generate_Close(epsilon)\n",
    "        X_prev=X\n",
    "        Y_prev=Y\n",
    "        Z_prev=Z\n",
    "        for j in range(N_steps):\n",
    "            auxX, auxY, auxZ=F(X_prev, Y_prev, Z_prev, p, k_array[s_loop])\n",
    "            aux_d[j, k_loop]=np.sqrt((auxX[0]-auxX[1])**2+(auxY[0]-auxY[1])**2+(auxZ[0]-auxZ[1])**2)\n",
    "            X_prev=np.copy(auxX)\n",
    "            Y_prev=np.copy(auxY)\n",
    "            Z_prev=np.copy(auxZ)  \n",
    "    d_array=np.mean(aux_d, axis=1)\n",
    "    sigma_array=np.std(aux_d, axis=1)\n",
    "    popt, pcov=curve_fit(expon, t_array[d_array<cutoff], d_array[d_array<cutoff], p0=[0,0], sigma=sigma_array[d_array<cutoff])\n",
    "    lyap_array[s_loop]=popt[0]\n",
    "    sigma_lyap[s_loop]=np.sqrt(pcov[0,0])\n",
    "for s_loop in range(range1, range2):\n",
    "    #initial_points=np.zeros((N_points, 3))\n",
    "    for k_loop in range(N_points):\n",
    "        X, Y, Z=Generate_Close(epsilon)\n",
    "        X_prev=X\n",
    "        Y_prev=Y\n",
    "        Z_prev=Z\n",
    "        for j in range(N_steps):\n",
    "            auxX, auxY, auxZ=F(X_prev, Y_prev, Z_prev, p, k_array[s_loop])\n",
    "            aux_d[j, k_loop]=np.sqrt((auxX[0]-auxX[1])**2+(auxY[0]-auxY[1])**2+(auxZ[0]-auxZ[1])**2)\n",
    "            X_prev=np.copy(auxX)\n",
    "            Y_prev=np.copy(auxY)\n",
    "            Z_prev=np.copy(auxZ)  \n",
    "    t_array=np.arange(0, N_steps, 1 )\n",
    "    d_array=np.mean(aux_d, axis=1)\n",
    "    sigma_array=np.std(aux_d, axis=1)\n",
    "    t_array=t_array[sigma_array>sigma_cutoff]\n",
    "    d_array=d_array[sigma_array>sigma_cutoff]\n",
    "    sigma_array=sigma_array[sigma_array>sigma_cutoff]\n",
    "    popt, pcov=curve_fit(expon, t_array[d_array<cutoff], d_array[d_array<cutoff], p0=[0,0], sigma=sigma_array[d_array<cutoff])\n",
    "    lyap_array[s_loop]=popt[0]\n",
    "    sigma_lyap[s_loop]=np.sqrt(pcov[0,0])\n",
    "for s_loop in range(range2, n_k_points):\n",
    "    #initial_points=np.zeros((N_points, 3))\n",
    "    for k_loop in range(N_points):\n",
    "        X, Y, Z=Generate_Close(epsilon)\n",
    "        X_prev=X\n",
    "        Y_prev=Y\n",
    "        Z_prev=Z\n",
    "        for j in range(N_steps):\n",
    "            auxX, auxY, auxZ=F(X_prev, Y_prev, Z_prev, p, k_array[s_loop])\n",
    "            aux_d[j, k_loop]=np.sqrt((auxX[0]-auxX[1])**2+(auxY[0]-auxY[1])**2+(auxZ[0]-auxZ[1])**2)\n",
    "            X_prev=np.copy(auxX)\n",
    "            Y_prev=np.copy(auxY)\n",
    "            Z_prev=np.copy(auxZ)  \n",
    "    t_array=np.arange(0, N_steps, 1 )\n",
    "    d_array=np.mean(aux_d, axis=1)\n",
    "    sigma_array=np.std(aux_d, axis=1)\n",
    "    t_array=t_array[sigma_array>sigma_cutoff]\n",
    "    d_array=d_array[sigma_array>sigma_cutoff]\n",
    "    sigma_array=sigma_array[sigma_array>sigma_cutoff]\n",
    "    popt, pcov=curve_fit(expon, t_array[d_array<cutoff], d_array[d_array<cutoff], p0=[1,0], sigma=sigma_array[d_array<cutoff])\n",
    "    lyap_array[s_loop]=popt[0]\n",
    "    sigma_lyap[s_loop]=np.sqrt(pcov[0,0])"
   ]
  },
  {
   "cell_type": "code",
   "execution_count": 51,
   "metadata": {},
   "outputs": [
    {
     "name": "stderr",
     "output_type": "stream",
     "text": [
      "/home/pablo/anaconda3/lib/python3.7/site-packages/ipykernel_launcher.py:7: RuntimeWarning: divide by zero encountered in log\n",
      "  import sys\n"
     ]
    },
    {
     "data": {
      "image/png": "[encoded data removed]",
      "text/plain": [
       "<Figure size 432x288 with 1 Axes>"
      ]
     },
     "metadata": {
      "needs_background": "light"
     },
     "output_type": "display_data"
    }
   ],
   "source": [
    "x=np.linspace(0, k_array[-1], 1000)\n",
    "plt.figure()\n",
    "plt.scatter(k_array/p, lyap_array, color='green', label='Numerical results')\n",
    "#plt.errorbar(k_array, lyap_array, yerr=sigma_lyap, capsize=5, linestyle='None', color='red' )\n",
    "plt.xlabel(\"$k/p$\")\n",
    "plt.ylabel(\"$\\lambda(k)$\")\n",
    "plt.plot(x/p, np.log(x*np.abs(np.sin(p)))-1, color='black', label='Analytic expression')\n",
    "plt.legend()\n",
    "plt.ylim(0,)\n",
    "plt.xscale('log')\n",
    "plt.xlim(1/p,k_array[-1]/p)\n",
    "#plt.errorbar(k_array, lyap_array, yerr=sigma_lyap, capsize=4)\n",
    "plt.show()"
   ]
  },
  {
   "cell_type": "code",
   "execution_count": 49,
   "metadata": {},
   "outputs": [],
   "source": [
    "#np.savetxt(\"ClassicalLyap.txt\", lyap_array)"
   ]
  },
  {
   "cell_type": "code",
   "execution_count": null,
   "metadata": {},
   "outputs": [],
   "source": []
  }
 ],
 "metadata": {
  "kernelspec": {
   "display_name": "Python 3",
   "language": "python",
   "name": "python3"
  },
  "language_info": {
   "codemirror_mode": {
    "name": "ipython",
    "version": 3
   },
   "file_extension": ".py",
   "mimetype": "text/x-python",
   "name": "python",
   "nbconvert_exporter": "python",
   "pygments_lexer": "ipython3",
   "version": "3.7.6"
  }
 },
 "nbformat": 4,
 "nbformat_minor": 4
}
