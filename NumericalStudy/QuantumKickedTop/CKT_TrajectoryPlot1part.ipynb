{
 "cells": [
  {
   "cell_type": "markdown",
   "metadata": {},
   "source": [
    "# Classical kicked top"
   ]
  },
  {
   "cell_type": "markdown",
   "metadata": {},
   "source": [
    "The recursion relations obeyed by the classical systemn are\n",
    "$$X'= \\mathrm{Re}[(X \\cos p + Z \\sin p + i Y) e^{i k (Z \\cos p - X \\sin p)}]$$\n",
    "$$Y'= \\mathrm{Im}[(X \\cos p + Z \\sin p + i Y) e^{i k (Z \\cos p - X \\sin p)}]$$\n",
    "$$Z'=-X \\sin p + Z \\cos p$$"
   ]
  },
  {
   "cell_type": "code",
   "execution_count": 41,
   "metadata": {},
   "outputs": [],
   "source": [
    "import numpy as np\n",
    "import matplotlib.pyplot as plt\n",
    "from matplotlib import rcParams\n",
    "rcParams['mathtext.fontset'] = 'stix'\n",
    "rcParams['font.family'] = 'STIXGeneral'\n",
    "rcParams['font.size']=20\n",
    "from scipy.optimize import curve_fit"
   ]
  },
  {
   "cell_type": "code",
   "execution_count": 42,
   "metadata": {},
   "outputs": [],
   "source": [
    "p= np.pi/2\n",
    "k=2\n",
    "#k=2 should be mostly regular, 2.5 mixed behaviour, 3 mostly chaotic, 6 fully chaotic\n",
    "N_points=1 #Number of random initial pairs of points to average (d(t) plot) or number of initial points (X-Z plots)\n",
    "N_steps=200 #Number of time steps"
   ]
  },
  {
   "cell_type": "code",
   "execution_count": 43,
   "metadata": {},
   "outputs": [],
   "source": [
    "def expon(x, m, a):\n",
    "    return a*np.exp(m*x)"
   ]
  },
  {
   "cell_type": "code",
   "execution_count": 44,
   "metadata": {},
   "outputs": [],
   "source": [
    "def F(X, Y, Z, p, k):\n",
    "    i=complex(0,1)\n",
    "    aux=(X*np.cos(p)+ Z*np.sin(p)+ i*Y)*np.exp(i*k*(Z*np.cos(p)-X*np.sin(p)))\n",
    "    X_=np.real(aux)\n",
    "    Y_=np.imag(aux)\n",
    "    Z_=-X*np.sin(p)+ Z*np.cos(p)\n",
    "    return (X_, Y_, Z_)"
   ]
  },
  {
   "cell_type": "code",
   "execution_count": 45,
   "metadata": {},
   "outputs": [],
   "source": [
    "def Generate_Rand(N_points):\n",
    "    #Generate random points uniformly on a sphere. \n",
    "    #Let a, b be two uniform random numbers on [0,1] then the azimuthal \n",
    "    #and polar angles are given by ϕ=2πa, θ=arccos(1-2b)\n",
    "    a=np.random.rand(N_points)\n",
    "    b=np.random.rand(N_points)\n",
    "    ϕ=2*np.pi*a\n",
    "    θ=np.arccos(1-2*b)\n",
    "    X=np.sin(θ)*np.cos(ϕ)\n",
    "    Y=np.sin(θ)*np.sin(ϕ)\n",
    "    Z=np.cos(θ)\n",
    "    return (X, Y, Z)\n",
    "def Generate_Close(epsilon):\n",
    "    a=np.random.rand(1)\n",
    "    b=np.random.rand(1)\n",
    "    c=np.random.rand(1)-0.5\n",
    "    d=np.random.rand(1)-0.5\n",
    "    ϕ=2*np.pi*a\n",
    "    θ=np.arccos(1-2*b)\n",
    "    X_=np.zeros(2)\n",
    "    Y_=np.zeros(2)\n",
    "    Z_=np.zeros(2)\n",
    "    X_[0]=np.sin(θ)*np.cos(ϕ)\n",
    "    Y_[0]=np.sin(θ)*np.sin(ϕ)\n",
    "    Z_[0]=np.cos(θ)   \n",
    "    X_[1]=np.sin(θ+epsilon*c)*np.cos(ϕ+epsilon*d)\n",
    "    Y_[1]=np.sin(θ+epsilon*c)*np.sin(ϕ+epsilon*d)\n",
    "    Z_[1]=np.cos(θ+epsilon*c) \n",
    "    return (X_, Y_, Z_)"
   ]
  },
  {
   "cell_type": "code",
   "execution_count": 46,
   "metadata": {},
   "outputs": [],
   "source": [
    "#X_ev, Y_ev, Z_ev=Generate_Rand(N_points)\n",
    "theta0=1\n",
    "phi0=2\n",
    "X_ev=np.sin(theta0)*np.cos(phi0)\n",
    "Y_ev=np.sin(theta0)*np.sin(phi0)\n",
    "Z_ev=np.cos(theta0)\n",
    "X_p=[]\n",
    "Y_p=[]\n",
    "Z_p=[]\n",
    "X_p.append(X_ev)\n",
    "Y_p.append(Y_ev)\n",
    "Z_p.append(Z_ev)\n",
    "#t_array=np.arange(0, N_steps, 1 )\n",
    "#d_array=np.zeros(len(t_array))\n",
    "#aux_d=np.zeros((len(t_array), N_points))\n",
    "#X, Y, Z=Generate_Close(epsilon)\n",
    "X_prev=X_ev\n",
    "Y_prev=Y_ev\n",
    "Z_prev=Z_ev\n",
    "for j in range(N_steps):\n",
    "    auxX_ev, auxY_ev, auxZ_ev=F(X_prev, Y_prev, Z_prev, p, k)\n",
    "    #aux_d[j, k]=np.sqrt((auxX[0]-auxX[1])**2+(auxY[0]-auxY[1])**2+(auxZ[0]-auxZ[1])**2)\n",
    "    X_p.append(auxX_ev)\n",
    "    Y_p.append(auxY_ev)\n",
    "    Z_p.append(auxZ_ev)\n",
    "    X_prev=np.copy(auxX_ev)\n",
    "    Y_prev=np.copy(auxY_ev)\n",
    "    Z_prev=np.copy(auxZ_ev)       \n",
    "#d_array=np.mean(aux_d, axis=1)\n",
    "X_p=np.asarray(X_p)\n",
    "Y_p=np.asarray(Y_p)\n",
    "Z_p=np.asarray(Z_p)"
   ]
  },
  {
   "cell_type": "code",
   "execution_count": 47,
   "metadata": {},
   "outputs": [],
   "source": [
    "epsilon=1e-15\n",
    "t_array=np.arange(0, N_steps, 1 )\n",
    "d_array=np.zeros(len(t_array))\n",
    "aux_d=np.zeros((len(t_array), N_points))\n",
    "initial_points=np.zeros((N_points, 3))\n",
    "X1T=[]\n",
    "X2T=[]\n",
    "Y1T=[]\n",
    "Y2T=[]\n",
    "Z1T=[]\n",
    "Z2T=[]\n",
    "for k_loop in range(N_points):\n",
    "    X, Y, Z=Generate_Close(epsilon)\n",
    "    initial_points[k_loop, 0]=X[0]\n",
    "    initial_points[k_loop, 1]=Y[0]\n",
    "    initial_points[k_loop, 2]=Z[0]\n",
    "    X_prev=X\n",
    "    Y_prev=Y\n",
    "    Z_prev=Z\n",
    "    X1=[]\n",
    "    X2=[]\n",
    "    Y1=[]\n",
    "    Y2=[]\n",
    "    Z1=[]\n",
    "    Z2=[]\n",
    "    for j in range(N_steps):\n",
    "        auxX, auxY, auxZ=F(X_prev, Y_prev, Z_prev, p, k)\n",
    "        aux_d[j, k_loop]=np.sqrt((auxX[0]-auxX[1])**2+(auxY[0]-auxY[1])**2+(auxZ[0]-auxZ[1])**2)\n",
    "        X1.append(auxX[0])\n",
    "        Y1.append(auxY[0])\n",
    "        Z1.append(auxZ[0])\n",
    "        X2.append(auxX[1])\n",
    "        Y2.append(auxY[1])\n",
    "        Z2.append(auxZ[1])\n",
    "        X_prev=np.copy(auxX)\n",
    "        Y_prev=np.copy(auxY)\n",
    "        Z_prev=np.copy(auxZ)  \n",
    "    X1T.append(X1)\n",
    "    Y1T.append(Y1)\n",
    "    Z1T.append(Z1)\n",
    "    X2T.append(X2)\n",
    "    Y2T.append(Y2)\n",
    "    Z2T.append(Z2)\n",
    "d_array=np.mean(aux_d, axis=1)\n",
    "sigma_array=np.std(aux_d, axis=1)\n",
    "X1T=np.asarray(X1T)\n",
    "Y1T=np.asarray(Y1T)\n",
    "Z1T=np.asarray(Z1T)\n",
    "X2T=np.asarray(X2T)\n",
    "Y2T=np.asarray(Y2T)\n",
    "Z2T=np.asarray(Z2T)"
   ]
  },
  {
   "cell_type": "code",
   "execution_count": null,
   "metadata": {},
   "outputs": [],
   "source": []
  },
  {
   "cell_type": "code",
   "execution_count": null,
   "metadata": {},
   "outputs": [],
   "source": []
  },
  {
   "cell_type": "code",
   "execution_count": 49,
   "metadata": {},
   "outputs": [
    {
     "data": {
      "image/png": "[encoded data removed]",
      "text/plain": [
       "<Figure size 864x432 with 2 Axes>"
      ]
     },
     "metadata": {
      "needs_background": "light"
     },
     "output_type": "display_data"
    }
   ],
   "source": [
    "#X-Z plots\n",
    "theta_y=0.95\n",
    "phi_y=np.pi/4\n",
    "X_plot=np.sin(theta_y)*np.cos(phi_y)\n",
    "Y_plot=np.sin(theta_y)*np.sin(phi_y)\n",
    "Z_plot=np.cos(theta_y)\n",
    "aux=[-1, 1]\n",
    "fig, (ax1, ax2) = plt.subplots(1, 2, sharey=True, figsize=[12, 6])\n",
    "#ax=fig.add_subplot(111)\n",
    "ax1.scatter(Z_p[Y_p>0], X_p[Y_p>0], s=25, color='red')\n",
    "ax2.scatter(Z_p[Y_p<0], X_p[Y_p<0], s=25, color='red')\n",
    "\"\"\"if Y_plot>0:\n",
    "    ax1.scatter(Z_plot, X_plot, s=20, color='purple')\n",
    "else:\n",
    "    ax2.scatter(Z_plot, X_plot, s=20, color='purple')\n",
    "plt.plot(aux, aux)\"\"\"\n",
    "#ax1.scatter(initial_points[:,2][initial_points[:,1]>0], initial_points[:,0][initial_points[:,1]>0], s=10, color='blue')\n",
    "#ax2.scatter(initial_points[:,2][initial_points[:,1]<0], initial_points[:,0][initial_points[:,1]<0], s=10, color='blue')\n",
    "#Plot the two diverging trajectories, useful for debugging\n",
    "\"\"\"k_path=90\n",
    "X1P=X1T[k_path,:]\n",
    "Y1P=Y1T[k_path,:]\n",
    "Z1P=Z1T[k_path,:]\n",
    "X2P=X2T[k_path,:]\n",
    "Y2P=Y2T[k_path,:]\n",
    "Z2P=Z2T[k_path,:]\n",
    "ax1.scatter(Z1P[Y1P>0],X1P[Y1P>0],s=10, color='black')\n",
    "ax2.scatter(Z1P[Y1P<0],X1P[Y1P<0],s=10, color='black')\n",
    "ax1.scatter(Z2P[Y2P>0],X2P[Y2P>0],s=10, color='purple')\n",
    "ax2.scatter(Z2P[Y2P<0],X2P[Y2P<0],s=10, color='purple')\"\"\"\n",
    "#ax1.scatter(auxZ[auxY>0], auxX[auxY>0], s=2, label=\"Y>0 hemisphere\")\n",
    "#ax2.scatter(auxZ[auxY<0], auxX[auxY<0], s=2, label=\"Y<0 hemisphere\")\n",
    "ax1.set_xlabel(\"Z\")\n",
    "ax2.set_xlabel(\"Z\")\n",
    "ax1.set_ylabel(\"X\")\n",
    "ax1.axis('square')\n",
    "ax2.axis('square')\n",
    "ax1.text(0.7, 0.9, r\"$Y>0$\")\n",
    "ax2.text(0.7, 0.9, r\"$Y<0$\")\n",
    "#ax1.text(-1.6, 1, \"(d)\")\n",
    "plt.show()\n",
    "np.savetxt(\"CKT_Reg.txt\", np.c_[X_p, Y_p, Z_p])\n",
    "#np.savetxt(\"CKT_Chaos.txt\", np.c_[X_p, Y_p, Z_p])"
   ]
  },
  {
   "cell_type": "code",
   "execution_count": null,
   "metadata": {},
   "outputs": [],
   "source": []
  },
  {
   "cell_type": "code",
   "execution_count": null,
   "metadata": {},
   "outputs": [],
   "source": []
  },
  {
   "cell_type": "code",
   "execution_count": null,
   "metadata": {},
   "outputs": [],
   "source": []
  },
  {
   "cell_type": "code",
   "execution_count": null,
   "metadata": {},
   "outputs": [],
   "source": []
  },
  {
   "cell_type": "code",
   "execution_count": null,
   "metadata": {},
   "outputs": [],
   "source": []
  },
  {
   "cell_type": "code",
   "execution_count": null,
   "metadata": {},
   "outputs": [],
   "source": []
  }
 ],
 "metadata": {
  "kernelspec": {
   "display_name": "Python 3",
   "language": "python",
   "name": "python3"
  },
  "language_info": {
   "codemirror_mode": {
    "name": "ipython",
    "version": 3
   },
   "file_extension": ".py",
   "mimetype": "text/x-python",
   "name": "python",
   "nbconvert_exporter": "python",
   "pygments_lexer": "ipython3",
   "version": "3.7.6"
  }
 },
 "nbformat": 4,
 "nbformat_minor": 4
}
