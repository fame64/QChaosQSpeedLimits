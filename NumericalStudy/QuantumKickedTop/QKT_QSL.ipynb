{
 "cells": [
  {
   "cell_type": "code",
   "execution_count": 30,
   "metadata": {},
   "outputs": [],
   "source": [
    "import numpy as np\n",
    "import numba\n",
    "from numba.types import *\n",
    "from numba import prange\n",
    "import matplotlib.pyplot as plt\n",
    "from numpy.linalg import eig, multi_dot, inv\n",
    "from numpy import sin\n",
    "from numpy import pi\n",
    "from scipy.optimize import curve_fit\n",
    "from scipy.linalg import schur\n",
    "import matplotlib\n",
    "matplotlib.rcParams['mathtext.fontset'] = 'stix'\n",
    "matplotlib.rcParams['font.family'] = 'STIXGeneral'\n",
    "matplotlib.rcParams['font.size']=20\n",
    "from scipy.linalg import expm\n",
    "from numpy.linalg import matrix_power\n",
    "from scipy.stats import linregress"
   ]
  },
  {
   "cell_type": "code",
   "execution_count": 31,
   "metadata": {},
   "outputs": [],
   "source": [
    "S=200\n",
    "dim=int(2*S+1)\n",
    "τ=1\n",
    "k=6\n",
    "p=np.pi/2\n",
    "i=complex(0, 1)\n",
    "basis = np.identity(dim)\n",
    "N_av=100\n"
   ]
  },
  {
   "cell_type": "code",
   "execution_count": 32,
   "metadata": {},
   "outputs": [],
   "source": [
    "#Definition of the ladder operators\n",
    "@numba.jit(numba.types.Tuple((float64, float64[:]))(float64[:], float64), nopython=True, fastmath=True, parallel=False)\n",
    "def S_p(ket, S):\n",
    "    site= np.argmax(ket)\n",
    "    m=site-S\n",
    "    ket_out=np.zeros(dim)\n",
    "    if site== 2*S:\n",
    "        coef=0\n",
    "        return (coef, ket_out)\n",
    "    else:\n",
    "        coef=np.sqrt(S*(S+1)-m*(m+1))\n",
    "        ket_out[site+1]= 1\n",
    "        return (coef, ket_out)\n",
    "@numba.jit(numba.types.Tuple((float64, float64[:]))(float64[:], float64), nopython=True, fastmath=True, parallel=False)\n",
    "def S_m(ket, S):\n",
    "    site= np.argmax(ket)\n",
    "    m=site-S\n",
    "    ket_out=np.zeros(dim)\n",
    "    if site== 0:\n",
    "        coef=0\n",
    "        return (coef, ket_out)\n",
    "    else:\n",
    "        coef= np.sqrt(S*(S+1)-m*(m-1))\n",
    "        ket_out[site-1]= 1\n",
    "        return (coef, ket_out)"
   ]
  },
  {
   "cell_type": "code",
   "execution_count": 33,
   "metadata": {},
   "outputs": [],
   "source": [
    "@numba.jit(float64(float64[:], float64[:]), nopython=True, fastmath=True, parallel=False)\n",
    "def braket(bra, ket):\n",
    "    if np.all(bra== ket):\n",
    "        return 1\n",
    "    else:\n",
    "        return 0"
   ]
  },
  {
   "cell_type": "code",
   "execution_count": 34,
   "metadata": {},
   "outputs": [],
   "source": [
    "LOOKUP_TABLE = np.array([\n",
    "    1, 1, 2, 6, 24, 120, 720, 5040, 40320,\n",
    "    362880, 3628800, 39916800, 479001600,\n",
    "    6227020800, 87178291200, 1307674368000,\n",
    "    20922789888000, 355687428096000, 6402373705728000,\n",
    "    121645100408832000, 2432902008176640000], dtype='int64')\n",
    "\n",
    "@numba.jit(float64(int64), nopython=True, fastmath=True, parallel=False)\n",
    "def fast_log_factorial(n):\n",
    "    if n<20:\n",
    "        return np.log(LOOKUP_TABLE[n])\n",
    "    else:\n",
    "        #stirling approx\n",
    "        return n*np.log(n)-n+ 0.5*np.log(2*np.pi*n)\n",
    "        #return n*np.log(n)-n+ 0.5*np.log(2*np.pi*n)+ 1/(12*n)-1/(360*n**3)"
   ]
  },
  {
   "cell_type": "code",
   "execution_count": 35,
   "metadata": {},
   "outputs": [],
   "source": [
    "@numba.jit(float64[:,:](float64[:, :], float64), nopython=True, fastmath=True, parallel=False)\n",
    "def Compute_Sx(basis, S):\n",
    "    dim=int(2*S+1)\n",
    "    Sx=np.zeros((dim, dim))\n",
    "    for j in range(dim):\n",
    "        for k in range(dim):\n",
    "            ket=basis[j, :]\n",
    "            bra=basis[k, :]\n",
    "            coef_p, S_p_ket=S_p(ket, S)\n",
    "            coef_m, S_m_ket=S_m(ket, S)\n",
    "            result_p=braket(bra, S_p_ket)\n",
    "            result_m=braket(bra, S_m_ket)\n",
    "            Sx[j, k]=(coef_p*result_p+ coef_m*result_m)/2\n",
    "    return Sx\n",
    "\n",
    "@numba.jit(complex128[:,:](float64[:, :], float64), nopython=True, fastmath=True, parallel=False)\n",
    "def Compute_Sy(basis, S):\n",
    "    dim=int(2*S+1)\n",
    "    Sy=np.zeros((dim, dim), dtype=complex128)\n",
    "    i=complex(0,1)\n",
    "    for j in range(dim):\n",
    "        for k in range(dim):\n",
    "            ket=basis[j, :]\n",
    "            bra=basis[k, :]\n",
    "            coef_p, S_p_ket=S_p(ket, S)\n",
    "            coef_m, S_m_ket=S_m(ket, S)\n",
    "            result_p=braket(bra, S_p_ket)\n",
    "            result_m=braket(bra, S_m_ket)\n",
    "            Sy[j, k]=-i*(coef_p*result_p- coef_m*result_m)/2\n",
    "    return Sy\n",
    "\n",
    "@numba.jit(float64[:,:](float64), nopython=True, fastmath=True, parallel=False)\n",
    "def Compute_Sz(S):\n",
    "    dim=int(2*S+1)\n",
    "    Sz=np.zeros((dim, dim))\n",
    "    for j in range(dim):\n",
    "        m=j-S\n",
    "        Sz[dim-1-j, dim-1-j]=m\n",
    "    return Sz"
   ]
  },
  {
   "cell_type": "code",
   "execution_count": 36,
   "metadata": {},
   "outputs": [],
   "source": [
    "#Take into account that z is complex\n",
    "@numba.jit(complex128[:](float64, complex128), nopython=True, fastmath=True, parallel=False)\n",
    "def define_zeta(S, z):\n",
    "    dim=int(2*S+1)\n",
    "    ket_z=np.zeros(dim, dtype=complex128)\n",
    "    for k in range(dim):\n",
    "        m=k-S\n",
    "        aux1=fast_log_factorial(int(2*S)) #aux1= log((2S)!)\n",
    "        aux2=fast_log_factorial(int(S+m)) #aux2= log((S+m)!)\n",
    "        aux3=fast_log_factorial(int(S-m)) #aux3= log((S-m)!)\n",
    "        #ket_z[j]=np.sqrt(aux1/(aux2*aux3))*z**(S+m)/(1 + (np.abs(z))**2)**S\n",
    "        #To deal with big numbers we introduce the log \n",
    "        #of the factorial, compute the division of them and afterwards we exponentiate\n",
    "        ket_z[k]=np.exp((aux1-aux2-aux3)/2)*z**(S+m)/((1 + (np.abs(z))**2)**S) \n",
    "    norm= np.sqrt(np.conjugate(ket_z)@ket_z)\n",
    "    return ket_z/norm\n",
    "def linear(x, m,n):\n",
    "    return m*x+n"
   ]
  },
  {
   "cell_type": "code",
   "execution_count": 37,
   "metadata": {},
   "outputs": [
    {
     "name": "stderr",
     "output_type": "stream",
     "text": [
      "<ipython-input-37-319c65f15535>:3: NumbaPerformanceWarning: \u001b[1m\u001b[1m'@' is faster on contiguous arrays, called on (array(complex128, 1d, C), array(complex128, 1d, A))\u001b[0m\u001b[0m\n",
      "  return (np.abs(np.conjugate(psi0)@U_n@psi0))**2\n",
      "<ipython-input-37-319c65f15535>:3: NumbaPerformanceWarning: \u001b[1m\u001b[1m'@' is faster on contiguous arrays, called on (array(complex128, 1d, C), array(complex128, 2d, A))\u001b[0m\u001b[0m\n",
      "  return (np.abs(np.conjugate(psi0)@U_n@psi0))**2\n",
      "/home/pablo/anaconda3/lib/python3.7/site-packages/numba/typing/npydecl.py:958: NumbaPerformanceWarning: \u001b[1m'@' is faster on contiguous arrays, called on (array(complex128, 1d, C), array(complex128, 2d, A))\u001b[0m\n",
      "  warnings.warn(NumbaPerformanceWarning(msg))\n",
      "/home/pablo/anaconda3/lib/python3.7/site-packages/numba/typing/npydecl.py:958: NumbaPerformanceWarning: \u001b[1m'@' is faster on contiguous arrays, called on (array(complex128, 1d, C), array(complex128, 1d, A))\u001b[0m\n",
      "  warnings.warn(NumbaPerformanceWarning(msg))\n"
     ]
    }
   ],
   "source": [
    "@numba.njit(float64(complex128[:,:], complex128[:]))\n",
    "def computeFidelity(U_n, psi0):\n",
    "    return (np.abs(np.conjugate(psi0)@U_n@psi0))**2\n",
    "#@numba.njit(float64(float64, float64, complex128[:,:], complex128[:,:], complex128[:,:], complex128[:]))\n",
    "def avE_Semianalytic(p, k_tilde, Sx, Sz, chi, coefchi):\n",
    "    eps_n=np.zeros(dim)\n",
    "    aux=p*Sx+k_tilde*Sz@Sz\n",
    "    for n in range(dim):\n",
    "        eps_n[n]=np.conjugate(chi[:,n])@aux@chi[:,n]\n",
    "    avE=np.sum((np.abs(coefchi))**2*eps_n)\n",
    "    return avE\n",
    "#@numba.njit(float64(float64, float64, complex128[:,:], complex128[:,:], complex128[:,:], complex128[:]))\n",
    "def stdE_Semianalytic(p, k_tilde, Sx, Sz, chi, coefchi):\n",
    "    eps2_n=np.zeros(dim)\n",
    "    aux2=p**2*Sx@Sx/2+k_tilde**2*Sz@Sz@Sz@Sz+p*k_tilde*Sx@Sz@Sz\n",
    "    for n in range(dim):\n",
    "        eps2_n[n]=np.conjugate(chi[:,n])@aux2@chi[:,n]\n",
    "    avE2=np.sum((np.abs(coefchi))**2*eps2_n)\n",
    "    avE=avE_Semianalytic(p, k_tilde, Sx, Sz, chi, coefchi)\n",
    "    return np.sqrt(avE2-avE**2)\n",
    "#@numba.njit()\n",
    "def compute_tQSL(E, F_t, coefchi, p, k_tilde, Sx, Sz, chi):\n",
    "    L=np.arccos(np.sqrt(F_t))\n",
    "    avE=np.sum((np.abs(coefchi))**2*E)\n",
    "    stdE=np.sum((np.abs(coefchi))**2*E**2)\n",
    "    stdE=np.sqrt(stdE-avE**2)\n",
    "    avE_analyt=avE_Semianalytic(p, k_tilde, Sx, Sz, chi, coefchi)-np.min(E)\n",
    "    stdE_analyt=stdE_Semianalytic(p, k_tilde, Sx, Sz, chi, coefchi)\n",
    "    avE=avE-np.min(E)\n",
    "    minMTML=np.min(np.asarray([avE, stdE]))\n",
    "    minMTML_analyt=np.min(np.asarray([avE_analyt, stdE_analyt]))\n",
    "    return np.real(L/minMTML), np.real(L/minMTML_analyt)\n"
   ]
  },
  {
   "cell_type": "code",
   "execution_count": 38,
   "metadata": {},
   "outputs": [],
   "source": [
    "Sx=np.zeros((dim, dim))\n",
    "Sy=np.zeros((dim, dim), dtype=complex)\n",
    "Sx=Compute_Sx(basis, S)\n",
    "Sy=Compute_Sy(basis, S) #I've checked that for S=1/2, 1, 3/2 the results are the expected ones\n",
    "Sz=Compute_Sz(S)"
   ]
  },
  {
   "cell_type": "code",
   "execution_count": 39,
   "metadata": {},
   "outputs": [],
   "source": [
    "#FLoquet op. definition\n",
    "U=expm(- i*k*Sz@Sz/(2*S))@expm(-i*p*Sy)\n",
    "eigval, chi=eig(U)\n",
    "eps=np.log(eigval)/i"
   ]
  },
  {
   "cell_type": "code",
   "execution_count": 40,
   "metadata": {},
   "outputs": [
    {
     "name": "stderr",
     "output_type": "stream",
     "text": [
      "/home/pablo/anaconda3/lib/python3.7/site-packages/ipykernel_launcher.py:9: ComplexWarning: Casting complex values to real discards the imaginary part\n",
      "  if __name__ == '__main__':\n",
      "/home/pablo/anaconda3/lib/python3.7/site-packages/ipykernel_launcher.py:17: ComplexWarning: Casting complex values to real discards the imaginary part\n"
     ]
    }
   ],
   "source": [
    "t_max=30\n",
    "t_arr=np.arange(0,t_max, 1)\n",
    "n_t=len(t_arr)\n",
    "F_arr=np.zeros(n_t)\n",
    "θ_coh=0.8\n",
    "ϕ_coh=np.pi/2\n",
    "z=np.exp(i*ϕ_coh)*np.tan(θ_coh/2)\n",
    "psi0=define_zeta(S,z)\n",
    "psi0_chi=chi@psi0\n",
    "U_n=np.identity(dim, dtype=complex)\n",
    "for m in range(n_t):\n",
    "    F_arr[m]=computeFidelity(U_n, psi0)\n",
    "    U_n=U_n@U\n",
    "tQSL, tQSL_analyt=compute_tQSL(eps, F_arr, psi0_chi, p, k/(2*S), Sx, Sz, chi)\n",
    "L=np.arccos(np.sqrt(F_arr))\n",
    "dL=np.zeros(n_t)\n",
    "dF=np.zeros(n_t)\n",
    "for k in range(1, n_t):\n",
    "    dL[k]=L[k]-L[k-1]\n",
    "    dF[k]=F_arr[k]-F_arr[k-1]"
   ]
  },
  {
   "cell_type": "code",
   "execution_count": 41,
   "metadata": {},
   "outputs": [],
   "source": [
    "#print(F_arr)"
   ]
  },
  {
   "cell_type": "code",
   "execution_count": 42,
   "metadata": {},
   "outputs": [
    {
     "data": {
      "text/plain": [
       "\"plt.figure()\\nplt.scatter(t_arr, np.abs(2*np.sqrt(F_arr)*dL))\\nplt.plot(t_arr, 1/tQSL*np.sqrt(1-F_arr))\\nplt.yscale('log')\\nplt.ylim(1e-4, 2)\\nplt.show()\""
      ]
     },
     "execution_count": 42,
     "metadata": {},
     "output_type": "execute_result"
    }
   ],
   "source": [
    "\"\"\"plt.figure()\n",
    "plt.scatter(t_arr, np.abs(2*np.sqrt(F_arr)*dL))\n",
    "plt.plot(t_arr, 1/tQSL*np.sqrt(1-F_arr))\n",
    "plt.yscale('log')\n",
    "plt.ylim(1e-4, 2)\n",
    "plt.show()\"\"\""
   ]
  },
  {
   "cell_type": "code",
   "execution_count": 45,
   "metadata": {},
   "outputs": [
    {
     "data": {
      "image/png": "[encoded data removed]",
      "text/plain": [
       "<Figure size 432x288 with 1 Axes>"
      ]
     },
     "metadata": {
      "needs_background": "light"
     },
     "output_type": "display_data"
    }
   ],
   "source": [
    "plt.figure()\n",
    "plt.scatter(t_arr, np.abs(dF), color='red')\n",
    "plt.plot(t_arr, (1-F_arr)/tQSL, color='black', ls='--', label=r\"$\\frac{1-F(t)}{\\tau_\\mathrm{QSL}}$\")\n",
    "#plt.plot(t_arr, (1-F_arr)/tQSL_analyt, color='blue', ls='-.', label=r\"$\\frac{1-F(t)}{\\tau_\\mathrm{QSL}}$\")\n",
    "#plt.yscale('log')\n",
    "plt.legend()\n",
    "plt.ylabel(r\"$\\left|\\Delta F/\\tau_p\\right|$\")\n",
    "plt.xlabel(\"$t$\")\n",
    "plt.show()"
   ]
  },
  {
   "cell_type": "code",
   "execution_count": 61,
   "metadata": {},
   "outputs": [
    {
     "data": {
      "image/png": "[encoded data removed]",
      "text/plain": [
       "<Figure size 432x288 with 2 Axes>"
      ]
     },
     "metadata": {
      "needs_background": "light"
     },
     "output_type": "display_data"
    }
   ],
   "source": [
    "fig, ax1 = plt.subplots()\n",
    "\n",
    "# These are in unitless percentages of the figure size. (0,0 is bottom left)\n",
    "left, bottom, width, height = [0.4, 0.3, 0.45, 0.4]\n",
    "ax2 = fig.add_axes([left, bottom, width, height])\n",
    "\n",
    "#plt.figure()\n",
    "ax1.scatter(t_arr, np.abs(dF), color='red')\n",
    "ax1.plot(t_arr, (1-F_arr)/tQSL, color='black', ls='--', label=r\"$\\frac{1-F(t)}{\\tau_\\mathrm{QSL}}$\")\n",
    "ax2.scatter(t_arr, np.abs(dF), color='red')\n",
    "ax2.plot(t_arr, (1-F_arr)/tQSL, color='black', ls='--')\n",
    "ax2.set_yscale('log')\n",
    "#plt.plot(t_arr, (1-F_arr)/tQSL_analyt, color='blue', ls='-.', label=r\"$\\frac{1-F(t)}{\\tau_\\mathrm{QSL}}$\")\n",
    "#plt.yscale('log')\n",
    "#ax1.legend()\n",
    "ax1.set_ylabel(r\"$\\left|\\Delta F/\\tau_p\\right|$\")\n",
    "ax1.set_xlabel(\"$t$\")\n",
    "plt.show()"
   ]
  },
  {
   "cell_type": "code",
   "execution_count": null,
   "metadata": {},
   "outputs": [],
   "source": []
  },
  {
   "cell_type": "code",
   "execution_count": null,
   "metadata": {},
   "outputs": [],
   "source": []
  },
  {
   "cell_type": "code",
   "execution_count": null,
   "metadata": {},
   "outputs": [],
   "source": []
  }
 ],
 "metadata": {
  "kernelspec": {
   "display_name": "Python 3",
   "language": "python",
   "name": "python3"
  },
  "language_info": {
   "codemirror_mode": {
    "name": "ipython",
    "version": 3
   },
   "file_extension": ".py",
   "mimetype": "text/x-python",
   "name": "python",
   "nbconvert_exporter": "python",
   "pygments_lexer": "ipython3",
   "version": "3.7.6"
  }
 },
 "nbformat": 4,
 "nbformat_minor": 4
}
