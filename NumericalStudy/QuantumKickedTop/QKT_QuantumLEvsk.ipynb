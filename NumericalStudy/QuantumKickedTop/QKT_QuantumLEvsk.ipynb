{
 "cells": [
  {
   "cell_type": "markdown",
   "metadata": {},
   "source": [
    "# Quantum Kicked Top"
   ]
  },
  {
   "cell_type": "markdown",
   "metadata": {},
   "source": [
    "Study of the Quantum Kicked top based on Haake's 1987 paper. The main difference is that we do not use a Loschmidt and therefore we don't need another perturbation. Just the perturbation term in the Hamiltonian. Our hamiltonian is \n",
    "$$H(t) = \\frac{\\hbar p}{\\tau} J_y + \\frac{\\hbar k}{2 j} J_z^2 \\sum_{n=-\\infty}^{\\infty} \\delta (t - n \\tau)$$\n",
    "The corresponding Floquet operator is\n",
    "$$U = e^{-i k J^2_z/2 j } e^{-i p J_y}$$\n",
    "There are mainly two possible ways, we can diagonalize numerically the Floquet operator, find its eigenstates and from there compute the relevant quantities. A more analytical approach would follow equations (5.5)... on Haake's paper. \n",
    "The code here mostly follows the previous QKT_Sim code"
   ]
  },
  {
   "cell_type": "markdown",
   "metadata": {},
   "source": [
    "First of all we define the Basis in which we will be working\n",
    "$$\\mathfrak{B} = \\{|S, -S\\rangle, |S, -S+ 1 \\rangle , ... , |S, S \\rangle\\}$$\n",
    "Our first task is to compute the $S_x$ and $S_y$ operators in this basis, which can be obtained simply with the ladder operators as\n",
    "$$S_x = \\frac{S_+ - S_y}{2} \\qquad S_y = - \\frac{i(S_+ - S_-)}{2}$$\n",
    "and the action of these operators on a ket of the basis is just\n",
    "$$S_+ |S, m \\rangle = \\hbar \\sqrt{S(S+1) - m (m+1)}|S, m+1 \\rangle \\quad S_- |S, m \\rangle = \\hbar \\sqrt{S(S+1) - m (m-1)}|S, m-1 \\rangle $$"
   ]
  },
  {
   "cell_type": "code",
   "execution_count": 1,
   "metadata": {},
   "outputs": [],
   "source": [
    "import numpy as np\n",
    "import numba\n",
    "from numba.types import *\n",
    "from numba import prange\n",
    "import matplotlib.pyplot as plt\n",
    "from numpy.linalg import eig, multi_dot, inv\n",
    "from numpy import sin\n",
    "from numpy import pi\n",
    "from scipy.optimize import curve_fit\n",
    "from scipy.linalg import schur\n",
    "import matplotlib\n",
    "matplotlib.rcParams['mathtext.fontset'] = 'stix'\n",
    "matplotlib.rcParams['font.family'] = 'STIXGeneral'\n",
    "matplotlib.rcParams['font.size']=20\n",
    "from scipy.linalg import expm\n",
    "from numpy.linalg import matrix_power\n",
    "from scipy.stats import linregress"
   ]
  },
  {
   "cell_type": "code",
   "execution_count": 2,
   "metadata": {},
   "outputs": [],
   "source": [
    "S=100\n",
    "dim=int(2*S+1)\n",
    "τ=1\n",
    "k=5\n",
    "p=np.pi/2\n",
    "i=complex(0, 1)\n",
    "basis = np.identity(dim)\n",
    "N_av=100\n",
    "h_eff=1/(S)"
   ]
  },
  {
   "cell_type": "code",
   "execution_count": null,
   "metadata": {},
   "outputs": [],
   "source": []
  },
  {
   "cell_type": "code",
   "execution_count": 3,
   "metadata": {},
   "outputs": [],
   "source": [
    "#Definition of the ladder operators\n",
    "@numba.jit(numba.types.Tuple((float64, float64[:]))(float64[:], float64), nopython=True, fastmath=True, parallel=False)\n",
    "def S_p(ket, S):\n",
    "    site= np.argmax(ket)\n",
    "    m=site-S\n",
    "    ket_out=np.zeros(dim)\n",
    "    if site== 2*S:\n",
    "        coef=0\n",
    "        return (coef, ket_out)\n",
    "    else:\n",
    "        coef=np.sqrt(S*(S+1)-m*(m+1))\n",
    "        ket_out[site+1]= 1\n",
    "        return (coef, ket_out)\n",
    "@numba.jit(numba.types.Tuple((float64, float64[:]))(float64[:], float64), nopython=True, fastmath=True, parallel=False)\n",
    "def S_m(ket, S):\n",
    "    site= np.argmax(ket)\n",
    "    m=site-S\n",
    "    ket_out=np.zeros(dim)\n",
    "    if site== 0:\n",
    "        coef=0\n",
    "        return (coef, ket_out)\n",
    "    else:\n",
    "        coef= np.sqrt(S*(S+1)-m*(m-1))\n",
    "        ket_out[site-1]= 1\n",
    "        return (coef, ket_out)"
   ]
  },
  {
   "cell_type": "code",
   "execution_count": 4,
   "metadata": {},
   "outputs": [],
   "source": [
    "@numba.jit(float64(float64[:], float64[:]), nopython=True, fastmath=True, parallel=False)\n",
    "def braket(bra, ket):\n",
    "    if np.all(bra== ket):\n",
    "        return 1\n",
    "    else:\n",
    "        return 0"
   ]
  },
  {
   "cell_type": "code",
   "execution_count": 5,
   "metadata": {},
   "outputs": [],
   "source": [
    "LOOKUP_TABLE = np.array([\n",
    "    1, 1, 2, 6, 24, 120, 720, 5040, 40320,\n",
    "    362880, 3628800, 39916800, 479001600,\n",
    "    6227020800, 87178291200, 1307674368000,\n",
    "    20922789888000, 355687428096000, 6402373705728000,\n",
    "    121645100408832000, 2432902008176640000], dtype='int64')\n",
    "\n",
    "@numba.jit(float64(int64), nopython=True, fastmath=True, parallel=False)\n",
    "def fast_log_factorial(n):\n",
    "    if n<20:\n",
    "        return np.log(LOOKUP_TABLE[n])\n",
    "    else:\n",
    "        #stirling approx\n",
    "        return n*np.log(n)-n+ 0.5*np.log(2*np.pi*n)\n",
    "        #return n*np.log(n)-n+ 0.5*np.log(2*np.pi*n)+ 1/(12*n)-1/(360*n**3)"
   ]
  },
  {
   "cell_type": "code",
   "execution_count": 6,
   "metadata": {},
   "outputs": [],
   "source": [
    "@numba.jit(float64[:,:](float64[:, :], float64), nopython=True, fastmath=True, parallel=False)\n",
    "def Compute_Sx(basis, S):\n",
    "    dim=int(2*S+1)\n",
    "    Sx=np.zeros((dim, dim))\n",
    "    for j in range(dim):\n",
    "        for k in range(dim):\n",
    "            ket=basis[j, :]\n",
    "            bra=basis[k, :]\n",
    "            coef_p, S_p_ket=S_p(ket, S)\n",
    "            coef_m, S_m_ket=S_m(ket, S)\n",
    "            result_p=braket(bra, S_p_ket)\n",
    "            result_m=braket(bra, S_m_ket)\n",
    "            Sx[j, k]=(coef_p*result_p+ coef_m*result_m)/2\n",
    "    return Sx\n",
    "\n",
    "@numba.jit(complex128[:,:](float64[:, :], float64), nopython=True, fastmath=True, parallel=False)\n",
    "def Compute_Sy(basis, S):\n",
    "    dim=int(2*S+1)\n",
    "    Sy=np.zeros((dim, dim), dtype=complex128)\n",
    "    i=complex(0,1)\n",
    "    for j in range(dim):\n",
    "        for k in range(dim):\n",
    "            ket=basis[j, :]\n",
    "            bra=basis[k, :]\n",
    "            coef_p, S_p_ket=S_p(ket, S)\n",
    "            coef_m, S_m_ket=S_m(ket, S)\n",
    "            result_p=braket(bra, S_p_ket)\n",
    "            result_m=braket(bra, S_m_ket)\n",
    "            Sy[j, k]=-i*(coef_p*result_p- coef_m*result_m)/2\n",
    "    return Sy\n",
    "\n",
    "@numba.jit(float64[:,:](float64), nopython=True, fastmath=True, parallel=False)\n",
    "def Compute_Sz(S):\n",
    "    dim=int(2*S+1)\n",
    "    Sz=np.zeros((dim, dim))\n",
    "    for j in range(dim):\n",
    "        m=j-S\n",
    "        Sz[dim-1-j, dim-1-j]=m\n",
    "    return Sz"
   ]
  },
  {
   "cell_type": "markdown",
   "metadata": {},
   "source": [
    "$\\textbf{Initial states}$\n",
    "\n",
    "Since our problem is a spin problem and for chaos we need a wavepacket distributed over all of the eigenstates we initialize our state in coherent states of the SU(2) group, given by eq (4.3.15) of Perelomov's book as\n",
    "$$|\\zeta \\rangle = \\sum_{m =- S}^S \\sqrt{\\frac{(2S)!}{(S + m)! (S- m)!}}(1 + |\\zeta|^2)^{-S} \\zeta^{S + m} |S, m \\rangle $$\n",
    "We can relate $\\zeta$ with the polar angles by \n",
    "$$\\zeta= e^{i \\varphi} \\tan \\frac{\\theta}{2}$$"
   ]
  },
  {
   "cell_type": "code",
   "execution_count": 7,
   "metadata": {},
   "outputs": [],
   "source": [
    "#Take into account that z is complex\n",
    "@numba.jit(complex128[:](float64, complex128), nopython=True, fastmath=True, parallel=False)\n",
    "def define_zeta(S, z):\n",
    "    dim=int(2*S+1)\n",
    "    ket_z=np.zeros(dim, dtype=complex128)\n",
    "    for k in range(dim):\n",
    "        m=k-S\n",
    "        aux1=fast_log_factorial(int(2*S)) #aux1= log((2S)!)\n",
    "        aux2=fast_log_factorial(int(S+m)) #aux2= log((S+m)!)\n",
    "        aux3=fast_log_factorial(int(S-m)) #aux3= log((S-m)!)\n",
    "        #ket_z[j]=np.sqrt(aux1/(aux2*aux3))*z**(S+m)/(1 + (np.abs(z))**2)**S\n",
    "        #To deal with big numbers we introduce the log \n",
    "        #of the factorial, compute the division of them and afterwards we exponentiate\n",
    "        ket_z[k]=np.exp((aux1-aux2-aux3)/2)*z**(S+m)/((1 + (np.abs(z))**2)**S) \n",
    "    norm= np.sqrt(np.conjugate(ket_z)@ket_z)\n",
    "    return ket_z/norm\n",
    "def linear(x, m,n):\n",
    "    return m*x+n"
   ]
  },
  {
   "cell_type": "markdown",
   "metadata": {},
   "source": [
    "$\\textbf{Floquet operator}$\n",
    "\n",
    "Now we compute the Floquet operator, given by\n",
    "$$U = e^{-i k J^2_z/2 j } e^{-i p J_y}$$\n",
    "Its diagonalization is\n",
    "$$U = \\xi \\tilde{\\lambda} \\xi^\\dagger$$\n",
    "where $\\xi$ is the eigenvectors matrix and $\\tilde{\\lambda}$ are the eignvalues $e^{i \\phi}$ in a diagonal matrix. The n-th evolution then is\n",
    "$$U^n = \\xi \\tilde{\\lambda}^n \\xi^\\dagger= \\xi e^{i n \\phi} \\xi^\\dagger$$"
   ]
  },
  {
   "cell_type": "code",
   "execution_count": 8,
   "metadata": {},
   "outputs": [],
   "source": [
    "Sx=np.zeros((dim, dim))\n",
    "Sy=np.zeros((dim, dim), dtype=complex)\n",
    "Sx=Compute_Sx(basis, S)\n",
    "Sy=Compute_Sy(basis, S) #I've checked that for S=1/2, 1, 3/2 the results are the expected ones\n",
    "Sz=Compute_Sz(S)"
   ]
  },
  {
   "cell_type": "code",
   "execution_count": 9,
   "metadata": {},
   "outputs": [],
   "source": [
    "tx=0\n",
    "ax=0\n",
    "ty=0\n",
    "ay=1\n",
    "#tz=10\n",
    "az=0\n",
    "n_points_k=50\n",
    "n_min=0\n",
    "n_max=30\n",
    "step_n=1\n",
    "n_array=np.arange(n_min, n_max, step_n)\n",
    "k_min=1\n",
    "k_max=20\n",
    "k_aux=np.linspace(np.log10(k_min), np.log10(k_max), n_points_k)\n",
    "k_arr=10**k_aux\n",
    "pseudoE=np.zeros((n_points_k, dim))\n",
    "s_list=np.zeros(n_points_k*(dim-1))\n",
    "#Z_beta=np.zeros(n_points_beta)\n",
    "#DeltaE_beta=np.zeros(n_points_beta)\n",
    "ind=0\n",
    "lyapvsk=np.zeros(n_points_k)\n",
    "sigma_lyap=np.zeros(n_points_k)\n",
    "W=Sx\n",
    "F_OTOC=np.zeros(len(n_array), dtype=complex)\n",
    "for j in range(n_points_k):\n",
    "    #U=expm(i*k_arr[j]*Sz@Sz/(2*S))@expm(-i*p*Sy)@expm(-i*k_arr[j]*Sz@Sz/(2*S))@expm(-i*p*Sy)\n",
    "    U=expm(-i*k_arr[j]*Sz@Sz/(2*S))@expm(-i*p*Sy)\n",
    "    #U=expm(i*p*Sz-i*k_arr[j]*Sz@Sz/(2*S))@expm(-i*p*Sy)\n",
    "    #U=expm(-i*k_arr[j]*Sz@Sz/dim-i*az*Sz)@expm(-i*ty*Sy@Sy/dim-i*ay*Sy)@expm(-i*tx*Sx@Sx/dim-i*ax*Sx)\n",
    "    U_n=matrix_power(U, n_array[0])\n",
    "    invU_n=inv(U_n)\n",
    "    for j_loop in range(len(n_array)):\n",
    "        W_t=invU_n@W@U_n\n",
    "        commX=Sx@W_t-W_t@Sx\n",
    "        commY=Sy@W_t-W_t@Sy\n",
    "        commZ=Sz@W_t-W_t@Sz\n",
    "        F_OTOC[j_loop]= -1/(2*S+1)*(np.trace(commX@commX)+np.trace(commY@commY)+np.trace(commZ@commZ))\n",
    "        U_n=U_n@matrix_power(U, step_n)\n",
    "        invU_n=invU_n@matrix_power(inv(U), step_n)\n",
    "    logF=np.log(F_OTOC)-np.log(F_OTOC[0])\n",
    "    cutoff=0.7*np.max(logF)\n",
    "    F_fit=np.abs(logF[logF<cutoff])\n",
    "    t_fit=n_array[logF<cutoff]\n",
    "    res=linregress(t_fit, F_fit)\n",
    "    lyapvsk[j]=res.slope\n",
    "    sigma_lyap[j]=res.stderr"
   ]
  },
  {
   "cell_type": "code",
   "execution_count": 10,
   "metadata": {},
   "outputs": [],
   "source": [
    "clLyap=np.loadtxt(\"ClassicalLyap.txt\") "
   ]
  },
  {
   "cell_type": "code",
   "execution_count": 14,
   "metadata": {},
   "outputs": [
    {
     "name": "stderr",
     "output_type": "stream",
     "text": [
      "/home/pablo/anaconda3/lib/python3.7/site-packages/ipykernel_launcher.py:8: RuntimeWarning: invalid value encountered in sqrt\n",
      "  \n"
     ]
    },
    {
     "data": {
      "image/png": "[encoded data removed]",
      "text/plain": [
       "<Figure size 432x288 with 1 Axes>"
      ]
     },
     "metadata": {
      "needs_background": "light"
     },
     "output_type": "display_data"
    }
   ],
   "source": [
    "#print(lyapvsk)\n",
    "k_c=np.linspace(k_min, k_max, 1000)\n",
    "fig=plt.figure()\n",
    "plt.scatter(k_arr/p, lyapvsk, color='red', label=r\"$\\lambda_\\mathrm{OTOC}$\")\n",
    "plt.errorbar(k_arr/p, lyapvsk, yerr=sigma_lyap, linestyle='None', capsize=2, color='red')\n",
    "plt.scatter(k_arr/p, 2*clLyap, color='green', label=r\"$2 \\lambda_\\mathrm{cl}$\")\n",
    "plt.plot(k_c/p, k_c, color='black', ls='--', label=r\"$\\lambda_\\mathrm{bound}$\")\n",
    "plt.plot(k_c/p, np.log(0.5*k_c+np.sqrt(0.25*k_c**2-1)), color='blue', ls='--', label=r\"$\\lambda_\\mathrm{saddle}$\")\n",
    "#plt.plot(k_c, np.log(k_c*np.abs(np.sin(p)))-1)\n",
    "#plt.xticks(ticks=np.asarray([1, 2, 5, 10]))\n",
    "plt.xscale('log')\n",
    "plt.xlim(k_min/p, k_max/p)\n",
    "plt.ylim(0,6)\n",
    "plt.ylabel(r\"$\\lambda(k)$\")\n",
    "plt.xlabel(r\"$k/p$\")\n",
    "#plt.vlines(4, 0, 6, alpha=0.4, label=r\"$\\tau_z=\\tau_x$\")\n",
    "#plt.xlim(1e-2, 20)\n",
    "plt.legend(labelspacing=0)\n",
    "plt.show()\n"
   ]
  },
  {
   "cell_type": "code",
   "execution_count": null,
   "metadata": {},
   "outputs": [],
   "source": []
  },
  {
   "cell_type": "code",
   "execution_count": null,
   "metadata": {},
   "outputs": [],
   "source": []
  },
  {
   "cell_type": "code",
   "execution_count": null,
   "metadata": {},
   "outputs": [],
   "source": []
  },
  {
   "cell_type": "code",
   "execution_count": null,
   "metadata": {},
   "outputs": [],
   "source": []
  },
  {
   "cell_type": "code",
   "execution_count": null,
   "metadata": {},
   "outputs": [],
   "source": []
  },
  {
   "cell_type": "code",
   "execution_count": null,
   "metadata": {},
   "outputs": [],
   "source": []
  },
  {
   "cell_type": "code",
   "execution_count": null,
   "metadata": {},
   "outputs": [],
   "source": []
  },
  {
   "cell_type": "code",
   "execution_count": null,
   "metadata": {},
   "outputs": [],
   "source": []
  },
  {
   "cell_type": "code",
   "execution_count": null,
   "metadata": {},
   "outputs": [],
   "source": []
  }
 ],
 "metadata": {
  "kernelspec": {
   "display_name": "Python 3",
   "language": "python",
   "name": "python3"
  },
  "language_info": {
   "codemirror_mode": {
    "name": "ipython",
    "version": 3
   },
   "file_extension": ".py",
   "mimetype": "text/x-python",
   "name": "python",
   "nbconvert_exporter": "python",
   "pygments_lexer": "ipython3",
   "version": "3.7.6"
  }
 },
 "nbformat": 4,
 "nbformat_minor": 4
}
